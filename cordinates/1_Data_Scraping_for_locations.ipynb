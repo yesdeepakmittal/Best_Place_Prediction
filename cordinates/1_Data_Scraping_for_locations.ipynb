{
  "nbformat": 4,
  "nbformat_minor": 0,
  "metadata": {
    "colab": {
      "name": "Coursera_Capstone_Segmenting_clus_neigh_toronto",
      "provenance": [],
      "authorship_tag": "ABX9TyNqqZ6hF/KMq6moFSM5+8+d"
    },
    "kernelspec": {
      "name": "python3",
      "display_name": "Python 3"
    }
  },
  "cells": [
    {
      "cell_type": "code",
      "metadata": {
        "id": "SNkjr9es-BFt",
        "colab_type": "code",
        "colab": {}
      },
      "source": [
        "import urllib.request,urllib.parse,urllib.error\n",
        "from bs4 import BeautifulSoup\n",
        "import ssl\n",
        "import requests\n",
        "import lxml.html as lh\n",
        "import pandas as pd"
      ],
      "execution_count": 71,
      "outputs": []
    },
    {
      "cell_type": "code",
      "metadata": {
        "id": "FU3SREML-1W3",
        "colab_type": "code",
        "colab": {}
      },
      "source": [
        "# ctx = ssl.create_default_context()\n",
        "# ctx.check_hostname = False\n",
        "# ctx.verify_mode = ssl.CERT_NONE"
      ],
      "execution_count": 72,
      "outputs": []
    },
    {
      "cell_type": "code",
      "metadata": {
        "id": "bYrXxHW6-76u",
        "colab_type": "code",
        "colab": {}
      },
      "source": [
        "#html = urllib.request.urlopen(url,context = ctx).read()\n",
        "#soup = BeautifulSoup(html,'lxml')\n",
        "\n",
        "#Retrieve all anchor tags\n",
        "#tags = soup.find('tr')\n",
        "#for tag in tags:\n",
        "#  print(tag.get('//tr',None))"
      ],
      "execution_count": 73,
      "outputs": []
    },
    {
      "cell_type": "code",
      "metadata": {
        "id": "xjg3N5F6CPzy",
        "colab_type": "code",
        "colab": {}
      },
      "source": [
        "#soup.get_text()"
      ],
      "execution_count": 74,
      "outputs": []
    },
    {
      "cell_type": "code",
      "metadata": {
        "id": "y1mfP-PV_Ir2",
        "colab_type": "code",
        "colab": {}
      },
      "source": [
        "#tags"
      ],
      "execution_count": 75,
      "outputs": []
    },
    {
      "cell_type": "code",
      "metadata": {
        "id": "hbvZYmxiBBNk",
        "colab_type": "code",
        "colab": {
          "base_uri": "https://localhost:8080/",
          "height": 35
        },
        "outputId": "1b85af62-2935-41f9-8a5b-f2f61be39208"
      },
      "source": [
        "url = input('Enter = ')\n",
        "response = requests.get(url)"
      ],
      "execution_count": 76,
      "outputs": [
        {
          "output_type": "stream",
          "text": [
            "Enter = https://en.wikipedia.org/wiki/List_of_postal_codes_of_Canada:_M\n"
          ],
          "name": "stdout"
        }
      ]
    },
    {
      "cell_type": "code",
      "metadata": {
        "id": "L6p98PalUzAL",
        "colab_type": "code",
        "colab": {
          "base_uri": "https://localhost:8080/",
          "height": 35
        },
        "outputId": "7377ecdc-b610-49c8-b118-424f3967bfea"
      },
      "source": [
        "response"
      ],
      "execution_count": 77,
      "outputs": [
        {
          "output_type": "execute_result",
          "data": {
            "text/plain": [
              "<Response [200]>"
            ]
          },
          "metadata": {
            "tags": []
          },
          "execution_count": 77
        }
      ]
    },
    {
      "cell_type": "code",
      "metadata": {
        "id": "ex1SD_0qUj5J",
        "colab_type": "code",
        "colab": {}
      },
      "source": [
        "doc = lh.fromstring(response.content)\n",
        "trs = doc.xpath('//tr') #All rows of a table"
      ],
      "execution_count": 78,
      "outputs": []
    },
    {
      "cell_type": "code",
      "metadata": {
        "id": "syrDi95qDo5p",
        "colab_type": "code",
        "colab": {
          "base_uri": "https://localhost:8080/",
          "height": 124
        },
        "outputId": "34b2f45c-f33d-4087-a1ac-c8b92d1e1cac"
      },
      "source": [
        "li=[]\n",
        "i=0\n",
        "\n",
        "for t in trs[0]: #accessing row_n = 1(header)\n",
        "    i+=1\n",
        "    name=t.text_content()\n",
        "    print ('%d:%s'%(i,name))\n",
        "    li.append((name,[]))"
      ],
      "execution_count": 79,
      "outputs": [
        {
          "output_type": "stream",
          "text": [
            "1:Postal Code\n",
            "\n",
            "2:Community\n",
            "\n",
            "3:Neighbourhood\n",
            "\n"
          ],
          "name": "stdout"
        }
      ]
    },
    {
      "cell_type": "code",
      "metadata": {
        "id": "M5MaAEqtBa9s",
        "colab_type": "code",
        "colab": {
          "base_uri": "https://localhost:8080/",
          "height": 35
        },
        "outputId": "479483bc-e0dd-4cbe-bd99-619e41a38be3"
      },
      "source": [
        "trs[1] #this row has 3 elements which can be accessed using .iterchildren()"
      ],
      "execution_count": 80,
      "outputs": [
        {
          "output_type": "execute_result",
          "data": {
            "text/plain": [
              "<Element tr at 0x7f37d40db868>"
            ]
          },
          "metadata": {
            "tags": []
          },
          "execution_count": 80
        }
      ]
    },
    {
      "cell_type": "code",
      "metadata": {
        "id": "ps2HaFbCJTZz",
        "colab_type": "code",
        "colab": {
          "base_uri": "https://localhost:8080/",
          "height": 35
        },
        "outputId": "c3f6b1ab-1c0a-441a-c92c-8b29f5708dc5"
      },
      "source": [
        "li"
      ],
      "execution_count": 81,
      "outputs": [
        {
          "output_type": "execute_result",
          "data": {
            "text/plain": [
              "[('Postal Code\\n', []), ('Community\\n', []), ('Neighbourhood\\n', [])]"
            ]
          },
          "metadata": {
            "tags": []
          },
          "execution_count": 81
        }
      ]
    },
    {
      "cell_type": "code",
      "metadata": {
        "id": "XpGSvhgu9ojv",
        "colab_type": "code",
        "colab": {
          "base_uri": "https://localhost:8080/",
          "height": 124
        },
        "outputId": "6178ea5e-5afe-49ed-83dd-c61f63aed395"
      },
      "source": [
        "for j in trs[1].iterchildren():\n",
        "    print(j.text_content())"
      ],
      "execution_count": 82,
      "outputs": [
        {
          "output_type": "stream",
          "text": [
            "M1A\n",
            "\n",
            "Not assigned\n",
            "\n",
            "Not assigned\n",
            "\n"
          ],
          "name": "stdout"
        }
      ]
    },
    {
      "cell_type": "code",
      "metadata": {
        "id": "08uemXnT-2BL",
        "colab_type": "code",
        "colab": {
          "base_uri": "https://localhost:8080/",
          "height": 35
        },
        "outputId": "3c8134f4-6075-4d49-a353-438e6592fafc"
      },
      "source": [
        "len(trs)"
      ],
      "execution_count": 83,
      "outputs": [
        {
          "output_type": "execute_result",
          "data": {
            "text/plain": [
              "185"
            ]
          },
          "metadata": {
            "tags": []
          },
          "execution_count": 83
        }
      ]
    },
    {
      "cell_type": "markdown",
      "metadata": {
        "id": "DmsRKrFkB9aS",
        "colab_type": "text"
      },
      "source": [
        "> * trs contains data about each row\n",
        "* Lenght of the table is 180 + 1 but len(trs){[0:181]} is returning 185 because the page has some other rows in the bottom also which is added in trs as well. \n",
        "* In the below code cell, we're using a trick\n",
        "> <pre>if len(T)!=3:\n",
        "      break</pre>\n",
        "It is because except the main table rows, other rows contains more data than 3 text items. When the rows of main table will be finished, this code iterates out of this loop. \n",
        "* **li** is the list of tuples where each tuple has an empty list\n",
        "> <pre>i = 0\n",
        "for t in T.iterchildren():\n",
        "      data=t.text_content() \n",
        "      li[i][1].append(data)\n",
        "      i += 1</pre>\n",
        "* Above code is used to append in the list <pre>[('Postal Code\\n', [here]), ('Community\\n', [here]), ('Neighbourhood\\n', [here])]</pre> at an index $(0,1,2)$ for each value of trs. "
      ]
    },
    {
      "cell_type": "code",
      "metadata": {
        "id": "iB_c1WETDufi",
        "colab_type": "code",
        "colab": {}
      },
      "source": [
        "for j in range(1,len(trs)):\n",
        "    T=trs[j]\n",
        "    if len(T)!=3:\n",
        "        break\n",
        "    \n",
        "    i=0\n",
        "    for t in T.iterchildren():\n",
        "        data=t.text_content() \n",
        "        li[i][1].append(data)\n",
        "        i+=1"
      ],
      "execution_count": 84,
      "outputs": []
    },
    {
      "cell_type": "markdown",
      "metadata": {
        "id": "WMXCo73sKZnr",
        "colab_type": "text"
      },
      "source": [
        "li now is\n",
        "<pre>[('Postal Code\\n',['M1A','M2A'...]),('Community\\n',['NA','North York'..]),...]"
      ]
    },
    {
      "cell_type": "code",
      "metadata": {
        "id": "9P430ohVEFBR",
        "colab_type": "code",
        "colab": {}
      },
      "source": [
        "d={key:value for (key,value) in li}\n",
        "df=pd.DataFrame(d)"
      ],
      "execution_count": 85,
      "outputs": []
    },
    {
      "cell_type": "code",
      "metadata": {
        "id": "82fQwWJFEJJR",
        "colab_type": "code",
        "colab": {
          "base_uri": "https://localhost:8080/",
          "height": 200
        },
        "outputId": "c5204a9a-b5f2-47e0-9879-8172837f8c9f"
      },
      "source": [
        "df.head()"
      ],
      "execution_count": 86,
      "outputs": [
        {
          "output_type": "execute_result",
          "data": {
            "text/html": [
              "<div>\n",
              "<style scoped>\n",
              "    .dataframe tbody tr th:only-of-type {\n",
              "        vertical-align: middle;\n",
              "    }\n",
              "\n",
              "    .dataframe tbody tr th {\n",
              "        vertical-align: top;\n",
              "    }\n",
              "\n",
              "    .dataframe thead th {\n",
              "        text-align: right;\n",
              "    }\n",
              "</style>\n",
              "<table border=\"1\" class=\"dataframe\">\n",
              "  <thead>\n",
              "    <tr style=\"text-align: right;\">\n",
              "      <th></th>\n",
              "      <th>Postal Code\\n</th>\n",
              "      <th>Community\\n</th>\n",
              "      <th>Neighbourhood\\n</th>\n",
              "    </tr>\n",
              "  </thead>\n",
              "  <tbody>\n",
              "    <tr>\n",
              "      <th>0</th>\n",
              "      <td>M1A\\n</td>\n",
              "      <td>Not assigned\\n</td>\n",
              "      <td>Not assigned\\n</td>\n",
              "    </tr>\n",
              "    <tr>\n",
              "      <th>1</th>\n",
              "      <td>M2A\\n</td>\n",
              "      <td>Not assigned\\n</td>\n",
              "      <td>Not assigned\\n</td>\n",
              "    </tr>\n",
              "    <tr>\n",
              "      <th>2</th>\n",
              "      <td>M3A\\n</td>\n",
              "      <td>North York\\n</td>\n",
              "      <td>Parkwoods\\n</td>\n",
              "    </tr>\n",
              "    <tr>\n",
              "      <th>3</th>\n",
              "      <td>M4A\\n</td>\n",
              "      <td>North York\\n</td>\n",
              "      <td>Victoria Village\\n</td>\n",
              "    </tr>\n",
              "    <tr>\n",
              "      <th>4</th>\n",
              "      <td>M5A\\n</td>\n",
              "      <td>Downtown Toronto\\n</td>\n",
              "      <td>Regent Park, Harbourfront\\n</td>\n",
              "    </tr>\n",
              "  </tbody>\n",
              "</table>\n",
              "</div>"
            ],
            "text/plain": [
              "  Postal Code\\n         Community\\n              Neighbourhood\\n\n",
              "0         M1A\\n      Not assigned\\n               Not assigned\\n\n",
              "1         M2A\\n      Not assigned\\n               Not assigned\\n\n",
              "2         M3A\\n        North York\\n                  Parkwoods\\n\n",
              "3         M4A\\n        North York\\n           Victoria Village\\n\n",
              "4         M5A\\n  Downtown Toronto\\n  Regent Park, Harbourfront\\n"
            ]
          },
          "metadata": {
            "tags": []
          },
          "execution_count": 86
        }
      ]
    },
    {
      "cell_type": "code",
      "metadata": {
        "id": "APZ8kcuiEMT7",
        "colab_type": "code",
        "colab": {
          "base_uri": "https://localhost:8080/",
          "height": 200
        },
        "outputId": "7a776fb4-805b-449b-8995-454e37b90232"
      },
      "source": [
        "df = df.replace('\\n',' ', regex=True)\n",
        "df.head()"
      ],
      "execution_count": 87,
      "outputs": [
        {
          "output_type": "execute_result",
          "data": {
            "text/html": [
              "<div>\n",
              "<style scoped>\n",
              "    .dataframe tbody tr th:only-of-type {\n",
              "        vertical-align: middle;\n",
              "    }\n",
              "\n",
              "    .dataframe tbody tr th {\n",
              "        vertical-align: top;\n",
              "    }\n",
              "\n",
              "    .dataframe thead th {\n",
              "        text-align: right;\n",
              "    }\n",
              "</style>\n",
              "<table border=\"1\" class=\"dataframe\">\n",
              "  <thead>\n",
              "    <tr style=\"text-align: right;\">\n",
              "      <th></th>\n",
              "      <th>Postal Code\\n</th>\n",
              "      <th>Community\\n</th>\n",
              "      <th>Neighbourhood\\n</th>\n",
              "    </tr>\n",
              "  </thead>\n",
              "  <tbody>\n",
              "    <tr>\n",
              "      <th>0</th>\n",
              "      <td>M1A</td>\n",
              "      <td>Not assigned</td>\n",
              "      <td>Not assigned</td>\n",
              "    </tr>\n",
              "    <tr>\n",
              "      <th>1</th>\n",
              "      <td>M2A</td>\n",
              "      <td>Not assigned</td>\n",
              "      <td>Not assigned</td>\n",
              "    </tr>\n",
              "    <tr>\n",
              "      <th>2</th>\n",
              "      <td>M3A</td>\n",
              "      <td>North York</td>\n",
              "      <td>Parkwoods</td>\n",
              "    </tr>\n",
              "    <tr>\n",
              "      <th>3</th>\n",
              "      <td>M4A</td>\n",
              "      <td>North York</td>\n",
              "      <td>Victoria Village</td>\n",
              "    </tr>\n",
              "    <tr>\n",
              "      <th>4</th>\n",
              "      <td>M5A</td>\n",
              "      <td>Downtown Toronto</td>\n",
              "      <td>Regent Park, Harbourfront</td>\n",
              "    </tr>\n",
              "  </tbody>\n",
              "</table>\n",
              "</div>"
            ],
            "text/plain": [
              "  Postal Code\\n        Community\\n             Neighbourhood\\n\n",
              "0          M1A       Not assigned                Not assigned \n",
              "1          M2A       Not assigned                Not assigned \n",
              "2          M3A         North York                   Parkwoods \n",
              "3          M4A         North York            Victoria Village \n",
              "4          M5A   Downtown Toronto   Regent Park, Harbourfront "
            ]
          },
          "metadata": {
            "tags": []
          },
          "execution_count": 87
        }
      ]
    },
    {
      "cell_type": "code",
      "metadata": {
        "id": "dlsQMBl9VJ7s",
        "colab_type": "code",
        "colab": {
          "base_uri": "https://localhost:8080/",
          "height": 200
        },
        "outputId": "3f35c03f-a374-410a-9d85-1833dcbab71f"
      },
      "source": [
        "df.columns = ['Postal code','Borough','Neighborhood']\n",
        "df.head()"
      ],
      "execution_count": 88,
      "outputs": [
        {
          "output_type": "execute_result",
          "data": {
            "text/html": [
              "<div>\n",
              "<style scoped>\n",
              "    .dataframe tbody tr th:only-of-type {\n",
              "        vertical-align: middle;\n",
              "    }\n",
              "\n",
              "    .dataframe tbody tr th {\n",
              "        vertical-align: top;\n",
              "    }\n",
              "\n",
              "    .dataframe thead th {\n",
              "        text-align: right;\n",
              "    }\n",
              "</style>\n",
              "<table border=\"1\" class=\"dataframe\">\n",
              "  <thead>\n",
              "    <tr style=\"text-align: right;\">\n",
              "      <th></th>\n",
              "      <th>Postal code</th>\n",
              "      <th>Borough</th>\n",
              "      <th>Neighborhood</th>\n",
              "    </tr>\n",
              "  </thead>\n",
              "  <tbody>\n",
              "    <tr>\n",
              "      <th>0</th>\n",
              "      <td>M1A</td>\n",
              "      <td>Not assigned</td>\n",
              "      <td>Not assigned</td>\n",
              "    </tr>\n",
              "    <tr>\n",
              "      <th>1</th>\n",
              "      <td>M2A</td>\n",
              "      <td>Not assigned</td>\n",
              "      <td>Not assigned</td>\n",
              "    </tr>\n",
              "    <tr>\n",
              "      <th>2</th>\n",
              "      <td>M3A</td>\n",
              "      <td>North York</td>\n",
              "      <td>Parkwoods</td>\n",
              "    </tr>\n",
              "    <tr>\n",
              "      <th>3</th>\n",
              "      <td>M4A</td>\n",
              "      <td>North York</td>\n",
              "      <td>Victoria Village</td>\n",
              "    </tr>\n",
              "    <tr>\n",
              "      <th>4</th>\n",
              "      <td>M5A</td>\n",
              "      <td>Downtown Toronto</td>\n",
              "      <td>Regent Park, Harbourfront</td>\n",
              "    </tr>\n",
              "  </tbody>\n",
              "</table>\n",
              "</div>"
            ],
            "text/plain": [
              "  Postal code            Borough                Neighborhood\n",
              "0        M1A       Not assigned                Not assigned \n",
              "1        M2A       Not assigned                Not assigned \n",
              "2        M3A         North York                   Parkwoods \n",
              "3        M4A         North York            Victoria Village \n",
              "4        M5A   Downtown Toronto   Regent Park, Harbourfront "
            ]
          },
          "metadata": {
            "tags": []
          },
          "execution_count": 88
        }
      ]
    },
    {
      "cell_type": "code",
      "metadata": {
        "id": "s3wlmNTZMwmo",
        "colab_type": "code",
        "colab": {}
      },
      "source": [
        "df['Postal code'] = df['Postal code'].str.strip()\n",
        "df['Borough'] = df['Borough'].str.strip()\n",
        "df['Neighborhood'] = df['Neighborhood'].str.strip()"
      ],
      "execution_count": 89,
      "outputs": []
    },
    {
      "cell_type": "code",
      "metadata": {
        "id": "Gy-ZzGJpEaMo",
        "colab_type": "code",
        "colab": {
          "base_uri": "https://localhost:8080/",
          "height": 200
        },
        "outputId": "92204523-c0cf-4331-dc5b-a23186b67de5"
      },
      "source": [
        "df.drop(df.index[df['Borough'] == 'Not assigned'], inplace = True)\n",
        "df = df.reset_index(drop=True)\n",
        "df.head()"
      ],
      "execution_count": 90,
      "outputs": [
        {
          "output_type": "execute_result",
          "data": {
            "text/html": [
              "<div>\n",
              "<style scoped>\n",
              "    .dataframe tbody tr th:only-of-type {\n",
              "        vertical-align: middle;\n",
              "    }\n",
              "\n",
              "    .dataframe tbody tr th {\n",
              "        vertical-align: top;\n",
              "    }\n",
              "\n",
              "    .dataframe thead th {\n",
              "        text-align: right;\n",
              "    }\n",
              "</style>\n",
              "<table border=\"1\" class=\"dataframe\">\n",
              "  <thead>\n",
              "    <tr style=\"text-align: right;\">\n",
              "      <th></th>\n",
              "      <th>Postal code</th>\n",
              "      <th>Borough</th>\n",
              "      <th>Neighborhood</th>\n",
              "    </tr>\n",
              "  </thead>\n",
              "  <tbody>\n",
              "    <tr>\n",
              "      <th>0</th>\n",
              "      <td>M3A</td>\n",
              "      <td>North York</td>\n",
              "      <td>Parkwoods</td>\n",
              "    </tr>\n",
              "    <tr>\n",
              "      <th>1</th>\n",
              "      <td>M4A</td>\n",
              "      <td>North York</td>\n",
              "      <td>Victoria Village</td>\n",
              "    </tr>\n",
              "    <tr>\n",
              "      <th>2</th>\n",
              "      <td>M5A</td>\n",
              "      <td>Downtown Toronto</td>\n",
              "      <td>Regent Park, Harbourfront</td>\n",
              "    </tr>\n",
              "    <tr>\n",
              "      <th>3</th>\n",
              "      <td>M6A</td>\n",
              "      <td>North York</td>\n",
              "      <td>Lawrence Manor, Lawrence Heights</td>\n",
              "    </tr>\n",
              "    <tr>\n",
              "      <th>4</th>\n",
              "      <td>M7A</td>\n",
              "      <td>Downtown Toronto</td>\n",
              "      <td>Queen's Park, Ontario Provincial Government</td>\n",
              "    </tr>\n",
              "  </tbody>\n",
              "</table>\n",
              "</div>"
            ],
            "text/plain": [
              "  Postal code           Borough                                 Neighborhood\n",
              "0         M3A        North York                                    Parkwoods\n",
              "1         M4A        North York                             Victoria Village\n",
              "2         M5A  Downtown Toronto                    Regent Park, Harbourfront\n",
              "3         M6A        North York             Lawrence Manor, Lawrence Heights\n",
              "4         M7A  Downtown Toronto  Queen's Park, Ontario Provincial Government"
            ]
          },
          "metadata": {
            "tags": []
          },
          "execution_count": 90
        }
      ]
    },
    {
      "cell_type": "code",
      "metadata": {
        "id": "kiEXTYypMFtN",
        "colab_type": "code",
        "colab": {
          "base_uri": "https://localhost:8080/",
          "height": 35
        },
        "outputId": "fe172932-37d0-4daa-df57-1363ec89664c"
      },
      "source": [
        "df.shape"
      ],
      "execution_count": 91,
      "outputs": [
        {
          "output_type": "execute_result",
          "data": {
            "text/plain": [
              "(104, 3)"
            ]
          },
          "metadata": {
            "tags": []
          },
          "execution_count": 91
        }
      ]
    },
    {
      "cell_type": "code",
      "metadata": {
        "colab_type": "code",
        "id": "lGsg4TfmOX1D",
        "colab": {
          "base_uri": "https://localhost:8080/",
          "height": 200
        },
        "outputId": "605821cb-8d73-4cd5-fae0-2617818c2ee8"
      },
      "source": [
        "df.tail()"
      ],
      "execution_count": 92,
      "outputs": [
        {
          "output_type": "execute_result",
          "data": {
            "text/html": [
              "<div>\n",
              "<style scoped>\n",
              "    .dataframe tbody tr th:only-of-type {\n",
              "        vertical-align: middle;\n",
              "    }\n",
              "\n",
              "    .dataframe tbody tr th {\n",
              "        vertical-align: top;\n",
              "    }\n",
              "\n",
              "    .dataframe thead th {\n",
              "        text-align: right;\n",
              "    }\n",
              "</style>\n",
              "<table border=\"1\" class=\"dataframe\">\n",
              "  <thead>\n",
              "    <tr style=\"text-align: right;\">\n",
              "      <th></th>\n",
              "      <th>Postal code</th>\n",
              "      <th>Borough</th>\n",
              "      <th>Neighborhood</th>\n",
              "    </tr>\n",
              "  </thead>\n",
              "  <tbody>\n",
              "    <tr>\n",
              "      <th>99</th>\n",
              "      <td>M4Y</td>\n",
              "      <td>Downtown Toronto</td>\n",
              "      <td>Church and Wellesley</td>\n",
              "    </tr>\n",
              "    <tr>\n",
              "      <th>100</th>\n",
              "      <td>M7Y</td>\n",
              "      <td>East Toronto</td>\n",
              "      <td>Business reply mail Processing Centre, South C...</td>\n",
              "    </tr>\n",
              "    <tr>\n",
              "      <th>101</th>\n",
              "      <td>M8Y</td>\n",
              "      <td>Etobicoke</td>\n",
              "      <td>Old Mill South, King's Mill Park, Sunnylea, Hu...</td>\n",
              "    </tr>\n",
              "    <tr>\n",
              "      <th>102</th>\n",
              "      <td>M8Z</td>\n",
              "      <td>Etobicoke</td>\n",
              "      <td>Mimico NW, The Queensway West, South of Bloor,...</td>\n",
              "    </tr>\n",
              "    <tr>\n",
              "      <th>103</th>\n",
              "      <td></td>\n",
              "      <td>Canadian postal codes</td>\n",
              "      <td></td>\n",
              "    </tr>\n",
              "  </tbody>\n",
              "</table>\n",
              "</div>"
            ],
            "text/plain": [
              "    Postal code  ...                                       Neighborhood\n",
              "99          M4Y  ...                               Church and Wellesley\n",
              "100         M7Y  ...  Business reply mail Processing Centre, South C...\n",
              "101         M8Y  ...  Old Mill South, King's Mill Park, Sunnylea, Hu...\n",
              "102         M8Z  ...  Mimico NW, The Queensway West, South of Bloor,...\n",
              "103              ...                                                   \n",
              "\n",
              "[5 rows x 3 columns]"
            ]
          },
          "metadata": {
            "tags": []
          },
          "execution_count": 92
        }
      ]
    },
    {
      "cell_type": "code",
      "metadata": {
        "id": "1isKS5NqNbQr",
        "colab_type": "code",
        "colab": {}
      },
      "source": [
        "df.drop(df.index[df.Neighborhood ==''],inplace = True)"
      ],
      "execution_count": 93,
      "outputs": []
    },
    {
      "cell_type": "code",
      "metadata": {
        "id": "pETHFDvGNRkq",
        "colab_type": "code",
        "colab": {
          "base_uri": "https://localhost:8080/",
          "height": 200
        },
        "outputId": "561518c7-2bde-4726-9a28-dc09d71a16be"
      },
      "source": [
        "df.tail()"
      ],
      "execution_count": 94,
      "outputs": [
        {
          "output_type": "execute_result",
          "data": {
            "text/html": [
              "<div>\n",
              "<style scoped>\n",
              "    .dataframe tbody tr th:only-of-type {\n",
              "        vertical-align: middle;\n",
              "    }\n",
              "\n",
              "    .dataframe tbody tr th {\n",
              "        vertical-align: top;\n",
              "    }\n",
              "\n",
              "    .dataframe thead th {\n",
              "        text-align: right;\n",
              "    }\n",
              "</style>\n",
              "<table border=\"1\" class=\"dataframe\">\n",
              "  <thead>\n",
              "    <tr style=\"text-align: right;\">\n",
              "      <th></th>\n",
              "      <th>Postal code</th>\n",
              "      <th>Borough</th>\n",
              "      <th>Neighborhood</th>\n",
              "    </tr>\n",
              "  </thead>\n",
              "  <tbody>\n",
              "    <tr>\n",
              "      <th>98</th>\n",
              "      <td>M8X</td>\n",
              "      <td>Etobicoke</td>\n",
              "      <td>The Kingsway, Montgomery Road, Old Mill North</td>\n",
              "    </tr>\n",
              "    <tr>\n",
              "      <th>99</th>\n",
              "      <td>M4Y</td>\n",
              "      <td>Downtown Toronto</td>\n",
              "      <td>Church and Wellesley</td>\n",
              "    </tr>\n",
              "    <tr>\n",
              "      <th>100</th>\n",
              "      <td>M7Y</td>\n",
              "      <td>East Toronto</td>\n",
              "      <td>Business reply mail Processing Centre, South C...</td>\n",
              "    </tr>\n",
              "    <tr>\n",
              "      <th>101</th>\n",
              "      <td>M8Y</td>\n",
              "      <td>Etobicoke</td>\n",
              "      <td>Old Mill South, King's Mill Park, Sunnylea, Hu...</td>\n",
              "    </tr>\n",
              "    <tr>\n",
              "      <th>102</th>\n",
              "      <td>M8Z</td>\n",
              "      <td>Etobicoke</td>\n",
              "      <td>Mimico NW, The Queensway West, South of Bloor,...</td>\n",
              "    </tr>\n",
              "  </tbody>\n",
              "</table>\n",
              "</div>"
            ],
            "text/plain": [
              "    Postal code  ...                                       Neighborhood\n",
              "98          M8X  ...      The Kingsway, Montgomery Road, Old Mill North\n",
              "99          M4Y  ...                               Church and Wellesley\n",
              "100         M7Y  ...  Business reply mail Processing Centre, South C...\n",
              "101         M8Y  ...  Old Mill South, King's Mill Park, Sunnylea, Hu...\n",
              "102         M8Z  ...  Mimico NW, The Queensway West, South of Bloor,...\n",
              "\n",
              "[5 rows x 3 columns]"
            ]
          },
          "metadata": {
            "tags": []
          },
          "execution_count": 94
        }
      ]
    },
    {
      "cell_type": "code",
      "metadata": {
        "colab_type": "code",
        "id": "FmQ3dJtlOaD3",
        "colab": {
          "base_uri": "https://localhost:8080/",
          "height": 35
        },
        "outputId": "684c00cb-db29-437e-92b1-b696c8dbb835"
      },
      "source": [
        "df.shape"
      ],
      "execution_count": 95,
      "outputs": [
        {
          "output_type": "execute_result",
          "data": {
            "text/plain": [
              "(103, 3)"
            ]
          },
          "metadata": {
            "tags": []
          },
          "execution_count": 95
        }
      ]
    },
    {
      "cell_type": "code",
      "metadata": {
        "id": "ZIlswo5sN-i9",
        "colab_type": "code",
        "colab": {}
      },
      "source": [
        "df.to_csv('2_toronto_locations_names.csv')"
      ],
      "execution_count": 96,
      "outputs": []
    }
  ]
}