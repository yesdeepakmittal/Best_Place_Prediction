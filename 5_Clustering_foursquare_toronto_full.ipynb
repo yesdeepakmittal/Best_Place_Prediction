{
  "nbformat": 4,
  "nbformat_minor": 0,
  "metadata": {
    "colab": {
      "name": "Clustering_Web_sc_foursquare_full",
      "provenance": [],
      "collapsed_sections": [],
      "toc_visible": true,
      "authorship_tag": "ABX9TyPTpPcrHHeh44c1ZUohpeJs"
    },
    "kernelspec": {
      "name": "python3",
      "display_name": "Python 3"
    }
  },
  "cells": [
    {
      "cell_type": "code",
      "metadata": {
        "id": "Iewcgf1W2zMY",
        "colab_type": "code",
        "colab": {}
      },
      "source": [
        "from bs4 import BeautifulSoup\n",
        "import requests\n",
        "\n",
        "import numpy as np\n",
        "import pandas as pd\n",
        "from pandas.io.json import json_normalize #transform json data into pd df\n",
        "import json\n",
        "\n",
        "import matplotlib.cm as cm\n",
        "import matplotlib.colors as colors\n",
        "import folium\n",
        "\n",
        "from sklearn.cluster import KMeans\n",
        "from geopy.geocoders import Nominatim"
      ],
      "execution_count": 0,
      "outputs": []
    },
    {
      "cell_type": "code",
      "metadata": {
        "id": "iGhF79fNyNay",
        "colab_type": "code",
        "colab": {}
      },
      "source": [
        " url = 'https://en.wikipedia.org/wiki/List_of_postal_codes_of_Canada:_M'"
      ],
      "execution_count": 0,
      "outputs": []
    },
    {
      "cell_type": "code",
      "metadata": {
        "id": "xLgUgSPZyV3N",
        "colab_type": "code",
        "colab": {}
      },
      "source": [
        "response = requests.get(url)\n",
        "data = response.text\n",
        "soup = BeautifulSoup(data,'html.parser')"
      ],
      "execution_count": 0,
      "outputs": []
    },
    {
      "cell_type": "code",
      "metadata": {
        "id": "nE9KryqXyvX2",
        "colab_type": "code",
        "colab": {}
      },
      "source": [
        "S_no = 0\n",
        "d = dict()\n",
        "\n",
        "table = soup.find('table')\n",
        "table_rows = table.find_all('tr')\n",
        "for tr in table_rows:\n",
        "  td = tr.find_all('td')\n",
        "  row = [i.text for i in td]\n",
        "  #print(row)\n",
        "  S_no +=1\n",
        "  d[S_no] = row"
      ],
      "execution_count": 0,
      "outputs": []
    },
    {
      "cell_type": "code",
      "metadata": {
        "id": "9VzQfweNyybb",
        "colab_type": "code",
        "outputId": "261d7b18-1e50-49d7-cca3-28b8fca9a3f9",
        "colab": {
          "base_uri": "https://localhost:8080/",
          "height": 33
        }
      },
      "source": [
        "d[4]"
      ],
      "execution_count": 6,
      "outputs": [
        {
          "output_type": "execute_result",
          "data": {
            "text/plain": [
              "['M3A\\n', 'North York\\n', 'Parkwoods\\n']"
            ]
          },
          "metadata": {
            "tags": []
          },
          "execution_count": 6
        }
      ]
    },
    {
      "cell_type": "code",
      "metadata": {
        "id": "qp7k3BPAzNsz",
        "colab_type": "code",
        "colab": {}
      },
      "source": [
        "df = pd.DataFrame.from_dict(d,orient='index',columns=['Postal_Code','Borough','Neighborhood'])"
      ],
      "execution_count": 0,
      "outputs": []
    },
    {
      "cell_type": "code",
      "metadata": {
        "id": "0TDZrKX8zhIM",
        "colab_type": "code",
        "outputId": "a2059469-38b7-4282-91c2-985c27ef2f25",
        "colab": {
          "base_uri": "https://localhost:8080/",
          "height": 197
        }
      },
      "source": [
        "df.head()"
      ],
      "execution_count": 8,
      "outputs": [
        {
          "output_type": "execute_result",
          "data": {
            "text/html": [
              "<div>\n",
              "<style scoped>\n",
              "    .dataframe tbody tr th:only-of-type {\n",
              "        vertical-align: middle;\n",
              "    }\n",
              "\n",
              "    .dataframe tbody tr th {\n",
              "        vertical-align: top;\n",
              "    }\n",
              "\n",
              "    .dataframe thead th {\n",
              "        text-align: right;\n",
              "    }\n",
              "</style>\n",
              "<table border=\"1\" class=\"dataframe\">\n",
              "  <thead>\n",
              "    <tr style=\"text-align: right;\">\n",
              "      <th></th>\n",
              "      <th>Postal_Code</th>\n",
              "      <th>Borough</th>\n",
              "      <th>Neighborhood</th>\n",
              "    </tr>\n",
              "  </thead>\n",
              "  <tbody>\n",
              "    <tr>\n",
              "      <th>1</th>\n",
              "      <td>None</td>\n",
              "      <td>None</td>\n",
              "      <td>None</td>\n",
              "    </tr>\n",
              "    <tr>\n",
              "      <th>2</th>\n",
              "      <td>M1A\\n</td>\n",
              "      <td>Not assigned\\n</td>\n",
              "      <td>\\n</td>\n",
              "    </tr>\n",
              "    <tr>\n",
              "      <th>3</th>\n",
              "      <td>M2A\\n</td>\n",
              "      <td>Not assigned\\n</td>\n",
              "      <td>\\n</td>\n",
              "    </tr>\n",
              "    <tr>\n",
              "      <th>4</th>\n",
              "      <td>M3A\\n</td>\n",
              "      <td>North York\\n</td>\n",
              "      <td>Parkwoods\\n</td>\n",
              "    </tr>\n",
              "    <tr>\n",
              "      <th>5</th>\n",
              "      <td>M4A\\n</td>\n",
              "      <td>North York\\n</td>\n",
              "      <td>Victoria Village\\n</td>\n",
              "    </tr>\n",
              "  </tbody>\n",
              "</table>\n",
              "</div>"
            ],
            "text/plain": [
              "  Postal_Code         Borough        Neighborhood\n",
              "1        None            None                None\n",
              "2       M1A\\n  Not assigned\\n                  \\n\n",
              "3       M2A\\n  Not assigned\\n                  \\n\n",
              "4       M3A\\n    North York\\n         Parkwoods\\n\n",
              "5       M4A\\n    North York\\n  Victoria Village\\n"
            ]
          },
          "metadata": {
            "tags": []
          },
          "execution_count": 8
        }
      ]
    },
    {
      "cell_type": "code",
      "metadata": {
        "id": "Gaw11FywzidI",
        "colab_type": "code",
        "colab": {}
      },
      "source": [
        "df = df.replace('\\n','', regex=True)"
      ],
      "execution_count": 0,
      "outputs": []
    },
    {
      "cell_type": "code",
      "metadata": {
        "id": "KepWBZIGzwMd",
        "colab_type": "code",
        "outputId": "58b9f842-ae92-4998-f3a4-f539e50829b4",
        "colab": {
          "base_uri": "https://localhost:8080/",
          "height": 197
        }
      },
      "source": [
        "df.drop(df.index[df['Borough'] == 'Not assigned'], inplace = True)\n",
        "df = df.reset_index(drop=True)\n",
        "df.head()"
      ],
      "execution_count": 10,
      "outputs": [
        {
          "output_type": "execute_result",
          "data": {
            "text/html": [
              "<div>\n",
              "<style scoped>\n",
              "    .dataframe tbody tr th:only-of-type {\n",
              "        vertical-align: middle;\n",
              "    }\n",
              "\n",
              "    .dataframe tbody tr th {\n",
              "        vertical-align: top;\n",
              "    }\n",
              "\n",
              "    .dataframe thead th {\n",
              "        text-align: right;\n",
              "    }\n",
              "</style>\n",
              "<table border=\"1\" class=\"dataframe\">\n",
              "  <thead>\n",
              "    <tr style=\"text-align: right;\">\n",
              "      <th></th>\n",
              "      <th>Postal_Code</th>\n",
              "      <th>Borough</th>\n",
              "      <th>Neighborhood</th>\n",
              "    </tr>\n",
              "  </thead>\n",
              "  <tbody>\n",
              "    <tr>\n",
              "      <th>0</th>\n",
              "      <td>None</td>\n",
              "      <td>None</td>\n",
              "      <td>None</td>\n",
              "    </tr>\n",
              "    <tr>\n",
              "      <th>1</th>\n",
              "      <td>M3A</td>\n",
              "      <td>North York</td>\n",
              "      <td>Parkwoods</td>\n",
              "    </tr>\n",
              "    <tr>\n",
              "      <th>2</th>\n",
              "      <td>M4A</td>\n",
              "      <td>North York</td>\n",
              "      <td>Victoria Village</td>\n",
              "    </tr>\n",
              "    <tr>\n",
              "      <th>3</th>\n",
              "      <td>M5A</td>\n",
              "      <td>Downtown Toronto</td>\n",
              "      <td>Regent Park, Harbourfront</td>\n",
              "    </tr>\n",
              "    <tr>\n",
              "      <th>4</th>\n",
              "      <td>M6A</td>\n",
              "      <td>North York</td>\n",
              "      <td>Lawrence Manor, Lawrence Heights</td>\n",
              "    </tr>\n",
              "  </tbody>\n",
              "</table>\n",
              "</div>"
            ],
            "text/plain": [
              "  Postal_Code           Borough                      Neighborhood\n",
              "0        None              None                              None\n",
              "1         M3A        North York                         Parkwoods\n",
              "2         M4A        North York                  Victoria Village\n",
              "3         M5A  Downtown Toronto         Regent Park, Harbourfront\n",
              "4         M6A        North York  Lawrence Manor, Lawrence Heights"
            ]
          },
          "metadata": {
            "tags": []
          },
          "execution_count": 10
        }
      ]
    },
    {
      "cell_type": "code",
      "metadata": {
        "id": "dYntdCt30MYA",
        "colab_type": "code",
        "outputId": "8e185a0d-2091-47f8-84fb-eae396f7f7a3",
        "colab": {
          "base_uri": "https://localhost:8080/",
          "height": 33
        }
      },
      "source": [
        "df.shape"
      ],
      "execution_count": 11,
      "outputs": [
        {
          "output_type": "execute_result",
          "data": {
            "text/plain": [
              "(104, 3)"
            ]
          },
          "metadata": {
            "tags": []
          },
          "execution_count": 11
        }
      ]
    },
    {
      "cell_type": "code",
      "metadata": {
        "id": "lMTjtnWZ0Adq",
        "colab_type": "code",
        "outputId": "23b4f584-c4bb-4e00-e806-304d42918f78",
        "colab": {
          "base_uri": "https://localhost:8080/",
          "height": 197
        }
      },
      "source": [
        "df.drop(df.index[0], inplace = True)\n",
        "df = df.reset_index(drop=True)\n",
        "df.head()"
      ],
      "execution_count": 12,
      "outputs": [
        {
          "output_type": "execute_result",
          "data": {
            "text/html": [
              "<div>\n",
              "<style scoped>\n",
              "    .dataframe tbody tr th:only-of-type {\n",
              "        vertical-align: middle;\n",
              "    }\n",
              "\n",
              "    .dataframe tbody tr th {\n",
              "        vertical-align: top;\n",
              "    }\n",
              "\n",
              "    .dataframe thead th {\n",
              "        text-align: right;\n",
              "    }\n",
              "</style>\n",
              "<table border=\"1\" class=\"dataframe\">\n",
              "  <thead>\n",
              "    <tr style=\"text-align: right;\">\n",
              "      <th></th>\n",
              "      <th>Postal_Code</th>\n",
              "      <th>Borough</th>\n",
              "      <th>Neighborhood</th>\n",
              "    </tr>\n",
              "  </thead>\n",
              "  <tbody>\n",
              "    <tr>\n",
              "      <th>0</th>\n",
              "      <td>M3A</td>\n",
              "      <td>North York</td>\n",
              "      <td>Parkwoods</td>\n",
              "    </tr>\n",
              "    <tr>\n",
              "      <th>1</th>\n",
              "      <td>M4A</td>\n",
              "      <td>North York</td>\n",
              "      <td>Victoria Village</td>\n",
              "    </tr>\n",
              "    <tr>\n",
              "      <th>2</th>\n",
              "      <td>M5A</td>\n",
              "      <td>Downtown Toronto</td>\n",
              "      <td>Regent Park, Harbourfront</td>\n",
              "    </tr>\n",
              "    <tr>\n",
              "      <th>3</th>\n",
              "      <td>M6A</td>\n",
              "      <td>North York</td>\n",
              "      <td>Lawrence Manor, Lawrence Heights</td>\n",
              "    </tr>\n",
              "    <tr>\n",
              "      <th>4</th>\n",
              "      <td>M7A</td>\n",
              "      <td>Downtown Toronto</td>\n",
              "      <td>Queen's Park, Ontario Provincial Government</td>\n",
              "    </tr>\n",
              "  </tbody>\n",
              "</table>\n",
              "</div>"
            ],
            "text/plain": [
              "  Postal_Code           Borough                                 Neighborhood\n",
              "0         M3A        North York                                    Parkwoods\n",
              "1         M4A        North York                             Victoria Village\n",
              "2         M5A  Downtown Toronto                    Regent Park, Harbourfront\n",
              "3         M6A        North York             Lawrence Manor, Lawrence Heights\n",
              "4         M7A  Downtown Toronto  Queen's Park, Ontario Provincial Government"
            ]
          },
          "metadata": {
            "tags": []
          },
          "execution_count": 12
        }
      ]
    },
    {
      "cell_type": "code",
      "metadata": {
        "id": "eU2nFWxh0Oj9",
        "colab_type": "code",
        "outputId": "a750a24e-f81c-4119-9c00-71d351da61cc",
        "colab": {
          "base_uri": "https://localhost:8080/",
          "height": 33
        }
      },
      "source": [
        "df.shape"
      ],
      "execution_count": 13,
      "outputs": [
        {
          "output_type": "execute_result",
          "data": {
            "text/plain": [
              "(103, 3)"
            ]
          },
          "metadata": {
            "tags": []
          },
          "execution_count": 13
        }
      ]
    },
    {
      "cell_type": "code",
      "metadata": {
        "id": "3nWR9wol2MlY",
        "colab_type": "code",
        "outputId": "ea9500ea-1308-44ab-f3af-795b7371c726",
        "colab": {
          "base_uri": "https://localhost:8080/",
          "height": 33
        }
      },
      "source": [
        "type(df.iloc[0,1])"
      ],
      "execution_count": 14,
      "outputs": [
        {
          "output_type": "execute_result",
          "data": {
            "text/plain": [
              "str"
            ]
          },
          "metadata": {
            "tags": []
          },
          "execution_count": 14
        }
      ]
    },
    {
      "cell_type": "code",
      "metadata": {
        "id": "1AspWsbaGxCN",
        "colab_type": "code",
        "outputId": "7699a22a-5c05-4915-9f4f-f9ac9bb1f565",
        "colab": {
          "base_uri": "https://localhost:8080/",
          "height": 197
        }
      },
      "source": [
        "df['latitude'] = None\n",
        "df['longitude'] = None\n",
        "df.head()"
      ],
      "execution_count": 15,
      "outputs": [
        {
          "output_type": "execute_result",
          "data": {
            "text/html": [
              "<div>\n",
              "<style scoped>\n",
              "    .dataframe tbody tr th:only-of-type {\n",
              "        vertical-align: middle;\n",
              "    }\n",
              "\n",
              "    .dataframe tbody tr th {\n",
              "        vertical-align: top;\n",
              "    }\n",
              "\n",
              "    .dataframe thead th {\n",
              "        text-align: right;\n",
              "    }\n",
              "</style>\n",
              "<table border=\"1\" class=\"dataframe\">\n",
              "  <thead>\n",
              "    <tr style=\"text-align: right;\">\n",
              "      <th></th>\n",
              "      <th>Postal_Code</th>\n",
              "      <th>Borough</th>\n",
              "      <th>Neighborhood</th>\n",
              "      <th>latitude</th>\n",
              "      <th>longitude</th>\n",
              "    </tr>\n",
              "  </thead>\n",
              "  <tbody>\n",
              "    <tr>\n",
              "      <th>0</th>\n",
              "      <td>M3A</td>\n",
              "      <td>North York</td>\n",
              "      <td>Parkwoods</td>\n",
              "      <td>None</td>\n",
              "      <td>None</td>\n",
              "    </tr>\n",
              "    <tr>\n",
              "      <th>1</th>\n",
              "      <td>M4A</td>\n",
              "      <td>North York</td>\n",
              "      <td>Victoria Village</td>\n",
              "      <td>None</td>\n",
              "      <td>None</td>\n",
              "    </tr>\n",
              "    <tr>\n",
              "      <th>2</th>\n",
              "      <td>M5A</td>\n",
              "      <td>Downtown Toronto</td>\n",
              "      <td>Regent Park, Harbourfront</td>\n",
              "      <td>None</td>\n",
              "      <td>None</td>\n",
              "    </tr>\n",
              "    <tr>\n",
              "      <th>3</th>\n",
              "      <td>M6A</td>\n",
              "      <td>North York</td>\n",
              "      <td>Lawrence Manor, Lawrence Heights</td>\n",
              "      <td>None</td>\n",
              "      <td>None</td>\n",
              "    </tr>\n",
              "    <tr>\n",
              "      <th>4</th>\n",
              "      <td>M7A</td>\n",
              "      <td>Downtown Toronto</td>\n",
              "      <td>Queen's Park, Ontario Provincial Government</td>\n",
              "      <td>None</td>\n",
              "      <td>None</td>\n",
              "    </tr>\n",
              "  </tbody>\n",
              "</table>\n",
              "</div>"
            ],
            "text/plain": [
              "  Postal_Code           Borough  ... latitude longitude\n",
              "0         M3A        North York  ...     None      None\n",
              "1         M4A        North York  ...     None      None\n",
              "2         M5A  Downtown Toronto  ...     None      None\n",
              "3         M6A        North York  ...     None      None\n",
              "4         M7A  Downtown Toronto  ...     None      None\n",
              "\n",
              "[5 rows x 5 columns]"
            ]
          },
          "metadata": {
            "tags": []
          },
          "execution_count": 15
        }
      ]
    },
    {
      "cell_type": "code",
      "metadata": {
        "id": "vSfrPBagHEvZ",
        "colab_type": "code",
        "colab": {}
      },
      "source": [
        "for i in range(len(df)):\n",
        "  address = df.iloc[i,1]+' , Toronto, Ontario'\n",
        "  geolocator = Nominatim(user_agent=\"ny_explorer\")\n",
        "  location = geolocator.geocode(address)\n",
        "  latitude = location.latitude\n",
        "  longitude = location.longitude\n",
        "  df.iloc[i,3] = latitude\n",
        "  df.iloc[i,4] = longitude"
      ],
      "execution_count": 0,
      "outputs": []
    },
    {
      "cell_type": "code",
      "metadata": {
        "id": "tlynBsh2Hh1T",
        "colab_type": "code",
        "outputId": "69898300-8457-4c9c-e331-f104f4c1a5a3",
        "colab": {
          "base_uri": "https://localhost:8080/",
          "height": 197
        }
      },
      "source": [
        "df.head()"
      ],
      "execution_count": 17,
      "outputs": [
        {
          "output_type": "execute_result",
          "data": {
            "text/html": [
              "<div>\n",
              "<style scoped>\n",
              "    .dataframe tbody tr th:only-of-type {\n",
              "        vertical-align: middle;\n",
              "    }\n",
              "\n",
              "    .dataframe tbody tr th {\n",
              "        vertical-align: top;\n",
              "    }\n",
              "\n",
              "    .dataframe thead th {\n",
              "        text-align: right;\n",
              "    }\n",
              "</style>\n",
              "<table border=\"1\" class=\"dataframe\">\n",
              "  <thead>\n",
              "    <tr style=\"text-align: right;\">\n",
              "      <th></th>\n",
              "      <th>Postal_Code</th>\n",
              "      <th>Borough</th>\n",
              "      <th>Neighborhood</th>\n",
              "      <th>latitude</th>\n",
              "      <th>longitude</th>\n",
              "    </tr>\n",
              "  </thead>\n",
              "  <tbody>\n",
              "    <tr>\n",
              "      <th>0</th>\n",
              "      <td>M3A</td>\n",
              "      <td>North York</td>\n",
              "      <td>Parkwoods</td>\n",
              "      <td>43.7543</td>\n",
              "      <td>-79.4491</td>\n",
              "    </tr>\n",
              "    <tr>\n",
              "      <th>1</th>\n",
              "      <td>M4A</td>\n",
              "      <td>North York</td>\n",
              "      <td>Victoria Village</td>\n",
              "      <td>43.7543</td>\n",
              "      <td>-79.4491</td>\n",
              "    </tr>\n",
              "    <tr>\n",
              "      <th>2</th>\n",
              "      <td>M5A</td>\n",
              "      <td>Downtown Toronto</td>\n",
              "      <td>Regent Park, Harbourfront</td>\n",
              "      <td>43.6563</td>\n",
              "      <td>-79.3809</td>\n",
              "    </tr>\n",
              "    <tr>\n",
              "      <th>3</th>\n",
              "      <td>M6A</td>\n",
              "      <td>North York</td>\n",
              "      <td>Lawrence Manor, Lawrence Heights</td>\n",
              "      <td>43.7543</td>\n",
              "      <td>-79.4491</td>\n",
              "    </tr>\n",
              "    <tr>\n",
              "      <th>4</th>\n",
              "      <td>M7A</td>\n",
              "      <td>Downtown Toronto</td>\n",
              "      <td>Queen's Park, Ontario Provincial Government</td>\n",
              "      <td>43.6563</td>\n",
              "      <td>-79.3809</td>\n",
              "    </tr>\n",
              "  </tbody>\n",
              "</table>\n",
              "</div>"
            ],
            "text/plain": [
              "  Postal_Code           Borough  ... latitude longitude\n",
              "0         M3A        North York  ...  43.7543  -79.4491\n",
              "1         M4A        North York  ...  43.7543  -79.4491\n",
              "2         M5A  Downtown Toronto  ...  43.6563  -79.3809\n",
              "3         M6A        North York  ...  43.7543  -79.4491\n",
              "4         M7A  Downtown Toronto  ...  43.6563  -79.3809\n",
              "\n",
              "[5 rows x 5 columns]"
            ]
          },
          "metadata": {
            "tags": []
          },
          "execution_count": 17
        }
      ]
    },
    {
      "cell_type": "code",
      "metadata": {
        "id": "oJfb9RkHLYrh",
        "colab_type": "code",
        "outputId": "90cf4e5b-0a67-43ab-b78d-572d3d1831cc",
        "colab": {
          "base_uri": "https://localhost:8080/",
          "height": 33
        }
      },
      "source": [
        "#Different method of getting coordinates\n",
        "'''import sys\n",
        "!{sys.executable} -m pip install geocoder\n",
        "import geocoder\n",
        "from geopy.geocoders import arcgis as arcgis'''"
      ],
      "execution_count": 18,
      "outputs": [
        {
          "output_type": "execute_result",
          "data": {
            "text/plain": [
              "'import sys\\n!{sys.executable} -m pip install geocoder\\nimport geocoder\\nfrom geopy.geocoders import arcgis as arcgis'"
            ]
          },
          "metadata": {
            "tags": []
          },
          "execution_count": 18
        }
      ]
    },
    {
      "cell_type": "code",
      "metadata": {
        "id": "0CSk9JBNKq2X",
        "colab_type": "code",
        "outputId": "acc7aa89-c46f-4d3f-d0ba-07520e1d42d7",
        "colab": {
          "base_uri": "https://localhost:8080/",
          "height": 33
        }
      },
      "source": [
        "'''code = 'M5A'\n",
        "g = geocoder.arcgis('{}, Toronto, Ontario'.format(code))\n",
        "lat_lng_coords = g.latlng\n",
        "lat_lng_coords'''"
      ],
      "execution_count": 19,
      "outputs": [
        {
          "output_type": "execute_result",
          "data": {
            "text/plain": [
              "\"code = 'M5A'\\ng = geocoder.arcgis('{}, Toronto, Ontario'.format(code))\\nlat_lng_coords = g.latlng\\nlat_lng_coords\""
            ]
          },
          "metadata": {
            "tags": []
          },
          "execution_count": 19
        }
      ]
    },
    {
      "cell_type": "code",
      "metadata": {
        "id": "CyGCahVGLKny",
        "colab_type": "code",
        "outputId": "82c6a7d7-52fb-402d-ca88-178ca28293ef",
        "colab": {
          "base_uri": "https://localhost:8080/",
          "height": 33
        }
      },
      "source": [
        "df.shape"
      ],
      "execution_count": 20,
      "outputs": [
        {
          "output_type": "execute_result",
          "data": {
            "text/plain": [
              "(103, 5)"
            ]
          },
          "metadata": {
            "tags": []
          },
          "execution_count": 20
        }
      ]
    },
    {
      "cell_type": "code",
      "metadata": {
        "id": "vVjSsVOlMlNp",
        "colab_type": "code",
        "outputId": "a9f031f9-71a9-4481-9645-83112cdce1c7",
        "colab": {
          "base_uri": "https://localhost:8080/",
          "height": 33
        }
      },
      "source": [
        "print('Dataframe has {} Borough and {} neighborhood.'.format(len(df.Borough.unique()),df.shape[0]))"
      ],
      "execution_count": 21,
      "outputs": [
        {
          "output_type": "stream",
          "text": [
            "Dataframe has 10 Borough and 103 neighborhood.\n"
          ],
          "name": "stdout"
        }
      ]
    },
    {
      "cell_type": "markdown",
      "metadata": {
        "id": "Lz9QaQfk7Wpp",
        "colab_type": "text"
      },
      "source": [
        "###Using geopy library to visualize the place after getting cordinates"
      ]
    },
    {
      "cell_type": "code",
      "metadata": {
        "id": "z9b_D4R77QMB",
        "colab_type": "code",
        "outputId": "7d523973-4137-41e0-9932-8627d693e8ec",
        "colab": {
          "base_uri": "https://localhost:8080/",
          "height": 33
        }
      },
      "source": [
        "address = 'Toronto, Canada'\n",
        "\n",
        "geolocator = Nominatim(user_agent=\"can_explorer\")\n",
        "location = geolocator.geocode(address)\n",
        "latitude = location.latitude\n",
        "longitude = location.longitude\n",
        "print('The geograpical coordinate of Toronto are {}, {}.'.format(latitude, longitude))"
      ],
      "execution_count": 22,
      "outputs": [
        {
          "output_type": "stream",
          "text": [
            "The geograpical coordinate of Toronto are 43.6534817, -79.3839347.\n"
          ],
          "name": "stdout"
        }
      ]
    },
    {
      "cell_type": "code",
      "metadata": {
        "id": "DL52wQWN6Sk0",
        "colab_type": "code",
        "colab": {}
      },
      "source": [
        "map_toronto = folium.Map(location=[latitude, longitude], zoom_start=11)\n",
        "\n",
        "for lat, lng, borough, neighborhood in zip(df['latitude'], df['longitude'], df['Borough'], df['Neighborhood']):\n",
        "    label = '{}, {}'.format(neighborhood, borough)\n",
        "    label = folium.Popup(label, parse_html=True)\n",
        "    folium.CircleMarker(\n",
        "        [lat, lng],\n",
        "        radius=5,\n",
        "        popup=label,\n",
        "        color='red',\n",
        "        fill=True,\n",
        "        fill_color='#3186cc',\n",
        "        fill_opacity=0.7,\n",
        "        parse_html=False).add_to(map_toronto)  \n",
        "    \n",
        "#map_toronto\n",
        "#map_toronto.save('map.html')"
      ],
      "execution_count": 0,
      "outputs": []
    },
    {
      "cell_type": "code",
      "metadata": {
        "id": "OVtT9zjqTFEl",
        "colab_type": "code",
        "outputId": "d7f8c00e-050b-4d7a-86ec-09bd321f635f",
        "colab": {
          "base_uri": "https://localhost:8080/",
          "height": 33
        }
      },
      "source": [
        "print('=================================================================================================================')"
      ],
      "execution_count": 24,
      "outputs": [
        {
          "output_type": "stream",
          "text": [
            "=================================================================================================================\n"
          ],
          "name": "stdout"
        }
      ]
    },
    {
      "cell_type": "markdown",
      "metadata": {
        "id": "7Ppe5h-YT39d",
        "colab_type": "text"
      },
      "source": [
        "##Define Foursquare Credentials and Version"
      ]
    },
    {
      "cell_type": "code",
      "metadata": {
        "id": "-NGUljroUB-B",
        "colab_type": "code",
        "outputId": "2a782ef5-571b-4c19-9b06-13dbbe8a6eb4",
        "colab": {
          "base_uri": "https://localhost:8080/",
          "height": 67
        }
      },
      "source": [
        "CLIENT_ID = 'PYANEEI0VEF3DT0UYBXNCSB2JR0U230EJF0NYRKSZMNBSL1H' # your Foursquare ID\n",
        "CLIENT_SECRET = 'L2B5GO3BHAZPAS21BWWX2K0XMBCMWFW3QS5DDGLVPCJV0VYB' # your Foursquare Secret\n",
        "VERSION = '20180604'\n",
        "LIMIT = 30\n",
        "print('Your credentails:')\n",
        "print('CLIENT_ID: ' + CLIENT_ID)\n",
        "print('CLIENT_SECRET:' + CLIENT_SECRET)"
      ],
      "execution_count": 25,
      "outputs": [
        {
          "output_type": "stream",
          "text": [
            "Your credentails:\n",
            "CLIENT_ID: PYANEEI0VEF3DT0UYBXNCSB2JR0U230EJF0NYRKSZMNBSL1H\n",
            "CLIENT_SECRET:L2B5GO3BHAZPAS21BWWX2K0XMBCMWFW3QS5DDGLVPCJV0VYB\n"
          ],
          "name": "stdout"
        }
      ]
    },
    {
      "cell_type": "markdown",
      "metadata": {
        "id": "Ba0Oj3E4UPGi",
        "colab_type": "text"
      },
      "source": [
        "####Let's explore the first neighborhood in our dataframe.¶"
      ]
    },
    {
      "cell_type": "code",
      "metadata": {
        "id": "aVvNhPqCUOrg",
        "colab_type": "code",
        "outputId": "0a2a4183-024d-47e4-a9a1-81a266dac394",
        "colab": {
          "base_uri": "https://localhost:8080/",
          "height": 33
        }
      },
      "source": [
        " df.loc[0, 'Neighborhood']"
      ],
      "execution_count": 26,
      "outputs": [
        {
          "output_type": "execute_result",
          "data": {
            "text/plain": [
              "'Parkwoods'"
            ]
          },
          "metadata": {
            "tags": []
          },
          "execution_count": 26
        }
      ]
    },
    {
      "cell_type": "code",
      "metadata": {
        "id": "PV3exxFhUm6z",
        "colab_type": "code",
        "outputId": "16c8b306-e959-4bb3-8941-06f93848e494",
        "colab": {
          "base_uri": "https://localhost:8080/",
          "height": 33
        }
      },
      "source": [
        "neighborhood_name = df.loc[0, 'Neighborhood'] \n",
        "neighborhood_latitude = df.loc[0, 'latitude'] \n",
        "neighborhood_longitude = df.loc[0, 'longitude'] \n",
        "\n",
        "print('Latitude and longitude values of {} are {}, {}.'.format(neighborhood_name, \n",
        "                                                               neighborhood_latitude, \n",
        "                                                               neighborhood_longitude))"
      ],
      "execution_count": 27,
      "outputs": [
        {
          "output_type": "stream",
          "text": [
            "Latitude and longitude values of Parkwoods are 43.7543263, -79.44911696639593.\n"
          ],
          "name": "stdout"
        }
      ]
    },
    {
      "cell_type": "code",
      "metadata": {
        "id": "hNafnTmRU2_C",
        "colab_type": "code",
        "outputId": "dd3cf10b-863a-420d-80d9-461934a65985",
        "colab": {
          "base_uri": "https://localhost:8080/",
          "height": 53
        }
      },
      "source": [
        "# Top 100 venues near to the specified neighborhood\n",
        "LIMIT = 100\n",
        "radius = 500\n",
        "url = 'https://api.foursquare.com/v2/venues/explore?&client_id={}&client_secret={}&v={}&ll={},{}&radius={}&limit={}'.format(\n",
        "    CLIENT_ID, \n",
        "    CLIENT_SECRET, \n",
        "    VERSION, \n",
        "    neighborhood_latitude, \n",
        "    neighborhood_longitude, \n",
        "    radius, \n",
        "    LIMIT)\n",
        "url"
      ],
      "execution_count": 28,
      "outputs": [
        {
          "output_type": "execute_result",
          "data": {
            "text/plain": [
              "'https://api.foursquare.com/v2/venues/explore?&client_id=PYANEEI0VEF3DT0UYBXNCSB2JR0U230EJF0NYRKSZMNBSL1H&client_secret=L2B5GO3BHAZPAS21BWWX2K0XMBCMWFW3QS5DDGLVPCJV0VYB&v=20180604&ll=43.7543263,-79.44911696639593&radius=500&limit=100'"
            ]
          },
          "metadata": {
            "tags": []
          },
          "execution_count": 28
        }
      ]
    },
    {
      "cell_type": "code",
      "metadata": {
        "id": "8vFaFgLEVLFk",
        "colab_type": "code",
        "outputId": "7a02531e-c54d-4168-ccf8-8ffac5dbacd8",
        "colab": {
          "base_uri": "https://localhost:8080/",
          "height": 1000
        }
      },
      "source": [
        "results = requests.get(url).json()\n",
        "results"
      ],
      "execution_count": 29,
      "outputs": [
        {
          "output_type": "execute_result",
          "data": {
            "text/plain": [
              "{'meta': {'code': 200, 'requestId': '5eb557630f5968001bea3ea6'},\n",
              " 'response': {'groups': [{'items': [{'reasons': {'count': 0,\n",
              "       'items': [{'reasonName': 'globalInteractionReason',\n",
              "         'summary': 'This spot is popular',\n",
              "         'type': 'general'}]},\n",
              "      'referralId': 'e-0-5a888f7647f8767d37b92f00-0',\n",
              "      'venue': {'categories': [{'icon': {'prefix': 'https://ss3.4sqi.net/img/categories_v2/food/mediterranean_',\n",
              "          'suffix': '.png'},\n",
              "         'id': '4bf58dd8d48988d1c0941735',\n",
              "         'name': 'Mediterranean Restaurant',\n",
              "         'pluralName': 'Mediterranean Restaurants',\n",
              "         'primary': True,\n",
              "         'shortName': 'Mediterranean'}],\n",
              "       'id': '5a888f7647f8767d37b92f00',\n",
              "       'location': {'address': '832 Sheppard West',\n",
              "        'cc': 'CA',\n",
              "        'city': 'North York',\n",
              "        'country': 'Canada',\n",
              "        'crossStreet': 'NE corner of Sheppard & Wilmington',\n",
              "        'distance': 246,\n",
              "        'formattedAddress': ['832 Sheppard West (NE corner of Sheppard & Wilmington)',\n",
              "         'North York ON M3H 2T1',\n",
              "         'Canada'],\n",
              "        'labeledLatLngs': [{'label': 'display',\n",
              "          'lat': 43.753122978404804,\n",
              "          'lng': -79.45169001817703}],\n",
              "        'lat': 43.753122978404804,\n",
              "        'lng': -79.45169001817703,\n",
              "        'neighborhood': 'Bathurst Manor',\n",
              "        'postalCode': 'M3H 2T1',\n",
              "        'state': 'ON'},\n",
              "       'name': 'Grill Gate',\n",
              "       'photos': {'count': 0, 'groups': []}}},\n",
              "     {'reasons': {'count': 0,\n",
              "       'items': [{'reasonName': 'globalInteractionReason',\n",
              "         'summary': 'This spot is popular',\n",
              "         'type': 'general'}]},\n",
              "      'referralId': 'e-0-4bc3acbdabf495210a22c493-1',\n",
              "      'venue': {'categories': [{'icon': {'prefix': 'https://ss3.4sqi.net/img/categories_v2/food/middleeastern_',\n",
              "          'suffix': '.png'},\n",
              "         'id': '4bf58dd8d48988d115941735',\n",
              "         'name': 'Middle Eastern Restaurant',\n",
              "         'pluralName': 'Middle Eastern Restaurants',\n",
              "         'primary': True,\n",
              "         'shortName': 'Middle Eastern'}],\n",
              "       'id': '4bc3acbdabf495210a22c493',\n",
              "       'location': {'address': '660 Sheppard Avenue West',\n",
              "        'cc': 'CA',\n",
              "        'city': 'Toronto',\n",
              "        'country': 'Canada',\n",
              "        'crossStreet': 'Bathurst',\n",
              "        'distance': 451,\n",
              "        'formattedAddress': ['660 Sheppard Avenue West (Bathurst)',\n",
              "         'Toronto ON',\n",
              "         'Canada'],\n",
              "        'labeledLatLngs': [{'label': 'display',\n",
              "          'lat': 43.754493246006334,\n",
              "          'lng': -79.44350727697311}],\n",
              "        'lat': 43.754493246006334,\n",
              "        'lng': -79.44350727697311,\n",
              "        'state': 'ON'},\n",
              "       'name': 'Orly Restaurant & Grill',\n",
              "       'photos': {'count': 0, 'groups': []}}},\n",
              "     {'reasons': {'count': 0,\n",
              "       'items': [{'reasonName': 'globalInteractionReason',\n",
              "         'summary': 'This spot is popular',\n",
              "         'type': 'general'}]},\n",
              "      'referralId': 'e-0-5011603fe4b07c3cf1967fba-2',\n",
              "      'venue': {'categories': [{'icon': {'prefix': 'https://ss3.4sqi.net/img/categories_v2/food/coffeeshop_',\n",
              "          'suffix': '.png'},\n",
              "         'id': '4bf58dd8d48988d1e0931735',\n",
              "         'name': 'Coffee Shop',\n",
              "         'pluralName': 'Coffee Shops',\n",
              "         'primary': True,\n",
              "         'shortName': 'Coffee Shop'}],\n",
              "       'id': '5011603fe4b07c3cf1967fba',\n",
              "       'location': {'address': '680 Sheppard Ave West',\n",
              "        'cc': 'CA',\n",
              "        'city': 'North York',\n",
              "        'country': 'Canada',\n",
              "        'crossStreet': 'Bryant',\n",
              "        'distance': 474,\n",
              "        'formattedAddress': ['680 Sheppard Ave West (Bryant)',\n",
              "         'North York ON M3H 2S5',\n",
              "         'Canada'],\n",
              "        'labeledLatLngs': [{'label': 'display',\n",
              "          'lat': 43.75476686520758,\n",
              "          'lng': -79.44325044751167}],\n",
              "        'lat': 43.75476686520758,\n",
              "        'lng': -79.44325044751167,\n",
              "        'postalCode': 'M3H 2S5',\n",
              "        'state': 'ON'},\n",
              "       'name': 'Tim Hortons',\n",
              "       'photos': {'count': 0, 'groups': []}}},\n",
              "     {'reasons': {'count': 0,\n",
              "       'items': [{'reasonName': 'globalInteractionReason',\n",
              "         'summary': 'This spot is popular',\n",
              "         'type': 'general'}]},\n",
              "      'referralId': 'e-0-50f9bbcc5d24acebc25936af-3',\n",
              "      'venue': {'categories': [{'icon': {'prefix': 'https://ss3.4sqi.net/img/categories_v2/food/pizza_',\n",
              "          'suffix': '.png'},\n",
              "         'id': '4bf58dd8d48988d1ca941735',\n",
              "         'name': 'Pizza Place',\n",
              "         'pluralName': 'Pizza Places',\n",
              "         'primary': True,\n",
              "         'shortName': 'Pizza'}],\n",
              "       'id': '50f9bbcc5d24acebc25936af',\n",
              "       'location': {'address': '820 Sheppard Ave W',\n",
              "        'cc': 'CA',\n",
              "        'city': 'Toronto',\n",
              "        'country': 'Canada',\n",
              "        'distance': 197,\n",
              "        'formattedAddress': ['820 Sheppard Ave W',\n",
              "         'Toronto ON M3H 2T1',\n",
              "         'Canada'],\n",
              "        'labeledLatLngs': [{'label': 'display',\n",
              "          'lat': 43.75312660212406,\n",
              "          'lng': -79.45092591363169}],\n",
              "        'lat': 43.75312660212406,\n",
              "        'lng': -79.45092591363169,\n",
              "        'postalCode': 'M3H 2T1',\n",
              "        'state': 'ON'},\n",
              "       'name': \"Domino's Pizza\",\n",
              "       'photos': {'count': 0, 'groups': []}}}],\n",
              "    'name': 'recommended',\n",
              "    'type': 'Recommended Places'}],\n",
              "  'headerFullLocation': 'Bathurst Manor, Toronto',\n",
              "  'headerLocation': 'Bathurst Manor',\n",
              "  'headerLocationGranularity': 'neighborhood',\n",
              "  'suggestedBounds': {'ne': {'lat': 43.758826304500005,\n",
              "    'lng': -79.44289859530187},\n",
              "   'sw': {'lat': 43.7498262955, 'lng': -79.45533533749}},\n",
              "  'totalResults': 4}}"
            ]
          },
          "metadata": {
            "tags": []
          },
          "execution_count": 29
        }
      ]
    },
    {
      "cell_type": "code",
      "metadata": {
        "id": "Nf7yaY0zS-mC",
        "colab_type": "code",
        "colab": {}
      },
      "source": [
        "# function that extracts the category of the venue\n",
        "def get_category_type(row):\n",
        "    try:\n",
        "        categories_list = row['categories']\n",
        "    except:\n",
        "        categories_list = row['venue.categories']\n",
        "        \n",
        "    if len(categories_list) == 0:\n",
        "        return None\n",
        "    else:\n",
        "        return categories_list[0]['name']"
      ],
      "execution_count": 0,
      "outputs": []
    },
    {
      "cell_type": "markdown",
      "metadata": {
        "id": "p-5WAuDZWRnL",
        "colab_type": "text"
      },
      "source": [
        "Clean the json and structure it into a pandas dataframe"
      ]
    },
    {
      "cell_type": "code",
      "metadata": {
        "id": "bpewC7GIVgGy",
        "colab_type": "code",
        "outputId": "3868fb96-6df9-4024-b8d6-f08848efbb97",
        "colab": {
          "base_uri": "https://localhost:8080/",
          "height": 221
        }
      },
      "source": [
        "venues = results['response']['groups'][0]['items']\n",
        "    \n",
        "nearby_venues = json_normalize(venues) # flatten JSON\n",
        "\n",
        "# filter columns\n",
        "filtered_columns = ['venue.name', 'venue.categories', 'venue.location.lat', 'venue.location.lng']\n",
        "nearby_venues =nearby_venues.loc[:, filtered_columns]\n",
        "\n",
        "# filter the category for each row\n",
        "nearby_venues['venue.categories'] = nearby_venues.apply(get_category_type, axis=1)\n",
        "\n",
        "# clean columns\n",
        "nearby_venues.columns = [col.split(\".\")[-1] for col in nearby_venues.columns]\n",
        "\n",
        "nearby_venues.head()"
      ],
      "execution_count": 31,
      "outputs": [
        {
          "output_type": "stream",
          "text": [
            "/usr/local/lib/python3.6/dist-packages/ipykernel_launcher.py:3: FutureWarning: pandas.io.json.json_normalize is deprecated, use pandas.json_normalize instead\n",
            "  This is separate from the ipykernel package so we can avoid doing imports until\n"
          ],
          "name": "stderr"
        },
        {
          "output_type": "execute_result",
          "data": {
            "text/html": [
              "<div>\n",
              "<style scoped>\n",
              "    .dataframe tbody tr th:only-of-type {\n",
              "        vertical-align: middle;\n",
              "    }\n",
              "\n",
              "    .dataframe tbody tr th {\n",
              "        vertical-align: top;\n",
              "    }\n",
              "\n",
              "    .dataframe thead th {\n",
              "        text-align: right;\n",
              "    }\n",
              "</style>\n",
              "<table border=\"1\" class=\"dataframe\">\n",
              "  <thead>\n",
              "    <tr style=\"text-align: right;\">\n",
              "      <th></th>\n",
              "      <th>name</th>\n",
              "      <th>categories</th>\n",
              "      <th>lat</th>\n",
              "      <th>lng</th>\n",
              "    </tr>\n",
              "  </thead>\n",
              "  <tbody>\n",
              "    <tr>\n",
              "      <th>0</th>\n",
              "      <td>Grill Gate</td>\n",
              "      <td>Mediterranean Restaurant</td>\n",
              "      <td>43.753123</td>\n",
              "      <td>-79.451690</td>\n",
              "    </tr>\n",
              "    <tr>\n",
              "      <th>1</th>\n",
              "      <td>Orly Restaurant &amp; Grill</td>\n",
              "      <td>Middle Eastern Restaurant</td>\n",
              "      <td>43.754493</td>\n",
              "      <td>-79.443507</td>\n",
              "    </tr>\n",
              "    <tr>\n",
              "      <th>2</th>\n",
              "      <td>Tim Hortons</td>\n",
              "      <td>Coffee Shop</td>\n",
              "      <td>43.754767</td>\n",
              "      <td>-79.443250</td>\n",
              "    </tr>\n",
              "    <tr>\n",
              "      <th>3</th>\n",
              "      <td>Domino's Pizza</td>\n",
              "      <td>Pizza Place</td>\n",
              "      <td>43.753127</td>\n",
              "      <td>-79.450926</td>\n",
              "    </tr>\n",
              "  </tbody>\n",
              "</table>\n",
              "</div>"
            ],
            "text/plain": [
              "                      name                 categories        lat        lng\n",
              "0               Grill Gate   Mediterranean Restaurant  43.753123 -79.451690\n",
              "1  Orly Restaurant & Grill  Middle Eastern Restaurant  43.754493 -79.443507\n",
              "2              Tim Hortons                Coffee Shop  43.754767 -79.443250\n",
              "3           Domino's Pizza                Pizza Place  43.753127 -79.450926"
            ]
          },
          "metadata": {
            "tags": []
          },
          "execution_count": 31
        }
      ]
    },
    {
      "cell_type": "code",
      "metadata": {
        "id": "_b0bbxzjWtog",
        "colab_type": "code",
        "outputId": "20d31f96-94b0-4ec1-82f7-2f6e2f72af3b",
        "colab": {
          "base_uri": "https://localhost:8080/",
          "height": 33
        }
      },
      "source": [
        "print('{} venues were returned by Foursquare near to the specified neighbor'.format(nearby_venues.shape[0]))"
      ],
      "execution_count": 32,
      "outputs": [
        {
          "output_type": "stream",
          "text": [
            "4 venues were returned by Foursquare near to the specified neighbor\n"
          ],
          "name": "stdout"
        }
      ]
    },
    {
      "cell_type": "code",
      "metadata": {
        "id": "EcbyGQ4BW5sM",
        "colab_type": "code",
        "colab": {}
      },
      "source": [
        "def getNearbyVenues(names, latitudes, longitudes):\n",
        "    \n",
        "    venues_list=[]\n",
        "    for name, lat, lng in zip(names, latitudes, longitudes):\n",
        "        print(name)\n",
        "        results = requests.get(url).json()[\"response\"]['groups'][0]['items']\n",
        "        \n",
        "        # return only relevant information for each nearby venue\n",
        "        venues_list.append([(\n",
        "            name, \n",
        "            lat, \n",
        "            lng, \n",
        "            v['venue']['name'], \n",
        "            v['venue']['location']['lat'], \n",
        "            v['venue']['location']['lng'],  \n",
        "            v['venue']['categories'][0]['name']) for v in results])\n",
        "\n",
        "    nearby_venues = pd.DataFrame([item for venue_list in venues_list for item in venue_list])\n",
        "    nearby_venues.columns = ['Neighborhood', \n",
        "                  'Neighborhood Latitude', \n",
        "                  'Neighborhood Longitude', \n",
        "                  'Venue', \n",
        "                  'Venue Latitude', \n",
        "                  'Venue Longitude', \n",
        "                  'Venue Category']\n",
        "    \n",
        "    return(nearby_venues)"
      ],
      "execution_count": 0,
      "outputs": []
    },
    {
      "cell_type": "code",
      "metadata": {
        "id": "hFuIp7oHbpmd",
        "colab_type": "code",
        "outputId": "bd447183-511e-4e4c-f95a-378779e8df70",
        "colab": {
          "base_uri": "https://localhost:8080/",
          "height": 167
        }
      },
      "source": [
        "nearby_venues.head()"
      ],
      "execution_count": 34,
      "outputs": [
        {
          "output_type": "execute_result",
          "data": {
            "text/html": [
              "<div>\n",
              "<style scoped>\n",
              "    .dataframe tbody tr th:only-of-type {\n",
              "        vertical-align: middle;\n",
              "    }\n",
              "\n",
              "    .dataframe tbody tr th {\n",
              "        vertical-align: top;\n",
              "    }\n",
              "\n",
              "    .dataframe thead th {\n",
              "        text-align: right;\n",
              "    }\n",
              "</style>\n",
              "<table border=\"1\" class=\"dataframe\">\n",
              "  <thead>\n",
              "    <tr style=\"text-align: right;\">\n",
              "      <th></th>\n",
              "      <th>name</th>\n",
              "      <th>categories</th>\n",
              "      <th>lat</th>\n",
              "      <th>lng</th>\n",
              "    </tr>\n",
              "  </thead>\n",
              "  <tbody>\n",
              "    <tr>\n",
              "      <th>0</th>\n",
              "      <td>Grill Gate</td>\n",
              "      <td>Mediterranean Restaurant</td>\n",
              "      <td>43.753123</td>\n",
              "      <td>-79.451690</td>\n",
              "    </tr>\n",
              "    <tr>\n",
              "      <th>1</th>\n",
              "      <td>Orly Restaurant &amp; Grill</td>\n",
              "      <td>Middle Eastern Restaurant</td>\n",
              "      <td>43.754493</td>\n",
              "      <td>-79.443507</td>\n",
              "    </tr>\n",
              "    <tr>\n",
              "      <th>2</th>\n",
              "      <td>Tim Hortons</td>\n",
              "      <td>Coffee Shop</td>\n",
              "      <td>43.754767</td>\n",
              "      <td>-79.443250</td>\n",
              "    </tr>\n",
              "    <tr>\n",
              "      <th>3</th>\n",
              "      <td>Domino's Pizza</td>\n",
              "      <td>Pizza Place</td>\n",
              "      <td>43.753127</td>\n",
              "      <td>-79.450926</td>\n",
              "    </tr>\n",
              "  </tbody>\n",
              "</table>\n",
              "</div>"
            ],
            "text/plain": [
              "                      name                 categories        lat        lng\n",
              "0               Grill Gate   Mediterranean Restaurant  43.753123 -79.451690\n",
              "1  Orly Restaurant & Grill  Middle Eastern Restaurant  43.754493 -79.443507\n",
              "2              Tim Hortons                Coffee Shop  43.754767 -79.443250\n",
              "3           Domino's Pizza                Pizza Place  43.753127 -79.450926"
            ]
          },
          "metadata": {
            "tags": []
          },
          "execution_count": 34
        }
      ]
    },
    {
      "cell_type": "code",
      "metadata": {
        "id": "1dCIw36wZfFf",
        "colab_type": "code",
        "outputId": "4bb5dc06-da5b-4c3a-c162-b93df527ff7c",
        "colab": {
          "base_uri": "https://localhost:8080/",
          "height": 1000
        }
      },
      "source": [
        "toronto_venues = getNearbyVenues(names=df['Neighborhood'],\n",
        "                                 latitudes=df['latitude'],\n",
        "                                 longitudes=df['longitude'])"
      ],
      "execution_count": 35,
      "outputs": [
        {
          "output_type": "stream",
          "text": [
            "Parkwoods\n",
            "Victoria Village\n",
            "Regent Park, Harbourfront\n",
            "Lawrence Manor, Lawrence Heights\n",
            "Queen's Park, Ontario Provincial Government\n",
            "Islington Avenue\n",
            "Malvern, Rouge\n",
            "Don Mills\n",
            "Parkview Hill, Woodbine Gardens\n",
            "Garden District, Ryerson\n",
            "Glencairn\n",
            "West Deane Park, Princess Gardens, Martin Grove, Islington, Cloverdale\n",
            "Rouge Hill, Port Union, Highland Creek\n",
            "Don Mills\n",
            "Woodbine Heights\n",
            "St. James Town\n",
            "Humewood-Cedarvale\n",
            "Eringate, Bloordale Gardens, Old Burnhamthorpe, Markland Wood\n",
            "Guildwood, Morningside, West Hill\n",
            "The Beaches\n",
            "Berczy Park\n",
            "Caledonia-Fairbanks\n",
            "Woburn\n",
            "Leaside\n",
            "Central Bay Street\n",
            "Christie\n",
            "Cedarbrae\n",
            "Hillcrest Village\n",
            "Bathurst Manor, Wilson Heights, Downsview North\n",
            "Thorncliffe Park\n",
            "Richmond, Adelaide, King\n",
            "Dufferin, Dovercourt Village\n",
            "Scarborough Village\n",
            "Fairview, Henry Farm, Oriole\n",
            "Northwood Park, York University\n",
            "East Toronto\n",
            "Harbourfront East, Union Station, Toronto Islands\n",
            "Little Portugal, Trinity\n",
            "Kennedy Park, Ionview, East Birchmount Park\n",
            "Bayview Village\n",
            "Downsview\n",
            "The Danforth West, Riverdale\n",
            "Toronto Dominion Centre, Design Exchange\n",
            "Brockton, Parkdale Village, Exhibition Place\n",
            "Golden Mile, Clairlea, Oakridge\n",
            "York Mills, Silver Hills\n",
            "Downsview\n",
            "India Bazaar, The Beaches West\n",
            "Commerce Court, Victoria Hotel\n",
            "North Park, Maple Leaf Park, Upwood Park\n",
            "Humber Summit\n",
            "Cliffside, Cliffcrest, Scarborough Village West\n",
            "Willowdale, Newtonbrook\n",
            "Downsview\n",
            "Studio District\n",
            "Bedford Park, Lawrence Manor East\n",
            "Del Ray, Mount Dennis, Keelsdale and Silverthorn\n",
            "Humberlea, Emery\n",
            "Birch Cliff, Cliffside West\n",
            "Willowdale\n",
            "Downsview\n",
            "Lawrence Park\n",
            "Roselawn\n",
            "Runnymede, The Junction North\n",
            "Weston\n",
            "Dorset Park, Wexford Heights, Scarborough Town Centre\n",
            "York Mills West\n",
            "Davisville North\n",
            "Forest Hill North & West\n",
            "High Park, The Junction South\n",
            "Westmount\n",
            "Wexford, Maryvale\n",
            "Willowdale\n",
            "North Toronto West\n",
            "The Annex, North Midtown, Yorkville\n",
            "Parkdale, Roncesvalles\n",
            "Canada Post Gateway Processing Centre\n",
            "Kingsview Village, St. Phillips, Martin Grove Gardens, Richview Gardens\n",
            "Agincourt\n",
            "Davisville\n",
            "University of Toronto, Harbord\n",
            "Runnymede, Swansea\n",
            "Clarks Corners, Tam O'Shanter, Sullivan\n",
            "Moore Park, Summerhill East\n",
            "Kensington Market, Chinatown, Grange Park\n",
            "Milliken, Agincourt North, Steeles East, L'Amoreaux East\n",
            "Summerhill West, Rathnelly, South Hill, Forest Hill SE, Deer Park\n",
            "CN Tower, King and Spadina, Railway Lands, Harbourfront West, Bathurst Quay, South Niagara, Island airport\n",
            "New Toronto, Mimico South, Humber Bay Shores\n",
            "South Steeles, Silverstone, Humbergate, Jamestown, Mount Olive, Beaumond Heights, Thistletown, Albion Gardens\n",
            "Steeles West, L'Amoreaux West\n",
            "Rosedale\n",
            "Stn A PO Boxes\n",
            "Alderwood, Long Branch\n",
            "Northwest\n",
            "Upper Rouge\n",
            "St. James Town, Cabbagetown\n",
            "First Canadian Place, Underground city\n",
            "The Kingsway, Montgomery Road, Old Mill North\n",
            "Church and Wellesley\n",
            "Business reply mail Processing Centre\n",
            "Old Mill South, King's Mill Park, Sunnylea, Humber Bay, Mimico NE, The Queensway East, Royal York South East, Kingsway Park South East\n",
            "Mimico NW, The Queensway West, South of Bloor, Kingsway Park South West, Royal York South West\n"
          ],
          "name": "stdout"
        }
      ]
    },
    {
      "cell_type": "code",
      "metadata": {
        "id": "jf0xY5Jtad2h",
        "colab_type": "code",
        "outputId": "5c3cb239-0cc5-4887-d613-db8e870f6374",
        "colab": {
          "base_uri": "https://localhost:8080/",
          "height": 33
        }
      },
      "source": [
        "toronto_venues.shape"
      ],
      "execution_count": 36,
      "outputs": [
        {
          "output_type": "execute_result",
          "data": {
            "text/plain": [
              "(412, 7)"
            ]
          },
          "metadata": {
            "tags": []
          },
          "execution_count": 36
        }
      ]
    },
    {
      "cell_type": "code",
      "metadata": {
        "id": "Aa-v1_Jjwxtc",
        "colab_type": "code",
        "outputId": "e8206077-ce65-4b09-b0bd-1ca437094cf8",
        "colab": {
          "base_uri": "https://localhost:8080/",
          "height": 197
        }
      },
      "source": [
        "toronto_venues.head()"
      ],
      "execution_count": 37,
      "outputs": [
        {
          "output_type": "execute_result",
          "data": {
            "text/html": [
              "<div>\n",
              "<style scoped>\n",
              "    .dataframe tbody tr th:only-of-type {\n",
              "        vertical-align: middle;\n",
              "    }\n",
              "\n",
              "    .dataframe tbody tr th {\n",
              "        vertical-align: top;\n",
              "    }\n",
              "\n",
              "    .dataframe thead th {\n",
              "        text-align: right;\n",
              "    }\n",
              "</style>\n",
              "<table border=\"1\" class=\"dataframe\">\n",
              "  <thead>\n",
              "    <tr style=\"text-align: right;\">\n",
              "      <th></th>\n",
              "      <th>Neighborhood</th>\n",
              "      <th>Neighborhood Latitude</th>\n",
              "      <th>Neighborhood Longitude</th>\n",
              "      <th>Venue</th>\n",
              "      <th>Venue Latitude</th>\n",
              "      <th>Venue Longitude</th>\n",
              "      <th>Venue Category</th>\n",
              "    </tr>\n",
              "  </thead>\n",
              "  <tbody>\n",
              "    <tr>\n",
              "      <th>0</th>\n",
              "      <td>Parkwoods</td>\n",
              "      <td>43.754326</td>\n",
              "      <td>-79.449117</td>\n",
              "      <td>Grill Gate</td>\n",
              "      <td>43.753123</td>\n",
              "      <td>-79.451690</td>\n",
              "      <td>Mediterranean Restaurant</td>\n",
              "    </tr>\n",
              "    <tr>\n",
              "      <th>1</th>\n",
              "      <td>Parkwoods</td>\n",
              "      <td>43.754326</td>\n",
              "      <td>-79.449117</td>\n",
              "      <td>Orly Restaurant &amp; Grill</td>\n",
              "      <td>43.754493</td>\n",
              "      <td>-79.443507</td>\n",
              "      <td>Middle Eastern Restaurant</td>\n",
              "    </tr>\n",
              "    <tr>\n",
              "      <th>2</th>\n",
              "      <td>Parkwoods</td>\n",
              "      <td>43.754326</td>\n",
              "      <td>-79.449117</td>\n",
              "      <td>Tim Hortons</td>\n",
              "      <td>43.754767</td>\n",
              "      <td>-79.443250</td>\n",
              "      <td>Coffee Shop</td>\n",
              "    </tr>\n",
              "    <tr>\n",
              "      <th>3</th>\n",
              "      <td>Parkwoods</td>\n",
              "      <td>43.754326</td>\n",
              "      <td>-79.449117</td>\n",
              "      <td>Domino's Pizza</td>\n",
              "      <td>43.753127</td>\n",
              "      <td>-79.450926</td>\n",
              "      <td>Pizza Place</td>\n",
              "    </tr>\n",
              "    <tr>\n",
              "      <th>4</th>\n",
              "      <td>Victoria Village</td>\n",
              "      <td>43.754326</td>\n",
              "      <td>-79.449117</td>\n",
              "      <td>Grill Gate</td>\n",
              "      <td>43.753123</td>\n",
              "      <td>-79.451690</td>\n",
              "      <td>Mediterranean Restaurant</td>\n",
              "    </tr>\n",
              "  </tbody>\n",
              "</table>\n",
              "</div>"
            ],
            "text/plain": [
              "       Neighborhood  ...             Venue Category\n",
              "0         Parkwoods  ...   Mediterranean Restaurant\n",
              "1         Parkwoods  ...  Middle Eastern Restaurant\n",
              "2         Parkwoods  ...                Coffee Shop\n",
              "3         Parkwoods  ...                Pizza Place\n",
              "4  Victoria Village  ...   Mediterranean Restaurant\n",
              "\n",
              "[5 rows x 7 columns]"
            ]
          },
          "metadata": {
            "tags": []
          },
          "execution_count": 37
        }
      ]
    },
    {
      "cell_type": "code",
      "metadata": {
        "id": "9MW_6pCGw7ne",
        "colab_type": "code",
        "outputId": "72431142-09df-4f0b-838c-f6039c9873ea",
        "colab": {
          "base_uri": "https://localhost:8080/",
          "height": 33
        }
      },
      "source": [
        "print('There are {} unique Venue categories.'.format(len(toronto_venues['Venue Category'].unique())))"
      ],
      "execution_count": 38,
      "outputs": [
        {
          "output_type": "stream",
          "text": [
            "There are 4 unique Venue categories.\n"
          ],
          "name": "stdout"
        }
      ]
    },
    {
      "cell_type": "code",
      "metadata": {
        "id": "CXyXvt6ZxLvh",
        "colab_type": "code",
        "outputId": "19d8b8c7-0bee-420e-cc44-cb7bace6d257",
        "colab": {
          "base_uri": "https://localhost:8080/",
          "height": 227
        }
      },
      "source": [
        "toronto_venues.groupby('Neighborhood').count().head()  #Each neighborhood had returned 4 venues"
      ],
      "execution_count": 39,
      "outputs": [
        {
          "output_type": "execute_result",
          "data": {
            "text/html": [
              "<div>\n",
              "<style scoped>\n",
              "    .dataframe tbody tr th:only-of-type {\n",
              "        vertical-align: middle;\n",
              "    }\n",
              "\n",
              "    .dataframe tbody tr th {\n",
              "        vertical-align: top;\n",
              "    }\n",
              "\n",
              "    .dataframe thead th {\n",
              "        text-align: right;\n",
              "    }\n",
              "</style>\n",
              "<table border=\"1\" class=\"dataframe\">\n",
              "  <thead>\n",
              "    <tr style=\"text-align: right;\">\n",
              "      <th></th>\n",
              "      <th>Neighborhood Latitude</th>\n",
              "      <th>Neighborhood Longitude</th>\n",
              "      <th>Venue</th>\n",
              "      <th>Venue Latitude</th>\n",
              "      <th>Venue Longitude</th>\n",
              "      <th>Venue Category</th>\n",
              "    </tr>\n",
              "    <tr>\n",
              "      <th>Neighborhood</th>\n",
              "      <th></th>\n",
              "      <th></th>\n",
              "      <th></th>\n",
              "      <th></th>\n",
              "      <th></th>\n",
              "      <th></th>\n",
              "    </tr>\n",
              "  </thead>\n",
              "  <tbody>\n",
              "    <tr>\n",
              "      <th>Agincourt</th>\n",
              "      <td>4</td>\n",
              "      <td>4</td>\n",
              "      <td>4</td>\n",
              "      <td>4</td>\n",
              "      <td>4</td>\n",
              "      <td>4</td>\n",
              "    </tr>\n",
              "    <tr>\n",
              "      <th>Alderwood, Long Branch</th>\n",
              "      <td>4</td>\n",
              "      <td>4</td>\n",
              "      <td>4</td>\n",
              "      <td>4</td>\n",
              "      <td>4</td>\n",
              "      <td>4</td>\n",
              "    </tr>\n",
              "    <tr>\n",
              "      <th>Bathurst Manor, Wilson Heights, Downsview North</th>\n",
              "      <td>4</td>\n",
              "      <td>4</td>\n",
              "      <td>4</td>\n",
              "      <td>4</td>\n",
              "      <td>4</td>\n",
              "      <td>4</td>\n",
              "    </tr>\n",
              "    <tr>\n",
              "      <th>Bayview Village</th>\n",
              "      <td>4</td>\n",
              "      <td>4</td>\n",
              "      <td>4</td>\n",
              "      <td>4</td>\n",
              "      <td>4</td>\n",
              "      <td>4</td>\n",
              "    </tr>\n",
              "    <tr>\n",
              "      <th>Bedford Park, Lawrence Manor East</th>\n",
              "      <td>4</td>\n",
              "      <td>4</td>\n",
              "      <td>4</td>\n",
              "      <td>4</td>\n",
              "      <td>4</td>\n",
              "      <td>4</td>\n",
              "    </tr>\n",
              "  </tbody>\n",
              "</table>\n",
              "</div>"
            ],
            "text/plain": [
              "                                                 Neighborhood Latitude  ...  Venue Category\n",
              "Neighborhood                                                            ...                \n",
              "Agincourt                                                            4  ...               4\n",
              "Alderwood, Long Branch                                               4  ...               4\n",
              "Bathurst Manor, Wilson Heights, Downsview North                      4  ...               4\n",
              "Bayview Village                                                      4  ...               4\n",
              "Bedford Park, Lawrence Manor East                                    4  ...               4\n",
              "\n",
              "[5 rows x 6 columns]"
            ]
          },
          "metadata": {
            "tags": []
          },
          "execution_count": 39
        }
      ]
    },
    {
      "cell_type": "markdown",
      "metadata": {
        "id": "CCkoahvLyvIA",
        "colab_type": "text"
      },
      "source": [
        "One-hot encoding"
      ]
    },
    {
      "cell_type": "code",
      "metadata": {
        "id": "W1Y4xiR-yCtO",
        "colab_type": "code",
        "outputId": "f51500ac-5aeb-4be9-efd9-99e63e380076",
        "colab": {
          "base_uri": "https://localhost:8080/",
          "height": 197
        }
      },
      "source": [
        "toronto_onehot = pd.get_dummies(toronto_venues[['Venue Category']], prefix=\"\", prefix_sep=\"\")\n",
        "toronto_onehot.head()"
      ],
      "execution_count": 40,
      "outputs": [
        {
          "output_type": "execute_result",
          "data": {
            "text/html": [
              "<div>\n",
              "<style scoped>\n",
              "    .dataframe tbody tr th:only-of-type {\n",
              "        vertical-align: middle;\n",
              "    }\n",
              "\n",
              "    .dataframe tbody tr th {\n",
              "        vertical-align: top;\n",
              "    }\n",
              "\n",
              "    .dataframe thead th {\n",
              "        text-align: right;\n",
              "    }\n",
              "</style>\n",
              "<table border=\"1\" class=\"dataframe\">\n",
              "  <thead>\n",
              "    <tr style=\"text-align: right;\">\n",
              "      <th></th>\n",
              "      <th>Coffee Shop</th>\n",
              "      <th>Mediterranean Restaurant</th>\n",
              "      <th>Middle Eastern Restaurant</th>\n",
              "      <th>Pizza Place</th>\n",
              "    </tr>\n",
              "  </thead>\n",
              "  <tbody>\n",
              "    <tr>\n",
              "      <th>0</th>\n",
              "      <td>0</td>\n",
              "      <td>1</td>\n",
              "      <td>0</td>\n",
              "      <td>0</td>\n",
              "    </tr>\n",
              "    <tr>\n",
              "      <th>1</th>\n",
              "      <td>0</td>\n",
              "      <td>0</td>\n",
              "      <td>1</td>\n",
              "      <td>0</td>\n",
              "    </tr>\n",
              "    <tr>\n",
              "      <th>2</th>\n",
              "      <td>1</td>\n",
              "      <td>0</td>\n",
              "      <td>0</td>\n",
              "      <td>0</td>\n",
              "    </tr>\n",
              "    <tr>\n",
              "      <th>3</th>\n",
              "      <td>0</td>\n",
              "      <td>0</td>\n",
              "      <td>0</td>\n",
              "      <td>1</td>\n",
              "    </tr>\n",
              "    <tr>\n",
              "      <th>4</th>\n",
              "      <td>0</td>\n",
              "      <td>1</td>\n",
              "      <td>0</td>\n",
              "      <td>0</td>\n",
              "    </tr>\n",
              "  </tbody>\n",
              "</table>\n",
              "</div>"
            ],
            "text/plain": [
              "   Coffee Shop  ...  Pizza Place\n",
              "0            0  ...            0\n",
              "1            0  ...            0\n",
              "2            1  ...            0\n",
              "3            0  ...            1\n",
              "4            0  ...            0\n",
              "\n",
              "[5 rows x 4 columns]"
            ]
          },
          "metadata": {
            "tags": []
          },
          "execution_count": 40
        }
      ]
    },
    {
      "cell_type": "code",
      "metadata": {
        "id": "ebcTXeUNylYr",
        "colab_type": "code",
        "outputId": "c2938cae-a0aa-42ec-f8a1-bb6f7f79be83",
        "colab": {
          "base_uri": "https://localhost:8080/",
          "height": 197
        }
      },
      "source": [
        "toronto_onehot['Neighborhood'] = toronto_venues['Neighborhood'] \n",
        "toronto_onehot.head()"
      ],
      "execution_count": 41,
      "outputs": [
        {
          "output_type": "execute_result",
          "data": {
            "text/html": [
              "<div>\n",
              "<style scoped>\n",
              "    .dataframe tbody tr th:only-of-type {\n",
              "        vertical-align: middle;\n",
              "    }\n",
              "\n",
              "    .dataframe tbody tr th {\n",
              "        vertical-align: top;\n",
              "    }\n",
              "\n",
              "    .dataframe thead th {\n",
              "        text-align: right;\n",
              "    }\n",
              "</style>\n",
              "<table border=\"1\" class=\"dataframe\">\n",
              "  <thead>\n",
              "    <tr style=\"text-align: right;\">\n",
              "      <th></th>\n",
              "      <th>Coffee Shop</th>\n",
              "      <th>Mediterranean Restaurant</th>\n",
              "      <th>Middle Eastern Restaurant</th>\n",
              "      <th>Pizza Place</th>\n",
              "      <th>Neighborhood</th>\n",
              "    </tr>\n",
              "  </thead>\n",
              "  <tbody>\n",
              "    <tr>\n",
              "      <th>0</th>\n",
              "      <td>0</td>\n",
              "      <td>1</td>\n",
              "      <td>0</td>\n",
              "      <td>0</td>\n",
              "      <td>Parkwoods</td>\n",
              "    </tr>\n",
              "    <tr>\n",
              "      <th>1</th>\n",
              "      <td>0</td>\n",
              "      <td>0</td>\n",
              "      <td>1</td>\n",
              "      <td>0</td>\n",
              "      <td>Parkwoods</td>\n",
              "    </tr>\n",
              "    <tr>\n",
              "      <th>2</th>\n",
              "      <td>1</td>\n",
              "      <td>0</td>\n",
              "      <td>0</td>\n",
              "      <td>0</td>\n",
              "      <td>Parkwoods</td>\n",
              "    </tr>\n",
              "    <tr>\n",
              "      <th>3</th>\n",
              "      <td>0</td>\n",
              "      <td>0</td>\n",
              "      <td>0</td>\n",
              "      <td>1</td>\n",
              "      <td>Parkwoods</td>\n",
              "    </tr>\n",
              "    <tr>\n",
              "      <th>4</th>\n",
              "      <td>0</td>\n",
              "      <td>1</td>\n",
              "      <td>0</td>\n",
              "      <td>0</td>\n",
              "      <td>Victoria Village</td>\n",
              "    </tr>\n",
              "  </tbody>\n",
              "</table>\n",
              "</div>"
            ],
            "text/plain": [
              "   Coffee Shop  Mediterranean Restaurant  ...  Pizza Place      Neighborhood\n",
              "0            0                         1  ...            0         Parkwoods\n",
              "1            0                         0  ...            0         Parkwoods\n",
              "2            1                         0  ...            0         Parkwoods\n",
              "3            0                         0  ...            1         Parkwoods\n",
              "4            0                         1  ...            0  Victoria Village\n",
              "\n",
              "[5 rows x 5 columns]"
            ]
          },
          "metadata": {
            "tags": []
          },
          "execution_count": 41
        }
      ]
    },
    {
      "cell_type": "code",
      "metadata": {
        "id": "mBhrjHMwzsjh",
        "colab_type": "code",
        "outputId": "88c314ce-e625-428c-cee5-e17ba0d21086",
        "colab": {
          "base_uri": "https://localhost:8080/",
          "height": 197
        }
      },
      "source": [
        "toronto_onehot = toronto_onehot[[toronto_onehot.columns[-1]] + list(toronto_onehot.columns[:-1])]\n",
        "toronto_onehot.head()"
      ],
      "execution_count": 42,
      "outputs": [
        {
          "output_type": "execute_result",
          "data": {
            "text/html": [
              "<div>\n",
              "<style scoped>\n",
              "    .dataframe tbody tr th:only-of-type {\n",
              "        vertical-align: middle;\n",
              "    }\n",
              "\n",
              "    .dataframe tbody tr th {\n",
              "        vertical-align: top;\n",
              "    }\n",
              "\n",
              "    .dataframe thead th {\n",
              "        text-align: right;\n",
              "    }\n",
              "</style>\n",
              "<table border=\"1\" class=\"dataframe\">\n",
              "  <thead>\n",
              "    <tr style=\"text-align: right;\">\n",
              "      <th></th>\n",
              "      <th>Neighborhood</th>\n",
              "      <th>Coffee Shop</th>\n",
              "      <th>Mediterranean Restaurant</th>\n",
              "      <th>Middle Eastern Restaurant</th>\n",
              "      <th>Pizza Place</th>\n",
              "    </tr>\n",
              "  </thead>\n",
              "  <tbody>\n",
              "    <tr>\n",
              "      <th>0</th>\n",
              "      <td>Parkwoods</td>\n",
              "      <td>0</td>\n",
              "      <td>1</td>\n",
              "      <td>0</td>\n",
              "      <td>0</td>\n",
              "    </tr>\n",
              "    <tr>\n",
              "      <th>1</th>\n",
              "      <td>Parkwoods</td>\n",
              "      <td>0</td>\n",
              "      <td>0</td>\n",
              "      <td>1</td>\n",
              "      <td>0</td>\n",
              "    </tr>\n",
              "    <tr>\n",
              "      <th>2</th>\n",
              "      <td>Parkwoods</td>\n",
              "      <td>1</td>\n",
              "      <td>0</td>\n",
              "      <td>0</td>\n",
              "      <td>0</td>\n",
              "    </tr>\n",
              "    <tr>\n",
              "      <th>3</th>\n",
              "      <td>Parkwoods</td>\n",
              "      <td>0</td>\n",
              "      <td>0</td>\n",
              "      <td>0</td>\n",
              "      <td>1</td>\n",
              "    </tr>\n",
              "    <tr>\n",
              "      <th>4</th>\n",
              "      <td>Victoria Village</td>\n",
              "      <td>0</td>\n",
              "      <td>1</td>\n",
              "      <td>0</td>\n",
              "      <td>0</td>\n",
              "    </tr>\n",
              "  </tbody>\n",
              "</table>\n",
              "</div>"
            ],
            "text/plain": [
              "       Neighborhood  Coffee Shop  ...  Middle Eastern Restaurant  Pizza Place\n",
              "0         Parkwoods            0  ...                          0            0\n",
              "1         Parkwoods            0  ...                          1            0\n",
              "2         Parkwoods            1  ...                          0            0\n",
              "3         Parkwoods            0  ...                          0            1\n",
              "4  Victoria Village            0  ...                          0            0\n",
              "\n",
              "[5 rows x 5 columns]"
            ]
          },
          "metadata": {
            "tags": []
          },
          "execution_count": 42
        }
      ]
    },
    {
      "cell_type": "code",
      "metadata": {
        "id": "GrEJlzn90En8",
        "colab_type": "code",
        "outputId": "fa24f4ba-d268-461b-a8a2-e1b4201c3e49",
        "colab": {
          "base_uri": "https://localhost:8080/",
          "height": 197
        }
      },
      "source": [
        "# group rows by neighborhood taking the mean of the frequency of occurrence of each category\n",
        "toronto_grouped = toronto_onehot.groupby('Neighborhood').mean().reset_index()\n",
        "toronto_grouped.head()"
      ],
      "execution_count": 43,
      "outputs": [
        {
          "output_type": "execute_result",
          "data": {
            "text/html": [
              "<div>\n",
              "<style scoped>\n",
              "    .dataframe tbody tr th:only-of-type {\n",
              "        vertical-align: middle;\n",
              "    }\n",
              "\n",
              "    .dataframe tbody tr th {\n",
              "        vertical-align: top;\n",
              "    }\n",
              "\n",
              "    .dataframe thead th {\n",
              "        text-align: right;\n",
              "    }\n",
              "</style>\n",
              "<table border=\"1\" class=\"dataframe\">\n",
              "  <thead>\n",
              "    <tr style=\"text-align: right;\">\n",
              "      <th></th>\n",
              "      <th>Neighborhood</th>\n",
              "      <th>Coffee Shop</th>\n",
              "      <th>Mediterranean Restaurant</th>\n",
              "      <th>Middle Eastern Restaurant</th>\n",
              "      <th>Pizza Place</th>\n",
              "    </tr>\n",
              "  </thead>\n",
              "  <tbody>\n",
              "    <tr>\n",
              "      <th>0</th>\n",
              "      <td>Agincourt</td>\n",
              "      <td>0.25</td>\n",
              "      <td>0.25</td>\n",
              "      <td>0.25</td>\n",
              "      <td>0.25</td>\n",
              "    </tr>\n",
              "    <tr>\n",
              "      <th>1</th>\n",
              "      <td>Alderwood, Long Branch</td>\n",
              "      <td>0.25</td>\n",
              "      <td>0.25</td>\n",
              "      <td>0.25</td>\n",
              "      <td>0.25</td>\n",
              "    </tr>\n",
              "    <tr>\n",
              "      <th>2</th>\n",
              "      <td>Bathurst Manor, Wilson Heights, Downsview North</td>\n",
              "      <td>0.25</td>\n",
              "      <td>0.25</td>\n",
              "      <td>0.25</td>\n",
              "      <td>0.25</td>\n",
              "    </tr>\n",
              "    <tr>\n",
              "      <th>3</th>\n",
              "      <td>Bayview Village</td>\n",
              "      <td>0.25</td>\n",
              "      <td>0.25</td>\n",
              "      <td>0.25</td>\n",
              "      <td>0.25</td>\n",
              "    </tr>\n",
              "    <tr>\n",
              "      <th>4</th>\n",
              "      <td>Bedford Park, Lawrence Manor East</td>\n",
              "      <td>0.25</td>\n",
              "      <td>0.25</td>\n",
              "      <td>0.25</td>\n",
              "      <td>0.25</td>\n",
              "    </tr>\n",
              "  </tbody>\n",
              "</table>\n",
              "</div>"
            ],
            "text/plain": [
              "                                      Neighborhood  ...  Pizza Place\n",
              "0                                        Agincourt  ...         0.25\n",
              "1                           Alderwood, Long Branch  ...         0.25\n",
              "2  Bathurst Manor, Wilson Heights, Downsview North  ...         0.25\n",
              "3                                  Bayview Village  ...         0.25\n",
              "4                Bedford Park, Lawrence Manor East  ...         0.25\n",
              "\n",
              "[5 rows x 5 columns]"
            ]
          },
          "metadata": {
            "tags": []
          },
          "execution_count": 43
        }
      ]
    },
    {
      "cell_type": "code",
      "metadata": {
        "id": "nhPjj9051xMV",
        "colab_type": "code",
        "outputId": "abb3c331-4d38-4bdf-9be9-a7fe04724521",
        "colab": {
          "base_uri": "https://localhost:8080/",
          "height": 33
        }
      },
      "source": [
        "len(df.Neighborhood.unique())"
      ],
      "execution_count": 44,
      "outputs": [
        {
          "output_type": "execute_result",
          "data": {
            "text/plain": [
              "98"
            ]
          },
          "metadata": {
            "tags": []
          },
          "execution_count": 44
        }
      ]
    },
    {
      "cell_type": "code",
      "metadata": {
        "id": "7XLA0J7C1jAA",
        "colab_type": "code",
        "outputId": "5b7507e5-366f-4309-a35d-9930c44e16fb",
        "colab": {
          "base_uri": "https://localhost:8080/",
          "height": 33
        }
      },
      "source": [
        "toronto_grouped.shape"
      ],
      "execution_count": 45,
      "outputs": [
        {
          "output_type": "execute_result",
          "data": {
            "text/plain": [
              "(98, 5)"
            ]
          },
          "metadata": {
            "tags": []
          },
          "execution_count": 45
        }
      ]
    },
    {
      "cell_type": "code",
      "metadata": {
        "id": "0rIuqJUc2VK6",
        "colab_type": "code",
        "outputId": "415d2e3d-3de7-43f0-fb29-48bc72389a33",
        "colab": {
          "base_uri": "https://localhost:8080/",
          "height": 1000
        }
      },
      "source": [
        "num_top_venues = 5  #top 5 venues of each neighborhood\n",
        "\n",
        "for hood in toronto_grouped['Neighborhood']:\n",
        "    print(\"  ----\"+hood+\"----\")\n",
        "    temp = toronto_grouped[toronto_grouped['Neighborhood'] == hood].T.reset_index()\n",
        "    temp.columns = ['venue','freq']\n",
        "    temp = temp.iloc[1:]\n",
        "    temp['freq'] = temp['freq'].astype(float)\n",
        "    temp = temp.round({'freq': 2})\n",
        "    print(temp.sort_values('freq', ascending=False).reset_index(drop=True).head(num_top_venues))\n",
        "    print('\\n')"
      ],
      "execution_count": 46,
      "outputs": [
        {
          "output_type": "stream",
          "text": [
            "  ----Agincourt----\n",
            "                       venue  freq\n",
            "0                Coffee Shop  0.25\n",
            "1   Mediterranean Restaurant  0.25\n",
            "2  Middle Eastern Restaurant  0.25\n",
            "3                Pizza Place  0.25\n",
            "\n",
            "\n",
            "  ----Alderwood, Long Branch----\n",
            "                       venue  freq\n",
            "0                Coffee Shop  0.25\n",
            "1   Mediterranean Restaurant  0.25\n",
            "2  Middle Eastern Restaurant  0.25\n",
            "3                Pizza Place  0.25\n",
            "\n",
            "\n",
            "  ----Bathurst Manor, Wilson Heights, Downsview North----\n",
            "                       venue  freq\n",
            "0                Coffee Shop  0.25\n",
            "1   Mediterranean Restaurant  0.25\n",
            "2  Middle Eastern Restaurant  0.25\n",
            "3                Pizza Place  0.25\n",
            "\n",
            "\n",
            "  ----Bayview Village----\n",
            "                       venue  freq\n",
            "0                Coffee Shop  0.25\n",
            "1   Mediterranean Restaurant  0.25\n",
            "2  Middle Eastern Restaurant  0.25\n",
            "3                Pizza Place  0.25\n",
            "\n",
            "\n",
            "  ----Bedford Park, Lawrence Manor East----\n",
            "                       venue  freq\n",
            "0                Coffee Shop  0.25\n",
            "1   Mediterranean Restaurant  0.25\n",
            "2  Middle Eastern Restaurant  0.25\n",
            "3                Pizza Place  0.25\n",
            "\n",
            "\n",
            "  ----Berczy Park----\n",
            "                       venue  freq\n",
            "0                Coffee Shop  0.25\n",
            "1   Mediterranean Restaurant  0.25\n",
            "2  Middle Eastern Restaurant  0.25\n",
            "3                Pizza Place  0.25\n",
            "\n",
            "\n",
            "  ----Birch Cliff, Cliffside West----\n",
            "                       venue  freq\n",
            "0                Coffee Shop  0.25\n",
            "1   Mediterranean Restaurant  0.25\n",
            "2  Middle Eastern Restaurant  0.25\n",
            "3                Pizza Place  0.25\n",
            "\n",
            "\n",
            "  ----Brockton, Parkdale Village, Exhibition Place----\n",
            "                       venue  freq\n",
            "0                Coffee Shop  0.25\n",
            "1   Mediterranean Restaurant  0.25\n",
            "2  Middle Eastern Restaurant  0.25\n",
            "3                Pizza Place  0.25\n",
            "\n",
            "\n",
            "  ----Business reply mail Processing Centre----\n",
            "                       venue  freq\n",
            "0                Coffee Shop  0.25\n",
            "1   Mediterranean Restaurant  0.25\n",
            "2  Middle Eastern Restaurant  0.25\n",
            "3                Pizza Place  0.25\n",
            "\n",
            "\n",
            "  ----CN Tower, King and Spadina, Railway Lands, Harbourfront West, Bathurst Quay, South Niagara, Island airport----\n",
            "                       venue  freq\n",
            "0                Coffee Shop  0.25\n",
            "1   Mediterranean Restaurant  0.25\n",
            "2  Middle Eastern Restaurant  0.25\n",
            "3                Pizza Place  0.25\n",
            "\n",
            "\n",
            "  ----Caledonia-Fairbanks----\n",
            "                       venue  freq\n",
            "0                Coffee Shop  0.25\n",
            "1   Mediterranean Restaurant  0.25\n",
            "2  Middle Eastern Restaurant  0.25\n",
            "3                Pizza Place  0.25\n",
            "\n",
            "\n",
            "  ----Canada Post Gateway Processing Centre----\n",
            "                       venue  freq\n",
            "0                Coffee Shop  0.25\n",
            "1   Mediterranean Restaurant  0.25\n",
            "2  Middle Eastern Restaurant  0.25\n",
            "3                Pizza Place  0.25\n",
            "\n",
            "\n",
            "  ----Cedarbrae----\n",
            "                       venue  freq\n",
            "0                Coffee Shop  0.25\n",
            "1   Mediterranean Restaurant  0.25\n",
            "2  Middle Eastern Restaurant  0.25\n",
            "3                Pizza Place  0.25\n",
            "\n",
            "\n",
            "  ----Central Bay Street----\n",
            "                       venue  freq\n",
            "0                Coffee Shop  0.25\n",
            "1   Mediterranean Restaurant  0.25\n",
            "2  Middle Eastern Restaurant  0.25\n",
            "3                Pizza Place  0.25\n",
            "\n",
            "\n",
            "  ----Christie----\n",
            "                       venue  freq\n",
            "0                Coffee Shop  0.25\n",
            "1   Mediterranean Restaurant  0.25\n",
            "2  Middle Eastern Restaurant  0.25\n",
            "3                Pizza Place  0.25\n",
            "\n",
            "\n",
            "  ----Church and Wellesley----\n",
            "                       venue  freq\n",
            "0                Coffee Shop  0.25\n",
            "1   Mediterranean Restaurant  0.25\n",
            "2  Middle Eastern Restaurant  0.25\n",
            "3                Pizza Place  0.25\n",
            "\n",
            "\n",
            "  ----Clarks Corners, Tam O'Shanter, Sullivan----\n",
            "                       venue  freq\n",
            "0                Coffee Shop  0.25\n",
            "1   Mediterranean Restaurant  0.25\n",
            "2  Middle Eastern Restaurant  0.25\n",
            "3                Pizza Place  0.25\n",
            "\n",
            "\n",
            "  ----Cliffside, Cliffcrest, Scarborough Village West----\n",
            "                       venue  freq\n",
            "0                Coffee Shop  0.25\n",
            "1   Mediterranean Restaurant  0.25\n",
            "2  Middle Eastern Restaurant  0.25\n",
            "3                Pizza Place  0.25\n",
            "\n",
            "\n",
            "  ----Commerce Court, Victoria Hotel----\n",
            "                       venue  freq\n",
            "0                Coffee Shop  0.25\n",
            "1   Mediterranean Restaurant  0.25\n",
            "2  Middle Eastern Restaurant  0.25\n",
            "3                Pizza Place  0.25\n",
            "\n",
            "\n",
            "  ----Davisville----\n",
            "                       venue  freq\n",
            "0                Coffee Shop  0.25\n",
            "1   Mediterranean Restaurant  0.25\n",
            "2  Middle Eastern Restaurant  0.25\n",
            "3                Pizza Place  0.25\n",
            "\n",
            "\n",
            "  ----Davisville North----\n",
            "                       venue  freq\n",
            "0                Coffee Shop  0.25\n",
            "1   Mediterranean Restaurant  0.25\n",
            "2  Middle Eastern Restaurant  0.25\n",
            "3                Pizza Place  0.25\n",
            "\n",
            "\n",
            "  ----Del Ray, Mount Dennis, Keelsdale and Silverthorn----\n",
            "                       venue  freq\n",
            "0                Coffee Shop  0.25\n",
            "1   Mediterranean Restaurant  0.25\n",
            "2  Middle Eastern Restaurant  0.25\n",
            "3                Pizza Place  0.25\n",
            "\n",
            "\n",
            "  ----Don Mills----\n",
            "                       venue  freq\n",
            "0                Coffee Shop  0.25\n",
            "1   Mediterranean Restaurant  0.25\n",
            "2  Middle Eastern Restaurant  0.25\n",
            "3                Pizza Place  0.25\n",
            "\n",
            "\n",
            "  ----Dorset Park, Wexford Heights, Scarborough Town Centre----\n",
            "                       venue  freq\n",
            "0                Coffee Shop  0.25\n",
            "1   Mediterranean Restaurant  0.25\n",
            "2  Middle Eastern Restaurant  0.25\n",
            "3                Pizza Place  0.25\n",
            "\n",
            "\n",
            "  ----Downsview----\n",
            "                       venue  freq\n",
            "0                Coffee Shop  0.25\n",
            "1   Mediterranean Restaurant  0.25\n",
            "2  Middle Eastern Restaurant  0.25\n",
            "3                Pizza Place  0.25\n",
            "\n",
            "\n",
            "  ----Dufferin, Dovercourt Village----\n",
            "                       venue  freq\n",
            "0                Coffee Shop  0.25\n",
            "1   Mediterranean Restaurant  0.25\n",
            "2  Middle Eastern Restaurant  0.25\n",
            "3                Pizza Place  0.25\n",
            "\n",
            "\n",
            "  ----East Toronto----\n",
            "                       venue  freq\n",
            "0                Coffee Shop  0.25\n",
            "1   Mediterranean Restaurant  0.25\n",
            "2  Middle Eastern Restaurant  0.25\n",
            "3                Pizza Place  0.25\n",
            "\n",
            "\n",
            "  ----Eringate, Bloordale Gardens, Old Burnhamthorpe, Markland Wood----\n",
            "                       venue  freq\n",
            "0                Coffee Shop  0.25\n",
            "1   Mediterranean Restaurant  0.25\n",
            "2  Middle Eastern Restaurant  0.25\n",
            "3                Pizza Place  0.25\n",
            "\n",
            "\n",
            "  ----Fairview, Henry Farm, Oriole----\n",
            "                       venue  freq\n",
            "0                Coffee Shop  0.25\n",
            "1   Mediterranean Restaurant  0.25\n",
            "2  Middle Eastern Restaurant  0.25\n",
            "3                Pizza Place  0.25\n",
            "\n",
            "\n",
            "  ----First Canadian Place, Underground city----\n",
            "                       venue  freq\n",
            "0                Coffee Shop  0.25\n",
            "1   Mediterranean Restaurant  0.25\n",
            "2  Middle Eastern Restaurant  0.25\n",
            "3                Pizza Place  0.25\n",
            "\n",
            "\n",
            "  ----Forest Hill North & West----\n",
            "                       venue  freq\n",
            "0                Coffee Shop  0.25\n",
            "1   Mediterranean Restaurant  0.25\n",
            "2  Middle Eastern Restaurant  0.25\n",
            "3                Pizza Place  0.25\n",
            "\n",
            "\n",
            "  ----Garden District, Ryerson----\n",
            "                       venue  freq\n",
            "0                Coffee Shop  0.25\n",
            "1   Mediterranean Restaurant  0.25\n",
            "2  Middle Eastern Restaurant  0.25\n",
            "3                Pizza Place  0.25\n",
            "\n",
            "\n",
            "  ----Glencairn----\n",
            "                       venue  freq\n",
            "0                Coffee Shop  0.25\n",
            "1   Mediterranean Restaurant  0.25\n",
            "2  Middle Eastern Restaurant  0.25\n",
            "3                Pizza Place  0.25\n",
            "\n",
            "\n",
            "  ----Golden Mile, Clairlea, Oakridge----\n",
            "                       venue  freq\n",
            "0                Coffee Shop  0.25\n",
            "1   Mediterranean Restaurant  0.25\n",
            "2  Middle Eastern Restaurant  0.25\n",
            "3                Pizza Place  0.25\n",
            "\n",
            "\n",
            "  ----Guildwood, Morningside, West Hill----\n",
            "                       venue  freq\n",
            "0                Coffee Shop  0.25\n",
            "1   Mediterranean Restaurant  0.25\n",
            "2  Middle Eastern Restaurant  0.25\n",
            "3                Pizza Place  0.25\n",
            "\n",
            "\n",
            "  ----Harbourfront East, Union Station, Toronto Islands----\n",
            "                       venue  freq\n",
            "0                Coffee Shop  0.25\n",
            "1   Mediterranean Restaurant  0.25\n",
            "2  Middle Eastern Restaurant  0.25\n",
            "3                Pizza Place  0.25\n",
            "\n",
            "\n",
            "  ----High Park, The Junction South----\n",
            "                       venue  freq\n",
            "0                Coffee Shop  0.25\n",
            "1   Mediterranean Restaurant  0.25\n",
            "2  Middle Eastern Restaurant  0.25\n",
            "3                Pizza Place  0.25\n",
            "\n",
            "\n",
            "  ----Hillcrest Village----\n",
            "                       venue  freq\n",
            "0                Coffee Shop  0.25\n",
            "1   Mediterranean Restaurant  0.25\n",
            "2  Middle Eastern Restaurant  0.25\n",
            "3                Pizza Place  0.25\n",
            "\n",
            "\n",
            "  ----Humber Summit----\n",
            "                       venue  freq\n",
            "0                Coffee Shop  0.25\n",
            "1   Mediterranean Restaurant  0.25\n",
            "2  Middle Eastern Restaurant  0.25\n",
            "3                Pizza Place  0.25\n",
            "\n",
            "\n",
            "  ----Humberlea, Emery----\n",
            "                       venue  freq\n",
            "0                Coffee Shop  0.25\n",
            "1   Mediterranean Restaurant  0.25\n",
            "2  Middle Eastern Restaurant  0.25\n",
            "3                Pizza Place  0.25\n",
            "\n",
            "\n",
            "  ----Humewood-Cedarvale----\n",
            "                       venue  freq\n",
            "0                Coffee Shop  0.25\n",
            "1   Mediterranean Restaurant  0.25\n",
            "2  Middle Eastern Restaurant  0.25\n",
            "3                Pizza Place  0.25\n",
            "\n",
            "\n",
            "  ----India Bazaar, The Beaches West----\n",
            "                       venue  freq\n",
            "0                Coffee Shop  0.25\n",
            "1   Mediterranean Restaurant  0.25\n",
            "2  Middle Eastern Restaurant  0.25\n",
            "3                Pizza Place  0.25\n",
            "\n",
            "\n",
            "  ----Islington Avenue----\n",
            "                       venue  freq\n",
            "0                Coffee Shop  0.25\n",
            "1   Mediterranean Restaurant  0.25\n",
            "2  Middle Eastern Restaurant  0.25\n",
            "3                Pizza Place  0.25\n",
            "\n",
            "\n",
            "  ----Kennedy Park, Ionview, East Birchmount Park----\n",
            "                       venue  freq\n",
            "0                Coffee Shop  0.25\n",
            "1   Mediterranean Restaurant  0.25\n",
            "2  Middle Eastern Restaurant  0.25\n",
            "3                Pizza Place  0.25\n",
            "\n",
            "\n",
            "  ----Kensington Market, Chinatown, Grange Park----\n",
            "                       venue  freq\n",
            "0                Coffee Shop  0.25\n",
            "1   Mediterranean Restaurant  0.25\n",
            "2  Middle Eastern Restaurant  0.25\n",
            "3                Pizza Place  0.25\n",
            "\n",
            "\n",
            "  ----Kingsview Village, St. Phillips, Martin Grove Gardens, Richview Gardens----\n",
            "                       venue  freq\n",
            "0                Coffee Shop  0.25\n",
            "1   Mediterranean Restaurant  0.25\n",
            "2  Middle Eastern Restaurant  0.25\n",
            "3                Pizza Place  0.25\n",
            "\n",
            "\n",
            "  ----Lawrence Manor, Lawrence Heights----\n",
            "                       venue  freq\n",
            "0                Coffee Shop  0.25\n",
            "1   Mediterranean Restaurant  0.25\n",
            "2  Middle Eastern Restaurant  0.25\n",
            "3                Pizza Place  0.25\n",
            "\n",
            "\n",
            "  ----Lawrence Park----\n",
            "                       venue  freq\n",
            "0                Coffee Shop  0.25\n",
            "1   Mediterranean Restaurant  0.25\n",
            "2  Middle Eastern Restaurant  0.25\n",
            "3                Pizza Place  0.25\n",
            "\n",
            "\n",
            "  ----Leaside----\n",
            "                       venue  freq\n",
            "0                Coffee Shop  0.25\n",
            "1   Mediterranean Restaurant  0.25\n",
            "2  Middle Eastern Restaurant  0.25\n",
            "3                Pizza Place  0.25\n",
            "\n",
            "\n",
            "  ----Little Portugal, Trinity----\n",
            "                       venue  freq\n",
            "0                Coffee Shop  0.25\n",
            "1   Mediterranean Restaurant  0.25\n",
            "2  Middle Eastern Restaurant  0.25\n",
            "3                Pizza Place  0.25\n",
            "\n",
            "\n",
            "  ----Malvern, Rouge----\n",
            "                       venue  freq\n",
            "0                Coffee Shop  0.25\n",
            "1   Mediterranean Restaurant  0.25\n",
            "2  Middle Eastern Restaurant  0.25\n",
            "3                Pizza Place  0.25\n",
            "\n",
            "\n",
            "  ----Milliken, Agincourt North, Steeles East, L'Amoreaux East----\n",
            "                       venue  freq\n",
            "0                Coffee Shop  0.25\n",
            "1   Mediterranean Restaurant  0.25\n",
            "2  Middle Eastern Restaurant  0.25\n",
            "3                Pizza Place  0.25\n",
            "\n",
            "\n",
            "  ----Mimico NW, The Queensway West, South of Bloor, Kingsway Park South West, Royal York South West----\n",
            "                       venue  freq\n",
            "0                Coffee Shop  0.25\n",
            "1   Mediterranean Restaurant  0.25\n",
            "2  Middle Eastern Restaurant  0.25\n",
            "3                Pizza Place  0.25\n",
            "\n",
            "\n",
            "  ----Moore Park, Summerhill East----\n",
            "                       venue  freq\n",
            "0                Coffee Shop  0.25\n",
            "1   Mediterranean Restaurant  0.25\n",
            "2  Middle Eastern Restaurant  0.25\n",
            "3                Pizza Place  0.25\n",
            "\n",
            "\n",
            "  ----New Toronto, Mimico South, Humber Bay Shores----\n",
            "                       venue  freq\n",
            "0                Coffee Shop  0.25\n",
            "1   Mediterranean Restaurant  0.25\n",
            "2  Middle Eastern Restaurant  0.25\n",
            "3                Pizza Place  0.25\n",
            "\n",
            "\n",
            "  ----North Park, Maple Leaf Park, Upwood Park----\n",
            "                       venue  freq\n",
            "0                Coffee Shop  0.25\n",
            "1   Mediterranean Restaurant  0.25\n",
            "2  Middle Eastern Restaurant  0.25\n",
            "3                Pizza Place  0.25\n",
            "\n",
            "\n",
            "  ----North Toronto West----\n",
            "                       venue  freq\n",
            "0                Coffee Shop  0.25\n",
            "1   Mediterranean Restaurant  0.25\n",
            "2  Middle Eastern Restaurant  0.25\n",
            "3                Pizza Place  0.25\n",
            "\n",
            "\n",
            "  ----Northwest----\n",
            "                       venue  freq\n",
            "0                Coffee Shop  0.25\n",
            "1   Mediterranean Restaurant  0.25\n",
            "2  Middle Eastern Restaurant  0.25\n",
            "3                Pizza Place  0.25\n",
            "\n",
            "\n",
            "  ----Northwood Park, York University----\n",
            "                       venue  freq\n",
            "0                Coffee Shop  0.25\n",
            "1   Mediterranean Restaurant  0.25\n",
            "2  Middle Eastern Restaurant  0.25\n",
            "3                Pizza Place  0.25\n",
            "\n",
            "\n",
            "  ----Old Mill South, King's Mill Park, Sunnylea, Humber Bay, Mimico NE, The Queensway East, Royal York South East, Kingsway Park South East----\n",
            "                       venue  freq\n",
            "0                Coffee Shop  0.25\n",
            "1   Mediterranean Restaurant  0.25\n",
            "2  Middle Eastern Restaurant  0.25\n",
            "3                Pizza Place  0.25\n",
            "\n",
            "\n",
            "  ----Parkdale, Roncesvalles----\n",
            "                       venue  freq\n",
            "0                Coffee Shop  0.25\n",
            "1   Mediterranean Restaurant  0.25\n",
            "2  Middle Eastern Restaurant  0.25\n",
            "3                Pizza Place  0.25\n",
            "\n",
            "\n",
            "  ----Parkview Hill, Woodbine Gardens----\n",
            "                       venue  freq\n",
            "0                Coffee Shop  0.25\n",
            "1   Mediterranean Restaurant  0.25\n",
            "2  Middle Eastern Restaurant  0.25\n",
            "3                Pizza Place  0.25\n",
            "\n",
            "\n",
            "  ----Parkwoods----\n",
            "                       venue  freq\n",
            "0                Coffee Shop  0.25\n",
            "1   Mediterranean Restaurant  0.25\n",
            "2  Middle Eastern Restaurant  0.25\n",
            "3                Pizza Place  0.25\n",
            "\n",
            "\n",
            "  ----Queen's Park, Ontario Provincial Government----\n",
            "                       venue  freq\n",
            "0                Coffee Shop  0.25\n",
            "1   Mediterranean Restaurant  0.25\n",
            "2  Middle Eastern Restaurant  0.25\n",
            "3                Pizza Place  0.25\n",
            "\n",
            "\n",
            "  ----Regent Park, Harbourfront----\n",
            "                       venue  freq\n",
            "0                Coffee Shop  0.25\n",
            "1   Mediterranean Restaurant  0.25\n",
            "2  Middle Eastern Restaurant  0.25\n",
            "3                Pizza Place  0.25\n",
            "\n",
            "\n",
            "  ----Richmond, Adelaide, King----\n",
            "                       venue  freq\n",
            "0                Coffee Shop  0.25\n",
            "1   Mediterranean Restaurant  0.25\n",
            "2  Middle Eastern Restaurant  0.25\n",
            "3                Pizza Place  0.25\n",
            "\n",
            "\n",
            "  ----Rosedale----\n",
            "                       venue  freq\n",
            "0                Coffee Shop  0.25\n",
            "1   Mediterranean Restaurant  0.25\n",
            "2  Middle Eastern Restaurant  0.25\n",
            "3                Pizza Place  0.25\n",
            "\n",
            "\n",
            "  ----Roselawn----\n",
            "                       venue  freq\n",
            "0                Coffee Shop  0.25\n",
            "1   Mediterranean Restaurant  0.25\n",
            "2  Middle Eastern Restaurant  0.25\n",
            "3                Pizza Place  0.25\n",
            "\n",
            "\n",
            "  ----Rouge Hill, Port Union, Highland Creek----\n",
            "                       venue  freq\n",
            "0                Coffee Shop  0.25\n",
            "1   Mediterranean Restaurant  0.25\n",
            "2  Middle Eastern Restaurant  0.25\n",
            "3                Pizza Place  0.25\n",
            "\n",
            "\n",
            "  ----Runnymede, Swansea----\n",
            "                       venue  freq\n",
            "0                Coffee Shop  0.25\n",
            "1   Mediterranean Restaurant  0.25\n",
            "2  Middle Eastern Restaurant  0.25\n",
            "3                Pizza Place  0.25\n",
            "\n",
            "\n",
            "  ----Runnymede, The Junction North----\n",
            "                       venue  freq\n",
            "0                Coffee Shop  0.25\n",
            "1   Mediterranean Restaurant  0.25\n",
            "2  Middle Eastern Restaurant  0.25\n",
            "3                Pizza Place  0.25\n",
            "\n",
            "\n",
            "  ----Scarborough Village----\n",
            "                       venue  freq\n",
            "0                Coffee Shop  0.25\n",
            "1   Mediterranean Restaurant  0.25\n",
            "2  Middle Eastern Restaurant  0.25\n",
            "3                Pizza Place  0.25\n",
            "\n",
            "\n",
            "  ----South Steeles, Silverstone, Humbergate, Jamestown, Mount Olive, Beaumond Heights, Thistletown, Albion Gardens----\n",
            "                       venue  freq\n",
            "0                Coffee Shop  0.25\n",
            "1   Mediterranean Restaurant  0.25\n",
            "2  Middle Eastern Restaurant  0.25\n",
            "3                Pizza Place  0.25\n",
            "\n",
            "\n",
            "  ----St. James Town----\n",
            "                       venue  freq\n",
            "0                Coffee Shop  0.25\n",
            "1   Mediterranean Restaurant  0.25\n",
            "2  Middle Eastern Restaurant  0.25\n",
            "3                Pizza Place  0.25\n",
            "\n",
            "\n",
            "  ----St. James Town, Cabbagetown----\n",
            "                       venue  freq\n",
            "0                Coffee Shop  0.25\n",
            "1   Mediterranean Restaurant  0.25\n",
            "2  Middle Eastern Restaurant  0.25\n",
            "3                Pizza Place  0.25\n",
            "\n",
            "\n",
            "  ----Steeles West, L'Amoreaux West----\n",
            "                       venue  freq\n",
            "0                Coffee Shop  0.25\n",
            "1   Mediterranean Restaurant  0.25\n",
            "2  Middle Eastern Restaurant  0.25\n",
            "3                Pizza Place  0.25\n",
            "\n",
            "\n",
            "  ----Stn A PO Boxes----\n",
            "                       venue  freq\n",
            "0                Coffee Shop  0.25\n",
            "1   Mediterranean Restaurant  0.25\n",
            "2  Middle Eastern Restaurant  0.25\n",
            "3                Pizza Place  0.25\n",
            "\n",
            "\n",
            "  ----Studio District----\n",
            "                       venue  freq\n",
            "0                Coffee Shop  0.25\n",
            "1   Mediterranean Restaurant  0.25\n",
            "2  Middle Eastern Restaurant  0.25\n",
            "3                Pizza Place  0.25\n",
            "\n",
            "\n",
            "  ----Summerhill West, Rathnelly, South Hill, Forest Hill SE, Deer Park----\n",
            "                       venue  freq\n",
            "0                Coffee Shop  0.25\n",
            "1   Mediterranean Restaurant  0.25\n",
            "2  Middle Eastern Restaurant  0.25\n",
            "3                Pizza Place  0.25\n",
            "\n",
            "\n",
            "  ----The Annex, North Midtown, Yorkville----\n",
            "                       venue  freq\n",
            "0                Coffee Shop  0.25\n",
            "1   Mediterranean Restaurant  0.25\n",
            "2  Middle Eastern Restaurant  0.25\n",
            "3                Pizza Place  0.25\n",
            "\n",
            "\n",
            "  ----The Beaches----\n",
            "                       venue  freq\n",
            "0                Coffee Shop  0.25\n",
            "1   Mediterranean Restaurant  0.25\n",
            "2  Middle Eastern Restaurant  0.25\n",
            "3                Pizza Place  0.25\n",
            "\n",
            "\n",
            "  ----The Danforth West, Riverdale----\n",
            "                       venue  freq\n",
            "0                Coffee Shop  0.25\n",
            "1   Mediterranean Restaurant  0.25\n",
            "2  Middle Eastern Restaurant  0.25\n",
            "3                Pizza Place  0.25\n",
            "\n",
            "\n",
            "  ----The Kingsway, Montgomery Road, Old Mill North----\n",
            "                       venue  freq\n",
            "0                Coffee Shop  0.25\n",
            "1   Mediterranean Restaurant  0.25\n",
            "2  Middle Eastern Restaurant  0.25\n",
            "3                Pizza Place  0.25\n",
            "\n",
            "\n",
            "  ----Thorncliffe Park----\n",
            "                       venue  freq\n",
            "0                Coffee Shop  0.25\n",
            "1   Mediterranean Restaurant  0.25\n",
            "2  Middle Eastern Restaurant  0.25\n",
            "3                Pizza Place  0.25\n",
            "\n",
            "\n",
            "  ----Toronto Dominion Centre, Design Exchange----\n",
            "                       venue  freq\n",
            "0                Coffee Shop  0.25\n",
            "1   Mediterranean Restaurant  0.25\n",
            "2  Middle Eastern Restaurant  0.25\n",
            "3                Pizza Place  0.25\n",
            "\n",
            "\n",
            "  ----University of Toronto, Harbord----\n",
            "                       venue  freq\n",
            "0                Coffee Shop  0.25\n",
            "1   Mediterranean Restaurant  0.25\n",
            "2  Middle Eastern Restaurant  0.25\n",
            "3                Pizza Place  0.25\n",
            "\n",
            "\n",
            "  ----Upper Rouge----\n",
            "                       venue  freq\n",
            "0                Coffee Shop  0.25\n",
            "1   Mediterranean Restaurant  0.25\n",
            "2  Middle Eastern Restaurant  0.25\n",
            "3                Pizza Place  0.25\n",
            "\n",
            "\n",
            "  ----Victoria Village----\n",
            "                       venue  freq\n",
            "0                Coffee Shop  0.25\n",
            "1   Mediterranean Restaurant  0.25\n",
            "2  Middle Eastern Restaurant  0.25\n",
            "3                Pizza Place  0.25\n",
            "\n",
            "\n",
            "  ----West Deane Park, Princess Gardens, Martin Grove, Islington, Cloverdale----\n",
            "                       venue  freq\n",
            "0                Coffee Shop  0.25\n",
            "1   Mediterranean Restaurant  0.25\n",
            "2  Middle Eastern Restaurant  0.25\n",
            "3                Pizza Place  0.25\n",
            "\n",
            "\n",
            "  ----Westmount----\n",
            "                       venue  freq\n",
            "0                Coffee Shop  0.25\n",
            "1   Mediterranean Restaurant  0.25\n",
            "2  Middle Eastern Restaurant  0.25\n",
            "3                Pizza Place  0.25\n",
            "\n",
            "\n",
            "  ----Weston----\n",
            "                       venue  freq\n",
            "0                Coffee Shop  0.25\n",
            "1   Mediterranean Restaurant  0.25\n",
            "2  Middle Eastern Restaurant  0.25\n",
            "3                Pizza Place  0.25\n",
            "\n",
            "\n",
            "  ----Wexford, Maryvale----\n",
            "                       venue  freq\n",
            "0                Coffee Shop  0.25\n",
            "1   Mediterranean Restaurant  0.25\n",
            "2  Middle Eastern Restaurant  0.25\n",
            "3                Pizza Place  0.25\n",
            "\n",
            "\n",
            "  ----Willowdale----\n",
            "                       venue  freq\n",
            "0                Coffee Shop  0.25\n",
            "1   Mediterranean Restaurant  0.25\n",
            "2  Middle Eastern Restaurant  0.25\n",
            "3                Pizza Place  0.25\n",
            "\n",
            "\n",
            "  ----Willowdale, Newtonbrook----\n",
            "                       venue  freq\n",
            "0                Coffee Shop  0.25\n",
            "1   Mediterranean Restaurant  0.25\n",
            "2  Middle Eastern Restaurant  0.25\n",
            "3                Pizza Place  0.25\n",
            "\n",
            "\n",
            "  ----Woburn----\n",
            "                       venue  freq\n",
            "0                Coffee Shop  0.25\n",
            "1   Mediterranean Restaurant  0.25\n",
            "2  Middle Eastern Restaurant  0.25\n",
            "3                Pizza Place  0.25\n",
            "\n",
            "\n",
            "  ----Woodbine Heights----\n",
            "                       venue  freq\n",
            "0                Coffee Shop  0.25\n",
            "1   Mediterranean Restaurant  0.25\n",
            "2  Middle Eastern Restaurant  0.25\n",
            "3                Pizza Place  0.25\n",
            "\n",
            "\n",
            "  ----York Mills West----\n",
            "                       venue  freq\n",
            "0                Coffee Shop  0.25\n",
            "1   Mediterranean Restaurant  0.25\n",
            "2  Middle Eastern Restaurant  0.25\n",
            "3                Pizza Place  0.25\n",
            "\n",
            "\n",
            "  ----York Mills, Silver Hills----\n",
            "                       venue  freq\n",
            "0                Coffee Shop  0.25\n",
            "1   Mediterranean Restaurant  0.25\n",
            "2  Middle Eastern Restaurant  0.25\n",
            "3                Pizza Place  0.25\n",
            "\n",
            "\n"
          ],
          "name": "stdout"
        }
      ]
    },
    {
      "cell_type": "code",
      "metadata": {
        "id": "SaB5ysYa4BhC",
        "colab_type": "code",
        "colab": {}
      },
      "source": [
        "def return_most_common_venues(row, num_top_venues):         # sorting in descending order\n",
        "    row_categories = row.iloc[1:]\n",
        "    row_categories_sorted = row_categories.sort_values(ascending=False)\n",
        "    \n",
        "    return row_categories_sorted.index.values[0:num_top_venues]"
      ],
      "execution_count": 0,
      "outputs": []
    },
    {
      "cell_type": "code",
      "metadata": {
        "id": "GVxXiivj46fy",
        "colab_type": "code",
        "outputId": "7a233533-597d-4ab4-f599-392f56f80543",
        "colab": {
          "base_uri": "https://localhost:8080/",
          "height": 197
        }
      },
      "source": [
        "# New dataframe to display the top 3 venues for each neighborhood\n",
        "num_top_venues = 3\n",
        "indicators = ['st', 'nd', 'rd']\n",
        "\n",
        "columns = ['Neighborhood']\n",
        "for ind in np.arange(num_top_venues):\n",
        "    try:\n",
        "        columns.append('{}{} Most Common Venue'.format(ind+1, indicators[ind]))\n",
        "    except:\n",
        "        columns.append('{}th Most Common Venue'.format(ind+1))\n",
        "\n",
        "neighborhoods_venues_sorted = pd.DataFrame(columns=columns)\n",
        "neighborhoods_venues_sorted['Neighborhood'] = toronto_grouped['Neighborhood']\n",
        "\n",
        "for ind in np.arange(toronto_grouped.shape[0]):\n",
        "    neighborhoods_venues_sorted.iloc[ind, 1:] = return_most_common_venues(toronto_grouped.iloc[ind, :], num_top_venues)\n",
        "\n",
        "neighborhoods_venues_sorted.head()"
      ],
      "execution_count": 48,
      "outputs": [
        {
          "output_type": "execute_result",
          "data": {
            "text/html": [
              "<div>\n",
              "<style scoped>\n",
              "    .dataframe tbody tr th:only-of-type {\n",
              "        vertical-align: middle;\n",
              "    }\n",
              "\n",
              "    .dataframe tbody tr th {\n",
              "        vertical-align: top;\n",
              "    }\n",
              "\n",
              "    .dataframe thead th {\n",
              "        text-align: right;\n",
              "    }\n",
              "</style>\n",
              "<table border=\"1\" class=\"dataframe\">\n",
              "  <thead>\n",
              "    <tr style=\"text-align: right;\">\n",
              "      <th></th>\n",
              "      <th>Neighborhood</th>\n",
              "      <th>1st Most Common Venue</th>\n",
              "      <th>2nd Most Common Venue</th>\n",
              "      <th>3rd Most Common Venue</th>\n",
              "    </tr>\n",
              "  </thead>\n",
              "  <tbody>\n",
              "    <tr>\n",
              "      <th>0</th>\n",
              "      <td>Agincourt</td>\n",
              "      <td>Pizza Place</td>\n",
              "      <td>Middle Eastern Restaurant</td>\n",
              "      <td>Mediterranean Restaurant</td>\n",
              "    </tr>\n",
              "    <tr>\n",
              "      <th>1</th>\n",
              "      <td>Alderwood, Long Branch</td>\n",
              "      <td>Pizza Place</td>\n",
              "      <td>Middle Eastern Restaurant</td>\n",
              "      <td>Mediterranean Restaurant</td>\n",
              "    </tr>\n",
              "    <tr>\n",
              "      <th>2</th>\n",
              "      <td>Bathurst Manor, Wilson Heights, Downsview North</td>\n",
              "      <td>Pizza Place</td>\n",
              "      <td>Middle Eastern Restaurant</td>\n",
              "      <td>Mediterranean Restaurant</td>\n",
              "    </tr>\n",
              "    <tr>\n",
              "      <th>3</th>\n",
              "      <td>Bayview Village</td>\n",
              "      <td>Pizza Place</td>\n",
              "      <td>Middle Eastern Restaurant</td>\n",
              "      <td>Mediterranean Restaurant</td>\n",
              "    </tr>\n",
              "    <tr>\n",
              "      <th>4</th>\n",
              "      <td>Bedford Park, Lawrence Manor East</td>\n",
              "      <td>Pizza Place</td>\n",
              "      <td>Middle Eastern Restaurant</td>\n",
              "      <td>Mediterranean Restaurant</td>\n",
              "    </tr>\n",
              "  </tbody>\n",
              "</table>\n",
              "</div>"
            ],
            "text/plain": [
              "                                      Neighborhood  ...     3rd Most Common Venue\n",
              "0                                        Agincourt  ...  Mediterranean Restaurant\n",
              "1                           Alderwood, Long Branch  ...  Mediterranean Restaurant\n",
              "2  Bathurst Manor, Wilson Heights, Downsview North  ...  Mediterranean Restaurant\n",
              "3                                  Bayview Village  ...  Mediterranean Restaurant\n",
              "4                Bedford Park, Lawrence Manor East  ...  Mediterranean Restaurant\n",
              "\n",
              "[5 rows x 4 columns]"
            ]
          },
          "metadata": {
            "tags": []
          },
          "execution_count": 48
        }
      ]
    },
    {
      "cell_type": "code",
      "metadata": {
        "id": "Esnf9Njf5ihx",
        "colab_type": "code",
        "outputId": "5ffcfe2d-740b-4006-93b1-cb9afe51ce55",
        "colab": {
          "base_uri": "https://localhost:8080/",
          "height": 87
        }
      },
      "source": [
        "# clustering the neighborhood into 5 clusters\n",
        "kclusters = 5\n",
        "\n",
        "toronto_grouped_clustering = toronto_grouped.drop('Neighborhood', 1)\n",
        "kmeans = KMeans(n_clusters=kclusters, random_state=0).fit(toronto_grouped_clustering)\n",
        "kmeans.labels_[0:10]"
      ],
      "execution_count": 49,
      "outputs": [
        {
          "output_type": "stream",
          "text": [
            "/usr/local/lib/python3.6/dist-packages/ipykernel_launcher.py:4: ConvergenceWarning: Number of distinct clusters (1) found smaller than n_clusters (5). Possibly due to duplicate points in X.\n",
            "  after removing the cwd from sys.path.\n"
          ],
          "name": "stderr"
        },
        {
          "output_type": "execute_result",
          "data": {
            "text/plain": [
              "array([0, 0, 0, 0, 0, 0, 0, 0, 0, 0], dtype=int32)"
            ]
          },
          "metadata": {
            "tags": []
          },
          "execution_count": 49
        }
      ]
    },
    {
      "cell_type": "code",
      "metadata": {
        "id": "GksxScjx5x9o",
        "colab_type": "code",
        "outputId": "13f8fd42-fe03-4684-9d26-0b9066378752",
        "colab": {
          "base_uri": "https://localhost:8080/",
          "height": 297
        }
      },
      "source": [
        "# create a new dataframe that includes the cluster as well as the top 10 venues for each neighborhood.\n",
        "\n",
        "# add clustering labels\n",
        "#neighborhoods_venues_sorted.insert(0, 'Cluster Labels', kmeans.labels_)\n",
        "\n",
        "toronto_merged = df\n",
        "\n",
        "# merge toronto_grouped with toronto_data to add latitude/longitude for each neighborhood\n",
        "toronto_merged = toronto_merged.join(neighborhoods_venues_sorted.set_index('Neighborhood'), on='Neighborhood')\n",
        "\n",
        "toronto_merged.head() "
      ],
      "execution_count": 50,
      "outputs": [
        {
          "output_type": "execute_result",
          "data": {
            "text/html": [
              "<div>\n",
              "<style scoped>\n",
              "    .dataframe tbody tr th:only-of-type {\n",
              "        vertical-align: middle;\n",
              "    }\n",
              "\n",
              "    .dataframe tbody tr th {\n",
              "        vertical-align: top;\n",
              "    }\n",
              "\n",
              "    .dataframe thead th {\n",
              "        text-align: right;\n",
              "    }\n",
              "</style>\n",
              "<table border=\"1\" class=\"dataframe\">\n",
              "  <thead>\n",
              "    <tr style=\"text-align: right;\">\n",
              "      <th></th>\n",
              "      <th>Postal_Code</th>\n",
              "      <th>Borough</th>\n",
              "      <th>Neighborhood</th>\n",
              "      <th>latitude</th>\n",
              "      <th>longitude</th>\n",
              "      <th>1st Most Common Venue</th>\n",
              "      <th>2nd Most Common Venue</th>\n",
              "      <th>3rd Most Common Venue</th>\n",
              "    </tr>\n",
              "  </thead>\n",
              "  <tbody>\n",
              "    <tr>\n",
              "      <th>0</th>\n",
              "      <td>M3A</td>\n",
              "      <td>North York</td>\n",
              "      <td>Parkwoods</td>\n",
              "      <td>43.7543</td>\n",
              "      <td>-79.4491</td>\n",
              "      <td>Pizza Place</td>\n",
              "      <td>Middle Eastern Restaurant</td>\n",
              "      <td>Mediterranean Restaurant</td>\n",
              "    </tr>\n",
              "    <tr>\n",
              "      <th>1</th>\n",
              "      <td>M4A</td>\n",
              "      <td>North York</td>\n",
              "      <td>Victoria Village</td>\n",
              "      <td>43.7543</td>\n",
              "      <td>-79.4491</td>\n",
              "      <td>Pizza Place</td>\n",
              "      <td>Middle Eastern Restaurant</td>\n",
              "      <td>Mediterranean Restaurant</td>\n",
              "    </tr>\n",
              "    <tr>\n",
              "      <th>2</th>\n",
              "      <td>M5A</td>\n",
              "      <td>Downtown Toronto</td>\n",
              "      <td>Regent Park, Harbourfront</td>\n",
              "      <td>43.6563</td>\n",
              "      <td>-79.3809</td>\n",
              "      <td>Pizza Place</td>\n",
              "      <td>Middle Eastern Restaurant</td>\n",
              "      <td>Mediterranean Restaurant</td>\n",
              "    </tr>\n",
              "    <tr>\n",
              "      <th>3</th>\n",
              "      <td>M6A</td>\n",
              "      <td>North York</td>\n",
              "      <td>Lawrence Manor, Lawrence Heights</td>\n",
              "      <td>43.7543</td>\n",
              "      <td>-79.4491</td>\n",
              "      <td>Pizza Place</td>\n",
              "      <td>Middle Eastern Restaurant</td>\n",
              "      <td>Mediterranean Restaurant</td>\n",
              "    </tr>\n",
              "    <tr>\n",
              "      <th>4</th>\n",
              "      <td>M7A</td>\n",
              "      <td>Downtown Toronto</td>\n",
              "      <td>Queen's Park, Ontario Provincial Government</td>\n",
              "      <td>43.6563</td>\n",
              "      <td>-79.3809</td>\n",
              "      <td>Pizza Place</td>\n",
              "      <td>Middle Eastern Restaurant</td>\n",
              "      <td>Mediterranean Restaurant</td>\n",
              "    </tr>\n",
              "  </tbody>\n",
              "</table>\n",
              "</div>"
            ],
            "text/plain": [
              "  Postal_Code  ...     3rd Most Common Venue\n",
              "0         M3A  ...  Mediterranean Restaurant\n",
              "1         M4A  ...  Mediterranean Restaurant\n",
              "2         M5A  ...  Mediterranean Restaurant\n",
              "3         M6A  ...  Mediterranean Restaurant\n",
              "4         M7A  ...  Mediterranean Restaurant\n",
              "\n",
              "[5 rows x 8 columns]"
            ]
          },
          "metadata": {
            "tags": []
          },
          "execution_count": 50
        }
      ]
    },
    {
      "cell_type": "code",
      "metadata": {
        "id": "zstJ9T7V6MUu",
        "colab_type": "code",
        "outputId": "6dcbe2c1-0cba-4f64-9e91-0712bd3ca4ed",
        "colab": {
          "base_uri": "https://localhost:8080/",
          "height": 686
        }
      },
      "source": [
        "map_clusters = folium.Map(location=[43.67635739999999, -79.2930312], zoom_start=11)\n",
        "\n",
        "# color scheme for the clusters\n",
        "x = np.arange(kclusters)\n",
        "ys = [i + x + (i*x)**2 for i in range(kclusters)]\n",
        "colors_array = cm.rainbow(np.linspace(0, 1, len(ys)))\n",
        "rainbow = [colors.rgb2hex(i) for i in colors_array]\n",
        "\n",
        "# add markers to the map\n",
        "markers_colors = []\n",
        "for lat, lon, poi, cluster in zip(toronto_merged['latitude'], toronto_merged['longitude'], toronto_merged['Neighborhood'], toronto_merged['Cluster Labels']):\n",
        "    label = folium.Popup(str(poi) + ' Cluster ' + str(cluster), parse_html=True)\n",
        "    folium.CircleMarker(\n",
        "        [lat, lon],\n",
        "        radius=5,\n",
        "        popup=label,\n",
        "        color=rainbow[cluster-1],\n",
        "        fill=True,\n",
        "        fill_color=rainbow[cluster-1],\n",
        "        fill_opacity=0.7).add_to(map_clusters)\n",
        "       \n",
        "map_clusters"
      ],
      "execution_count": 52,
      "outputs": [
        {
          "output_type": "error",
          "ename": "KeyError",
          "evalue": "ignored",
          "traceback": [
            "\u001b[0;31m---------------------------------------------------------------------------\u001b[0m",
            "\u001b[0;31mKeyError\u001b[0m                                  Traceback (most recent call last)",
            "\u001b[0;32m/usr/local/lib/python3.6/dist-packages/pandas/core/indexes/base.py\u001b[0m in \u001b[0;36mget_loc\u001b[0;34m(self, key, method, tolerance)\u001b[0m\n\u001b[1;32m   2645\u001b[0m             \u001b[0;32mtry\u001b[0m\u001b[0;34m:\u001b[0m\u001b[0;34m\u001b[0m\u001b[0;34m\u001b[0m\u001b[0m\n\u001b[0;32m-> 2646\u001b[0;31m                 \u001b[0;32mreturn\u001b[0m \u001b[0mself\u001b[0m\u001b[0;34m.\u001b[0m\u001b[0m_engine\u001b[0m\u001b[0;34m.\u001b[0m\u001b[0mget_loc\u001b[0m\u001b[0;34m(\u001b[0m\u001b[0mkey\u001b[0m\u001b[0;34m)\u001b[0m\u001b[0;34m\u001b[0m\u001b[0;34m\u001b[0m\u001b[0m\n\u001b[0m\u001b[1;32m   2647\u001b[0m             \u001b[0;32mexcept\u001b[0m \u001b[0mKeyError\u001b[0m\u001b[0;34m:\u001b[0m\u001b[0;34m\u001b[0m\u001b[0;34m\u001b[0m\u001b[0m\n",
            "\u001b[0;32mpandas/_libs/index.pyx\u001b[0m in \u001b[0;36mpandas._libs.index.IndexEngine.get_loc\u001b[0;34m()\u001b[0m\n",
            "\u001b[0;32mpandas/_libs/index.pyx\u001b[0m in \u001b[0;36mpandas._libs.index.IndexEngine.get_loc\u001b[0;34m()\u001b[0m\n",
            "\u001b[0;32mpandas/_libs/hashtable_class_helper.pxi\u001b[0m in \u001b[0;36mpandas._libs.hashtable.PyObjectHashTable.get_item\u001b[0;34m()\u001b[0m\n",
            "\u001b[0;32mpandas/_libs/hashtable_class_helper.pxi\u001b[0m in \u001b[0;36mpandas._libs.hashtable.PyObjectHashTable.get_item\u001b[0;34m()\u001b[0m\n",
            "\u001b[0;31mKeyError\u001b[0m: 'Cluster Labels'",
            "\nDuring handling of the above exception, another exception occurred:\n",
            "\u001b[0;31mKeyError\u001b[0m                                  Traceback (most recent call last)",
            "\u001b[0;32m<ipython-input-52-f1d283474a35>\u001b[0m in \u001b[0;36m<module>\u001b[0;34m()\u001b[0m\n\u001b[1;32m      9\u001b[0m \u001b[0;31m# add markers to the map\u001b[0m\u001b[0;34m\u001b[0m\u001b[0;34m\u001b[0m\u001b[0;34m\u001b[0m\u001b[0m\n\u001b[1;32m     10\u001b[0m \u001b[0mmarkers_colors\u001b[0m \u001b[0;34m=\u001b[0m \u001b[0;34m[\u001b[0m\u001b[0;34m]\u001b[0m\u001b[0;34m\u001b[0m\u001b[0;34m\u001b[0m\u001b[0m\n\u001b[0;32m---> 11\u001b[0;31m \u001b[0;32mfor\u001b[0m \u001b[0mlat\u001b[0m\u001b[0;34m,\u001b[0m \u001b[0mlon\u001b[0m\u001b[0;34m,\u001b[0m \u001b[0mpoi\u001b[0m\u001b[0;34m,\u001b[0m \u001b[0mcluster\u001b[0m \u001b[0;32min\u001b[0m \u001b[0mzip\u001b[0m\u001b[0;34m(\u001b[0m\u001b[0mtoronto_merged\u001b[0m\u001b[0;34m[\u001b[0m\u001b[0;34m'latitude'\u001b[0m\u001b[0;34m]\u001b[0m\u001b[0;34m,\u001b[0m \u001b[0mtoronto_merged\u001b[0m\u001b[0;34m[\u001b[0m\u001b[0;34m'longitude'\u001b[0m\u001b[0;34m]\u001b[0m\u001b[0;34m,\u001b[0m \u001b[0mtoronto_merged\u001b[0m\u001b[0;34m[\u001b[0m\u001b[0;34m'Neighborhood'\u001b[0m\u001b[0;34m]\u001b[0m\u001b[0;34m,\u001b[0m \u001b[0mtoronto_merged\u001b[0m\u001b[0;34m[\u001b[0m\u001b[0;34m'Cluster Labels'\u001b[0m\u001b[0;34m]\u001b[0m\u001b[0;34m)\u001b[0m\u001b[0;34m:\u001b[0m\u001b[0;34m\u001b[0m\u001b[0;34m\u001b[0m\u001b[0m\n\u001b[0m\u001b[1;32m     12\u001b[0m     \u001b[0mlabel\u001b[0m \u001b[0;34m=\u001b[0m \u001b[0mfolium\u001b[0m\u001b[0;34m.\u001b[0m\u001b[0mPopup\u001b[0m\u001b[0;34m(\u001b[0m\u001b[0mstr\u001b[0m\u001b[0;34m(\u001b[0m\u001b[0mpoi\u001b[0m\u001b[0;34m)\u001b[0m \u001b[0;34m+\u001b[0m \u001b[0;34m' Cluster '\u001b[0m \u001b[0;34m+\u001b[0m \u001b[0mstr\u001b[0m\u001b[0;34m(\u001b[0m\u001b[0mcluster\u001b[0m\u001b[0;34m)\u001b[0m\u001b[0;34m,\u001b[0m \u001b[0mparse_html\u001b[0m\u001b[0;34m=\u001b[0m\u001b[0;32mTrue\u001b[0m\u001b[0;34m)\u001b[0m\u001b[0;34m\u001b[0m\u001b[0;34m\u001b[0m\u001b[0m\n\u001b[1;32m     13\u001b[0m     folium.CircleMarker(\n",
            "\u001b[0;32m/usr/local/lib/python3.6/dist-packages/pandas/core/frame.py\u001b[0m in \u001b[0;36m__getitem__\u001b[0;34m(self, key)\u001b[0m\n\u001b[1;32m   2798\u001b[0m             \u001b[0;32mif\u001b[0m \u001b[0mself\u001b[0m\u001b[0;34m.\u001b[0m\u001b[0mcolumns\u001b[0m\u001b[0;34m.\u001b[0m\u001b[0mnlevels\u001b[0m \u001b[0;34m>\u001b[0m \u001b[0;36m1\u001b[0m\u001b[0;34m:\u001b[0m\u001b[0;34m\u001b[0m\u001b[0;34m\u001b[0m\u001b[0m\n\u001b[1;32m   2799\u001b[0m                 \u001b[0;32mreturn\u001b[0m \u001b[0mself\u001b[0m\u001b[0;34m.\u001b[0m\u001b[0m_getitem_multilevel\u001b[0m\u001b[0;34m(\u001b[0m\u001b[0mkey\u001b[0m\u001b[0;34m)\u001b[0m\u001b[0;34m\u001b[0m\u001b[0;34m\u001b[0m\u001b[0m\n\u001b[0;32m-> 2800\u001b[0;31m             \u001b[0mindexer\u001b[0m \u001b[0;34m=\u001b[0m \u001b[0mself\u001b[0m\u001b[0;34m.\u001b[0m\u001b[0mcolumns\u001b[0m\u001b[0;34m.\u001b[0m\u001b[0mget_loc\u001b[0m\u001b[0;34m(\u001b[0m\u001b[0mkey\u001b[0m\u001b[0;34m)\u001b[0m\u001b[0;34m\u001b[0m\u001b[0;34m\u001b[0m\u001b[0m\n\u001b[0m\u001b[1;32m   2801\u001b[0m             \u001b[0;32mif\u001b[0m \u001b[0mis_integer\u001b[0m\u001b[0;34m(\u001b[0m\u001b[0mindexer\u001b[0m\u001b[0;34m)\u001b[0m\u001b[0;34m:\u001b[0m\u001b[0;34m\u001b[0m\u001b[0;34m\u001b[0m\u001b[0m\n\u001b[1;32m   2802\u001b[0m                 \u001b[0mindexer\u001b[0m \u001b[0;34m=\u001b[0m \u001b[0;34m[\u001b[0m\u001b[0mindexer\u001b[0m\u001b[0;34m]\u001b[0m\u001b[0;34m\u001b[0m\u001b[0;34m\u001b[0m\u001b[0m\n",
            "\u001b[0;32m/usr/local/lib/python3.6/dist-packages/pandas/core/indexes/base.py\u001b[0m in \u001b[0;36mget_loc\u001b[0;34m(self, key, method, tolerance)\u001b[0m\n\u001b[1;32m   2646\u001b[0m                 \u001b[0;32mreturn\u001b[0m \u001b[0mself\u001b[0m\u001b[0;34m.\u001b[0m\u001b[0m_engine\u001b[0m\u001b[0;34m.\u001b[0m\u001b[0mget_loc\u001b[0m\u001b[0;34m(\u001b[0m\u001b[0mkey\u001b[0m\u001b[0;34m)\u001b[0m\u001b[0;34m\u001b[0m\u001b[0;34m\u001b[0m\u001b[0m\n\u001b[1;32m   2647\u001b[0m             \u001b[0;32mexcept\u001b[0m \u001b[0mKeyError\u001b[0m\u001b[0;34m:\u001b[0m\u001b[0;34m\u001b[0m\u001b[0;34m\u001b[0m\u001b[0m\n\u001b[0;32m-> 2648\u001b[0;31m                 \u001b[0;32mreturn\u001b[0m \u001b[0mself\u001b[0m\u001b[0;34m.\u001b[0m\u001b[0m_engine\u001b[0m\u001b[0;34m.\u001b[0m\u001b[0mget_loc\u001b[0m\u001b[0;34m(\u001b[0m\u001b[0mself\u001b[0m\u001b[0;34m.\u001b[0m\u001b[0m_maybe_cast_indexer\u001b[0m\u001b[0;34m(\u001b[0m\u001b[0mkey\u001b[0m\u001b[0;34m)\u001b[0m\u001b[0;34m)\u001b[0m\u001b[0;34m\u001b[0m\u001b[0;34m\u001b[0m\u001b[0m\n\u001b[0m\u001b[1;32m   2649\u001b[0m         \u001b[0mindexer\u001b[0m \u001b[0;34m=\u001b[0m \u001b[0mself\u001b[0m\u001b[0;34m.\u001b[0m\u001b[0mget_indexer\u001b[0m\u001b[0;34m(\u001b[0m\u001b[0;34m[\u001b[0m\u001b[0mkey\u001b[0m\u001b[0;34m]\u001b[0m\u001b[0;34m,\u001b[0m \u001b[0mmethod\u001b[0m\u001b[0;34m=\u001b[0m\u001b[0mmethod\u001b[0m\u001b[0;34m,\u001b[0m \u001b[0mtolerance\u001b[0m\u001b[0;34m=\u001b[0m\u001b[0mtolerance\u001b[0m\u001b[0;34m)\u001b[0m\u001b[0;34m\u001b[0m\u001b[0;34m\u001b[0m\u001b[0m\n\u001b[1;32m   2650\u001b[0m         \u001b[0;32mif\u001b[0m \u001b[0mindexer\u001b[0m\u001b[0;34m.\u001b[0m\u001b[0mndim\u001b[0m \u001b[0;34m>\u001b[0m \u001b[0;36m1\u001b[0m \u001b[0;32mor\u001b[0m \u001b[0mindexer\u001b[0m\u001b[0;34m.\u001b[0m\u001b[0msize\u001b[0m \u001b[0;34m>\u001b[0m \u001b[0;36m1\u001b[0m\u001b[0;34m:\u001b[0m\u001b[0;34m\u001b[0m\u001b[0;34m\u001b[0m\u001b[0m\n",
            "\u001b[0;32mpandas/_libs/index.pyx\u001b[0m in \u001b[0;36mpandas._libs.index.IndexEngine.get_loc\u001b[0;34m()\u001b[0m\n",
            "\u001b[0;32mpandas/_libs/index.pyx\u001b[0m in \u001b[0;36mpandas._libs.index.IndexEngine.get_loc\u001b[0;34m()\u001b[0m\n",
            "\u001b[0;32mpandas/_libs/hashtable_class_helper.pxi\u001b[0m in \u001b[0;36mpandas._libs.hashtable.PyObjectHashTable.get_item\u001b[0;34m()\u001b[0m\n",
            "\u001b[0;32mpandas/_libs/hashtable_class_helper.pxi\u001b[0m in \u001b[0;36mpandas._libs.hashtable.PyObjectHashTable.get_item\u001b[0;34m()\u001b[0m\n",
            "\u001b[0;31mKeyError\u001b[0m: 'Cluster Labels'"
          ]
        }
      ]
    },
    {
      "cell_type": "code",
      "metadata": {
        "id": "wTUDkuip6kqK",
        "colab_type": "code",
        "colab": {}
      },
      "source": [
        "# CLUSTER 1\n",
        "\n",
        "toronto_merged.loc[toronto_merged['Cluster Labels'] == 0, toronto_merged.columns[[1] + list(range(5, toronto_merged.shape[1]))]]"
      ],
      "execution_count": 0,
      "outputs": []
    },
    {
      "cell_type": "code",
      "metadata": {
        "id": "AXeA2W8y7hEx",
        "colab_type": "code",
        "colab": {}
      },
      "source": [
        "# CLUSTER 2\n",
        "\n",
        "toronto_merged.loc[toronto_merged['Cluster Labels'] == 1, toronto_merged.columns[[1] + list(range(5, toronto_merged.shape[1]))]]"
      ],
      "execution_count": 0,
      "outputs": []
    },
    {
      "cell_type": "code",
      "metadata": {
        "id": "bnta_v1M6ysz",
        "colab_type": "code",
        "colab": {}
      },
      "source": [
        "# CLUSTER 3\n",
        "\n",
        "toronto_merged.loc[toronto_merged['Cluster Labels'] == 2, toronto_merged.columns[[1] + list(range(5, toronto_merged.shape[1]))]]"
      ],
      "execution_count": 0,
      "outputs": []
    },
    {
      "cell_type": "code",
      "metadata": {
        "id": "Zd03NPVV7ujO",
        "colab_type": "code",
        "colab": {}
      },
      "source": [
        "# CLUSTER 4\n",
        "\n",
        "toronto_merged.loc[toronto_merged['Cluster Labels'] == 3, toronto_merged.columns[[1] + list(range(5, toronto_merged.shape[1]))]]"
      ],
      "execution_count": 0,
      "outputs": []
    },
    {
      "cell_type": "code",
      "metadata": {
        "id": "q4AfQv3i7vBU",
        "colab_type": "code",
        "colab": {}
      },
      "source": [
        "# CLUSTER 5\n",
        "\n",
        "toronto_merged.loc[toronto_merged['Cluster Labels'] == 4, toronto_merged.columns[[1] + list(range(5, toronto_merged.shape[1]))]]"
      ],
      "execution_count": 0,
      "outputs": []
    }
  ]
}
