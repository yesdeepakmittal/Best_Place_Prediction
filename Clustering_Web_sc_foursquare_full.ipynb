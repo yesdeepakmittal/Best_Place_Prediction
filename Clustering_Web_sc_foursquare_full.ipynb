{
  "nbformat": 4,
  "nbformat_minor": 0,
  "metadata": {
    "colab": {
      "name": "Clustering_Web_sc_foursquare_full",
      "provenance": [],
      "collapsed_sections": [],
      "authorship_tag": "ABX9TyNiAoA+5BFZWXulkXXMzOsc"
    },
    "kernelspec": {
      "name": "python3",
      "display_name": "Python 3"
    }
  },
  "cells": [
    {
      "cell_type": "code",
      "metadata": {
        "id": "Iewcgf1W2zMY",
        "colab_type": "code",
        "colab": {}
      },
      "source": [
        "from bs4 import BeautifulSoup\n",
        "import requests\n",
        "\n",
        "import numpy as np\n",
        "import pandas as pd\n",
        "from pandas.io.json import json_normalize #transform json data into pd df\n",
        "import json\n",
        "\n",
        "import matplotlib.cm as cm\n",
        "import matplotlib.colors as colors\n",
        "import folium\n",
        "\n",
        "from sklearn.cluster import KMeans\n",
        "from geopy.geocoders import Nominatim"
      ],
      "execution_count": 0,
      "outputs": []
    },
    {
      "cell_type": "code",
      "metadata": {
        "id": "iGhF79fNyNay",
        "colab_type": "code",
        "colab": {}
      },
      "source": [
        " url = 'https://en.wikipedia.org/wiki/List_of_postal_codes_of_Canada:_M'"
      ],
      "execution_count": 0,
      "outputs": []
    },
    {
      "cell_type": "code",
      "metadata": {
        "id": "xLgUgSPZyV3N",
        "colab_type": "code",
        "colab": {}
      },
      "source": [
        "response = requests.get(url)\n",
        "data = response.text\n",
        "soup = BeautifulSoup(data,'html.parser')"
      ],
      "execution_count": 0,
      "outputs": []
    },
    {
      "cell_type": "code",
      "metadata": {
        "id": "nE9KryqXyvX2",
        "colab_type": "code",
        "colab": {}
      },
      "source": [
        "S_no = 0\n",
        "d = dict()\n",
        "\n",
        "table = soup.find('table')\n",
        "table_rows = table.find_all('tr')\n",
        "for tr in table_rows:\n",
        "  td = tr.find_all('td')\n",
        "  row = [i.text for i in td]\n",
        "  #print(row)\n",
        "  S_no +=1\n",
        "  d[S_no] = row"
      ],
      "execution_count": 0,
      "outputs": []
    },
    {
      "cell_type": "code",
      "metadata": {
        "id": "9VzQfweNyybb",
        "colab_type": "code",
        "outputId": "cfa27a30-85b7-44ae-e63c-9ee4154a369d",
        "colab": {
          "base_uri": "https://localhost:8080/",
          "height": 33
        }
      },
      "source": [
        "d[4]"
      ],
      "execution_count": 0,
      "outputs": [
        {
          "output_type": "execute_result",
          "data": {
            "text/plain": [
              "['M3A\\n', 'North York\\n', 'Parkwoods\\n']"
            ]
          },
          "metadata": {
            "tags": []
          },
          "execution_count": 7
        }
      ]
    },
    {
      "cell_type": "code",
      "metadata": {
        "id": "qp7k3BPAzNsz",
        "colab_type": "code",
        "colab": {}
      },
      "source": [
        "df = pd.DataFrame.from_dict(d,orient='index',columns=['Postal_Code','Borough','Neighborhood'])"
      ],
      "execution_count": 0,
      "outputs": []
    },
    {
      "cell_type": "code",
      "metadata": {
        "id": "0TDZrKX8zhIM",
        "colab_type": "code",
        "outputId": "3bbd420c-83ad-4e09-b057-b88055a0a3cc",
        "colab": {
          "base_uri": "https://localhost:8080/",
          "height": 197
        }
      },
      "source": [
        "df.head()"
      ],
      "execution_count": 0,
      "outputs": [
        {
          "output_type": "execute_result",
          "data": {
            "text/html": [
              "<div>\n",
              "<style scoped>\n",
              "    .dataframe tbody tr th:only-of-type {\n",
              "        vertical-align: middle;\n",
              "    }\n",
              "\n",
              "    .dataframe tbody tr th {\n",
              "        vertical-align: top;\n",
              "    }\n",
              "\n",
              "    .dataframe thead th {\n",
              "        text-align: right;\n",
              "    }\n",
              "</style>\n",
              "<table border=\"1\" class=\"dataframe\">\n",
              "  <thead>\n",
              "    <tr style=\"text-align: right;\">\n",
              "      <th></th>\n",
              "      <th>Postal_Code</th>\n",
              "      <th>Borough</th>\n",
              "      <th>Neighborhood</th>\n",
              "    </tr>\n",
              "  </thead>\n",
              "  <tbody>\n",
              "    <tr>\n",
              "      <th>1</th>\n",
              "      <td>None</td>\n",
              "      <td>None</td>\n",
              "      <td>None</td>\n",
              "    </tr>\n",
              "    <tr>\n",
              "      <th>2</th>\n",
              "      <td>M1A\\n</td>\n",
              "      <td>Not assigned\\n</td>\n",
              "      <td>\\n</td>\n",
              "    </tr>\n",
              "    <tr>\n",
              "      <th>3</th>\n",
              "      <td>M2A\\n</td>\n",
              "      <td>Not assigned\\n</td>\n",
              "      <td>\\n</td>\n",
              "    </tr>\n",
              "    <tr>\n",
              "      <th>4</th>\n",
              "      <td>M3A\\n</td>\n",
              "      <td>North York\\n</td>\n",
              "      <td>Parkwoods\\n</td>\n",
              "    </tr>\n",
              "    <tr>\n",
              "      <th>5</th>\n",
              "      <td>M4A\\n</td>\n",
              "      <td>North York\\n</td>\n",
              "      <td>Victoria Village\\n</td>\n",
              "    </tr>\n",
              "  </tbody>\n",
              "</table>\n",
              "</div>"
            ],
            "text/plain": [
              "  Postal_Code         Borough        Neighborhood\n",
              "1        None            None                None\n",
              "2       M1A\\n  Not assigned\\n                  \\n\n",
              "3       M2A\\n  Not assigned\\n                  \\n\n",
              "4       M3A\\n    North York\\n         Parkwoods\\n\n",
              "5       M4A\\n    North York\\n  Victoria Village\\n"
            ]
          },
          "metadata": {
            "tags": []
          },
          "execution_count": 9
        }
      ]
    },
    {
      "cell_type": "code",
      "metadata": {
        "id": "Gaw11FywzidI",
        "colab_type": "code",
        "colab": {}
      },
      "source": [
        "df = df.replace('\\n','', regex=True)"
      ],
      "execution_count": 0,
      "outputs": []
    },
    {
      "cell_type": "code",
      "metadata": {
        "id": "KepWBZIGzwMd",
        "colab_type": "code",
        "outputId": "e9786001-3af6-4e14-b5dd-def57265d9d8",
        "colab": {
          "base_uri": "https://localhost:8080/",
          "height": 197
        }
      },
      "source": [
        "df.drop(df.index[df['Borough'] == 'Not assigned'], inplace = True)\n",
        "df = df.reset_index(drop=True)\n",
        "df.head()"
      ],
      "execution_count": 0,
      "outputs": [
        {
          "output_type": "execute_result",
          "data": {
            "text/html": [
              "<div>\n",
              "<style scoped>\n",
              "    .dataframe tbody tr th:only-of-type {\n",
              "        vertical-align: middle;\n",
              "    }\n",
              "\n",
              "    .dataframe tbody tr th {\n",
              "        vertical-align: top;\n",
              "    }\n",
              "\n",
              "    .dataframe thead th {\n",
              "        text-align: right;\n",
              "    }\n",
              "</style>\n",
              "<table border=\"1\" class=\"dataframe\">\n",
              "  <thead>\n",
              "    <tr style=\"text-align: right;\">\n",
              "      <th></th>\n",
              "      <th>Postal_Code</th>\n",
              "      <th>Borough</th>\n",
              "      <th>Neighborhood</th>\n",
              "    </tr>\n",
              "  </thead>\n",
              "  <tbody>\n",
              "    <tr>\n",
              "      <th>0</th>\n",
              "      <td>None</td>\n",
              "      <td>None</td>\n",
              "      <td>None</td>\n",
              "    </tr>\n",
              "    <tr>\n",
              "      <th>1</th>\n",
              "      <td>M3A</td>\n",
              "      <td>North York</td>\n",
              "      <td>Parkwoods</td>\n",
              "    </tr>\n",
              "    <tr>\n",
              "      <th>2</th>\n",
              "      <td>M4A</td>\n",
              "      <td>North York</td>\n",
              "      <td>Victoria Village</td>\n",
              "    </tr>\n",
              "    <tr>\n",
              "      <th>3</th>\n",
              "      <td>M5A</td>\n",
              "      <td>Downtown Toronto</td>\n",
              "      <td>Regent Park, Harbourfront</td>\n",
              "    </tr>\n",
              "    <tr>\n",
              "      <th>4</th>\n",
              "      <td>M6A</td>\n",
              "      <td>North York</td>\n",
              "      <td>Lawrence Manor, Lawrence Heights</td>\n",
              "    </tr>\n",
              "  </tbody>\n",
              "</table>\n",
              "</div>"
            ],
            "text/plain": [
              "  Postal_Code           Borough                      Neighborhood\n",
              "0        None              None                              None\n",
              "1         M3A        North York                         Parkwoods\n",
              "2         M4A        North York                  Victoria Village\n",
              "3         M5A  Downtown Toronto         Regent Park, Harbourfront\n",
              "4         M6A        North York  Lawrence Manor, Lawrence Heights"
            ]
          },
          "metadata": {
            "tags": []
          },
          "execution_count": 11
        }
      ]
    },
    {
      "cell_type": "code",
      "metadata": {
        "id": "dYntdCt30MYA",
        "colab_type": "code",
        "outputId": "5780e68d-82a5-4301-8a3f-5dc76d519bcd",
        "colab": {
          "base_uri": "https://localhost:8080/",
          "height": 33
        }
      },
      "source": [
        "df.shape"
      ],
      "execution_count": 0,
      "outputs": [
        {
          "output_type": "execute_result",
          "data": {
            "text/plain": [
              "(104, 3)"
            ]
          },
          "metadata": {
            "tags": []
          },
          "execution_count": 12
        }
      ]
    },
    {
      "cell_type": "code",
      "metadata": {
        "id": "lMTjtnWZ0Adq",
        "colab_type": "code",
        "outputId": "2217b382-2692-4c9f-aab0-a75f314a17e8",
        "colab": {
          "base_uri": "https://localhost:8080/",
          "height": 197
        }
      },
      "source": [
        "df.drop(df.index[0], inplace = True)\n",
        "df = df.reset_index(drop=True)\n",
        "df.head()"
      ],
      "execution_count": 0,
      "outputs": [
        {
          "output_type": "execute_result",
          "data": {
            "text/html": [
              "<div>\n",
              "<style scoped>\n",
              "    .dataframe tbody tr th:only-of-type {\n",
              "        vertical-align: middle;\n",
              "    }\n",
              "\n",
              "    .dataframe tbody tr th {\n",
              "        vertical-align: top;\n",
              "    }\n",
              "\n",
              "    .dataframe thead th {\n",
              "        text-align: right;\n",
              "    }\n",
              "</style>\n",
              "<table border=\"1\" class=\"dataframe\">\n",
              "  <thead>\n",
              "    <tr style=\"text-align: right;\">\n",
              "      <th></th>\n",
              "      <th>Postal_Code</th>\n",
              "      <th>Borough</th>\n",
              "      <th>Neighborhood</th>\n",
              "    </tr>\n",
              "  </thead>\n",
              "  <tbody>\n",
              "    <tr>\n",
              "      <th>0</th>\n",
              "      <td>M3A</td>\n",
              "      <td>North York</td>\n",
              "      <td>Parkwoods</td>\n",
              "    </tr>\n",
              "    <tr>\n",
              "      <th>1</th>\n",
              "      <td>M4A</td>\n",
              "      <td>North York</td>\n",
              "      <td>Victoria Village</td>\n",
              "    </tr>\n",
              "    <tr>\n",
              "      <th>2</th>\n",
              "      <td>M5A</td>\n",
              "      <td>Downtown Toronto</td>\n",
              "      <td>Regent Park, Harbourfront</td>\n",
              "    </tr>\n",
              "    <tr>\n",
              "      <th>3</th>\n",
              "      <td>M6A</td>\n",
              "      <td>North York</td>\n",
              "      <td>Lawrence Manor, Lawrence Heights</td>\n",
              "    </tr>\n",
              "    <tr>\n",
              "      <th>4</th>\n",
              "      <td>M7A</td>\n",
              "      <td>Downtown Toronto</td>\n",
              "      <td>Queen's Park, Ontario Provincial Government</td>\n",
              "    </tr>\n",
              "  </tbody>\n",
              "</table>\n",
              "</div>"
            ],
            "text/plain": [
              "  Postal_Code           Borough                                 Neighborhood\n",
              "0         M3A        North York                                    Parkwoods\n",
              "1         M4A        North York                             Victoria Village\n",
              "2         M5A  Downtown Toronto                    Regent Park, Harbourfront\n",
              "3         M6A        North York             Lawrence Manor, Lawrence Heights\n",
              "4         M7A  Downtown Toronto  Queen's Park, Ontario Provincial Government"
            ]
          },
          "metadata": {
            "tags": []
          },
          "execution_count": 13
        }
      ]
    },
    {
      "cell_type": "code",
      "metadata": {
        "id": "eU2nFWxh0Oj9",
        "colab_type": "code",
        "outputId": "fa5167ea-ad6f-4f3f-fc31-5aad7c9b49e1",
        "colab": {
          "base_uri": "https://localhost:8080/",
          "height": 33
        }
      },
      "source": [
        "df.shape"
      ],
      "execution_count": 0,
      "outputs": [
        {
          "output_type": "execute_result",
          "data": {
            "text/plain": [
              "(103, 3)"
            ]
          },
          "metadata": {
            "tags": []
          },
          "execution_count": 14
        }
      ]
    },
    {
      "cell_type": "code",
      "metadata": {
        "id": "3nWR9wol2MlY",
        "colab_type": "code",
        "outputId": "ce3e31ee-53a5-4dcd-d221-0fe3b76ee883",
        "colab": {
          "base_uri": "https://localhost:8080/",
          "height": 33
        }
      },
      "source": [
        "type(df.iloc[0,1])"
      ],
      "execution_count": 0,
      "outputs": [
        {
          "output_type": "execute_result",
          "data": {
            "text/plain": [
              "str"
            ]
          },
          "metadata": {
            "tags": []
          },
          "execution_count": 15
        }
      ]
    },
    {
      "cell_type": "code",
      "metadata": {
        "id": "1AspWsbaGxCN",
        "colab_type": "code",
        "outputId": "3c85359a-1ae3-450a-a41a-9ccf999e7702",
        "colab": {
          "base_uri": "https://localhost:8080/",
          "height": 197
        }
      },
      "source": [
        "df['latitude'] = None\n",
        "df['longitude'] = None\n",
        "df.head()"
      ],
      "execution_count": 0,
      "outputs": [
        {
          "output_type": "execute_result",
          "data": {
            "text/html": [
              "<div>\n",
              "<style scoped>\n",
              "    .dataframe tbody tr th:only-of-type {\n",
              "        vertical-align: middle;\n",
              "    }\n",
              "\n",
              "    .dataframe tbody tr th {\n",
              "        vertical-align: top;\n",
              "    }\n",
              "\n",
              "    .dataframe thead th {\n",
              "        text-align: right;\n",
              "    }\n",
              "</style>\n",
              "<table border=\"1\" class=\"dataframe\">\n",
              "  <thead>\n",
              "    <tr style=\"text-align: right;\">\n",
              "      <th></th>\n",
              "      <th>Postal_Code</th>\n",
              "      <th>Borough</th>\n",
              "      <th>Neighborhood</th>\n",
              "      <th>latitude</th>\n",
              "      <th>longitude</th>\n",
              "    </tr>\n",
              "  </thead>\n",
              "  <tbody>\n",
              "    <tr>\n",
              "      <th>0</th>\n",
              "      <td>M3A</td>\n",
              "      <td>North York</td>\n",
              "      <td>Parkwoods</td>\n",
              "      <td>None</td>\n",
              "      <td>None</td>\n",
              "    </tr>\n",
              "    <tr>\n",
              "      <th>1</th>\n",
              "      <td>M4A</td>\n",
              "      <td>North York</td>\n",
              "      <td>Victoria Village</td>\n",
              "      <td>None</td>\n",
              "      <td>None</td>\n",
              "    </tr>\n",
              "    <tr>\n",
              "      <th>2</th>\n",
              "      <td>M5A</td>\n",
              "      <td>Downtown Toronto</td>\n",
              "      <td>Regent Park, Harbourfront</td>\n",
              "      <td>None</td>\n",
              "      <td>None</td>\n",
              "    </tr>\n",
              "    <tr>\n",
              "      <th>3</th>\n",
              "      <td>M6A</td>\n",
              "      <td>North York</td>\n",
              "      <td>Lawrence Manor, Lawrence Heights</td>\n",
              "      <td>None</td>\n",
              "      <td>None</td>\n",
              "    </tr>\n",
              "    <tr>\n",
              "      <th>4</th>\n",
              "      <td>M7A</td>\n",
              "      <td>Downtown Toronto</td>\n",
              "      <td>Queen's Park, Ontario Provincial Government</td>\n",
              "      <td>None</td>\n",
              "      <td>None</td>\n",
              "    </tr>\n",
              "  </tbody>\n",
              "</table>\n",
              "</div>"
            ],
            "text/plain": [
              "  Postal_Code           Borough  ... latitude longitude\n",
              "0         M3A        North York  ...     None      None\n",
              "1         M4A        North York  ...     None      None\n",
              "2         M5A  Downtown Toronto  ...     None      None\n",
              "3         M6A        North York  ...     None      None\n",
              "4         M7A  Downtown Toronto  ...     None      None\n",
              "\n",
              "[5 rows x 5 columns]"
            ]
          },
          "metadata": {
            "tags": []
          },
          "execution_count": 16
        }
      ]
    },
    {
      "cell_type": "code",
      "metadata": {
        "id": "vSfrPBagHEvZ",
        "colab_type": "code",
        "colab": {}
      },
      "source": [
        "for i in range(len(df)):\n",
        "  address = df.iloc[i,1]+' , Toronto, Ontario'\n",
        "  geolocator = Nominatim(user_agent=\"ny_explorer\")\n",
        "  location = geolocator.geocode(address)\n",
        "  latitude = location.latitude\n",
        "  longitude = location.longitude\n",
        "  df.iloc[i,3] = latitude\n",
        "  df.iloc[i,4] = longitude"
      ],
      "execution_count": 0,
      "outputs": []
    },
    {
      "cell_type": "code",
      "metadata": {
        "id": "tlynBsh2Hh1T",
        "colab_type": "code",
        "outputId": "5240ec55-b284-41d6-dabb-a1aad364f0c3",
        "colab": {
          "base_uri": "https://localhost:8080/",
          "height": 197
        }
      },
      "source": [
        "df.head()"
      ],
      "execution_count": 0,
      "outputs": [
        {
          "output_type": "execute_result",
          "data": {
            "text/html": [
              "<div>\n",
              "<style scoped>\n",
              "    .dataframe tbody tr th:only-of-type {\n",
              "        vertical-align: middle;\n",
              "    }\n",
              "\n",
              "    .dataframe tbody tr th {\n",
              "        vertical-align: top;\n",
              "    }\n",
              "\n",
              "    .dataframe thead th {\n",
              "        text-align: right;\n",
              "    }\n",
              "</style>\n",
              "<table border=\"1\" class=\"dataframe\">\n",
              "  <thead>\n",
              "    <tr style=\"text-align: right;\">\n",
              "      <th></th>\n",
              "      <th>Postal_Code</th>\n",
              "      <th>Borough</th>\n",
              "      <th>Neighborhood</th>\n",
              "      <th>latitude</th>\n",
              "      <th>longitude</th>\n",
              "    </tr>\n",
              "  </thead>\n",
              "  <tbody>\n",
              "    <tr>\n",
              "      <th>0</th>\n",
              "      <td>M3A</td>\n",
              "      <td>North York</td>\n",
              "      <td>Parkwoods</td>\n",
              "      <td>43.7543</td>\n",
              "      <td>-79.4491</td>\n",
              "    </tr>\n",
              "    <tr>\n",
              "      <th>1</th>\n",
              "      <td>M4A</td>\n",
              "      <td>North York</td>\n",
              "      <td>Victoria Village</td>\n",
              "      <td>43.7543</td>\n",
              "      <td>-79.4491</td>\n",
              "    </tr>\n",
              "    <tr>\n",
              "      <th>2</th>\n",
              "      <td>M5A</td>\n",
              "      <td>Downtown Toronto</td>\n",
              "      <td>Regent Park, Harbourfront</td>\n",
              "      <td>43.6563</td>\n",
              "      <td>-79.3809</td>\n",
              "    </tr>\n",
              "    <tr>\n",
              "      <th>3</th>\n",
              "      <td>M6A</td>\n",
              "      <td>North York</td>\n",
              "      <td>Lawrence Manor, Lawrence Heights</td>\n",
              "      <td>43.7543</td>\n",
              "      <td>-79.4491</td>\n",
              "    </tr>\n",
              "    <tr>\n",
              "      <th>4</th>\n",
              "      <td>M7A</td>\n",
              "      <td>Downtown Toronto</td>\n",
              "      <td>Queen's Park, Ontario Provincial Government</td>\n",
              "      <td>43.6563</td>\n",
              "      <td>-79.3809</td>\n",
              "    </tr>\n",
              "  </tbody>\n",
              "</table>\n",
              "</div>"
            ],
            "text/plain": [
              "  Postal_Code           Borough  ... latitude longitude\n",
              "0         M3A        North York  ...  43.7543  -79.4491\n",
              "1         M4A        North York  ...  43.7543  -79.4491\n",
              "2         M5A  Downtown Toronto  ...  43.6563  -79.3809\n",
              "3         M6A        North York  ...  43.7543  -79.4491\n",
              "4         M7A  Downtown Toronto  ...  43.6563  -79.3809\n",
              "\n",
              "[5 rows x 5 columns]"
            ]
          },
          "metadata": {
            "tags": []
          },
          "execution_count": 36
        }
      ]
    },
    {
      "cell_type": "code",
      "metadata": {
        "id": "oJfb9RkHLYrh",
        "colab_type": "code",
        "outputId": "aab2af5a-8463-4d5a-da85-eae1fdb00a37",
        "colab": {
          "base_uri": "https://localhost:8080/",
          "height": 33
        }
      },
      "source": [
        "#Different method of getting coordinates\n",
        "'''import sys\n",
        "!{sys.executable} -m pip install geocoder\n",
        "import geocoder\n",
        "from geopy.geocoders import arcgis as arcgis'''"
      ],
      "execution_count": 0,
      "outputs": [
        {
          "output_type": "execute_result",
          "data": {
            "text/plain": [
              "'import sys\\n!{sys.executable} -m pip install geocoder\\nimport geocoder\\nfrom geopy.geocoders import arcgis as arcgis'"
            ]
          },
          "metadata": {
            "tags": []
          },
          "execution_count": 37
        }
      ]
    },
    {
      "cell_type": "code",
      "metadata": {
        "id": "0CSk9JBNKq2X",
        "colab_type": "code",
        "outputId": "0cb10ce6-f72a-4d33-8b12-c36cd248ba9e",
        "colab": {
          "base_uri": "https://localhost:8080/",
          "height": 33
        }
      },
      "source": [
        "'''code = 'M5A'\n",
        "g = geocoder.arcgis('{}, Toronto, Ontario'.format(code))\n",
        "lat_lng_coords = g.latlng\n",
        "lat_lng_coords'''"
      ],
      "execution_count": 0,
      "outputs": [
        {
          "output_type": "execute_result",
          "data": {
            "text/plain": [
              "\"code = 'M5A'\\ng = geocoder.arcgis('{}, Toronto, Ontario'.format(code))\\nlat_lng_coords = g.latlng\\nlat_lng_coords\""
            ]
          },
          "metadata": {
            "tags": []
          },
          "execution_count": 38
        }
      ]
    },
    {
      "cell_type": "code",
      "metadata": {
        "id": "CyGCahVGLKny",
        "colab_type": "code",
        "outputId": "6cfd4ebe-1118-455e-dff3-85dfae740add",
        "colab": {
          "base_uri": "https://localhost:8080/",
          "height": 33
        }
      },
      "source": [
        "df.shape"
      ],
      "execution_count": 0,
      "outputs": [
        {
          "output_type": "execute_result",
          "data": {
            "text/plain": [
              "(103, 5)"
            ]
          },
          "metadata": {
            "tags": []
          },
          "execution_count": 39
        }
      ]
    },
    {
      "cell_type": "code",
      "metadata": {
        "id": "vVjSsVOlMlNp",
        "colab_type": "code",
        "outputId": "99cc1350-deb2-4e43-cea7-b663bbdadaf6",
        "colab": {
          "base_uri": "https://localhost:8080/",
          "height": 33
        }
      },
      "source": [
        "print('Dataframe has {} Borough and {} neighborhood.'.format(len(df.Borough.unique()),df.shape[0]))"
      ],
      "execution_count": 0,
      "outputs": [
        {
          "output_type": "stream",
          "text": [
            "Dataframe has 10 Borough and 103 neighborhood.\n"
          ],
          "name": "stdout"
        }
      ]
    },
    {
      "cell_type": "markdown",
      "metadata": {
        "id": "Lz9QaQfk7Wpp",
        "colab_type": "text"
      },
      "source": [
        "###Using geopy library to visualize the place after getting cordinates"
      ]
    },
    {
      "cell_type": "code",
      "metadata": {
        "id": "z9b_D4R77QMB",
        "colab_type": "code",
        "outputId": "6858a050-ebca-4f7c-a309-5dbdad92cdb8",
        "colab": {
          "base_uri": "https://localhost:8080/",
          "height": 33
        }
      },
      "source": [
        "address = 'Toronto, Canada'\n",
        "\n",
        "geolocator = Nominatim(user_agent=\"can_explorer\")\n",
        "location = geolocator.geocode(address)\n",
        "latitude = location.latitude\n",
        "longitude = location.longitude\n",
        "print('The geograpical coordinate of Toronto are {}, {}.'.format(latitude, longitude))"
      ],
      "execution_count": 0,
      "outputs": [
        {
          "output_type": "stream",
          "text": [
            "The geograpical coordinate of Toronto are 43.6534817, -79.3839347.\n"
          ],
          "name": "stdout"
        }
      ]
    },
    {
      "cell_type": "code",
      "metadata": {
        "id": "DL52wQWN6Sk0",
        "colab_type": "code",
        "colab": {}
      },
      "source": [
        "map_toronto = folium.Map(location=[latitude, longitude], zoom_start=11)\n",
        "\n",
        "for lat, lng, borough, neighborhood in zip(df['latitude'], df['longitude'], df['Borough'], df['Neighborhood']):\n",
        "    label = '{}, {}'.format(neighborhood, borough)\n",
        "    label = folium.Popup(label, parse_html=True)\n",
        "    folium.CircleMarker(\n",
        "        [lat, lng],\n",
        "        radius=5,\n",
        "        popup=label,\n",
        "        color='red',\n",
        "        fill=True,\n",
        "        fill_color='#3186cc',\n",
        "        fill_opacity=0.7,\n",
        "        parse_html=False).add_to(map_toronto)  \n",
        "    \n",
        "#map_toronto"
      ],
      "execution_count": 0,
      "outputs": []
    },
    {
      "cell_type": "code",
      "metadata": {
        "id": "OVtT9zjqTFEl",
        "colab_type": "code",
        "outputId": "c06111ce-69da-43c8-d878-27236479e0f5",
        "colab": {
          "base_uri": "https://localhost:8080/",
          "height": 33
        }
      },
      "source": [
        "print('=================================================================================================================')"
      ],
      "execution_count": 0,
      "outputs": [
        {
          "output_type": "stream",
          "text": [
            "=================================================================================================================\n"
          ],
          "name": "stdout"
        }
      ]
    },
    {
      "cell_type": "markdown",
      "metadata": {
        "id": "7Ppe5h-YT39d",
        "colab_type": "text"
      },
      "source": [
        "##Define Foursquare Credentials and Version"
      ]
    },
    {
      "cell_type": "code",
      "metadata": {
        "id": "-NGUljroUB-B",
        "colab_type": "code",
        "outputId": "b7c1b583-896b-4fd7-afe3-9e7c9d04208c",
        "colab": {
          "base_uri": "https://localhost:8080/",
          "height": 67
        }
      },
      "source": [
        "CLIENT_ID = 'PYANEEI0VEF3DT0UYBXNCSB2JR0U230EJF0NYRKSZMNBSL1H' # your Foursquare ID\n",
        "CLIENT_SECRET = 'L2B5GO3BHAZPAS21BWWX2K0XMBCMWFW3QS5DDGLVPCJV0VYB' # your Foursquare Secret\n",
        "VERSION = '20180604'\n",
        "LIMIT = 30\n",
        "print('Your credentails:')\n",
        "print('CLIENT_ID: ' + CLIENT_ID)\n",
        "print('CLIENT_SECRET:' + CLIENT_SECRET)"
      ],
      "execution_count": 0,
      "outputs": [
        {
          "output_type": "stream",
          "text": [
            "Your credentails:\n",
            "CLIENT_ID: PYANEEI0VEF3DT0UYBXNCSB2JR0U230EJF0NYRKSZMNBSL1H\n",
            "CLIENT_SECRET:L2B5GO3BHAZPAS21BWWX2K0XMBCMWFW3QS5DDGLVPCJV0VYB\n"
          ],
          "name": "stdout"
        }
      ]
    },
    {
      "cell_type": "markdown",
      "metadata": {
        "id": "Ba0Oj3E4UPGi",
        "colab_type": "text"
      },
      "source": [
        "####Let's explore the first neighborhood in our dataframe.¶"
      ]
    },
    {
      "cell_type": "code",
      "metadata": {
        "id": "aVvNhPqCUOrg",
        "colab_type": "code",
        "outputId": "d9a23267-2f3d-4060-9744-a70e28df1054",
        "colab": {
          "base_uri": "https://localhost:8080/",
          "height": 33
        }
      },
      "source": [
        " df.loc[0, 'Neighborhood']"
      ],
      "execution_count": 0,
      "outputs": [
        {
          "output_type": "execute_result",
          "data": {
            "text/plain": [
              "'Parkwoods'"
            ]
          },
          "metadata": {
            "tags": []
          },
          "execution_count": 56
        }
      ]
    },
    {
      "cell_type": "code",
      "metadata": {
        "id": "PV3exxFhUm6z",
        "colab_type": "code",
        "outputId": "3b79ab24-9ec6-4a50-bd6c-18d23aaed2be",
        "colab": {
          "base_uri": "https://localhost:8080/",
          "height": 33
        }
      },
      "source": [
        "neighborhood_name = df.loc[0, 'Neighborhood'] \n",
        "neighborhood_latitude = df.loc[0, 'latitude'] \n",
        "neighborhood_longitude = df.loc[0, 'longitude'] \n",
        "\n",
        "print('Latitude and longitude values of {} are {}, {}.'.format(neighborhood_name, \n",
        "                                                               neighborhood_latitude, \n",
        "                                                               neighborhood_longitude))"
      ],
      "execution_count": 0,
      "outputs": [
        {
          "output_type": "stream",
          "text": [
            "Latitude and longitude values of Parkwoods are 43.7543263, -79.44911696639593.\n"
          ],
          "name": "stdout"
        }
      ]
    },
    {
      "cell_type": "code",
      "metadata": {
        "id": "hNafnTmRU2_C",
        "colab_type": "code",
        "outputId": "ff69522d-6dfe-48d3-ec6b-c68b5f0af722",
        "colab": {
          "base_uri": "https://localhost:8080/",
          "height": 53
        }
      },
      "source": [
        "# Top 100 venues near to the specified neighborhood\n",
        "LIMIT = 100\n",
        "radius = 500\n",
        "url = 'https://api.foursquare.com/v2/venues/explore?&client_id={}&client_secret={}&v={}&ll={},{}&radius={}&limit={}'.format(\n",
        "    CLIENT_ID, \n",
        "    CLIENT_SECRET, \n",
        "    VERSION, \n",
        "    neighborhood_latitude, \n",
        "    neighborhood_longitude, \n",
        "    radius, \n",
        "    LIMIT)\n",
        "url"
      ],
      "execution_count": 0,
      "outputs": [
        {
          "output_type": "execute_result",
          "data": {
            "text/plain": [
              "'https://api.foursquare.com/v2/venues/explore?&client_id=PYANEEI0VEF3DT0UYBXNCSB2JR0U230EJF0NYRKSZMNBSL1H&client_secret=L2B5GO3BHAZPAS21BWWX2K0XMBCMWFW3QS5DDGLVPCJV0VYB&v=20180604&ll=43.7543263,-79.44911696639593&radius=500&limit=100'"
            ]
          },
          "metadata": {
            "tags": []
          },
          "execution_count": 58
        }
      ]
    },
    {
      "cell_type": "code",
      "metadata": {
        "id": "8vFaFgLEVLFk",
        "colab_type": "code",
        "outputId": "267bfc72-9cb9-43c7-c921-eeb988bb8aef",
        "colab": {
          "base_uri": "https://localhost:8080/",
          "height": 1000
        }
      },
      "source": [
        "results = requests.get(url).json()\n",
        "results"
      ],
      "execution_count": 0,
      "outputs": [
        {
          "output_type": "execute_result",
          "data": {
            "text/plain": [
              "{'meta': {'code': 200, 'requestId': '5eb5120f40a7ea001b03c783'},\n",
              " 'response': {'groups': [{'items': [{'reasons': {'count': 0,\n",
              "       'items': [{'reasonName': 'globalInteractionReason',\n",
              "         'summary': 'This spot is popular',\n",
              "         'type': 'general'}]},\n",
              "      'referralId': 'e-0-5a888f7647f8767d37b92f00-0',\n",
              "      'venue': {'categories': [{'icon': {'prefix': 'https://ss3.4sqi.net/img/categories_v2/food/mediterranean_',\n",
              "          'suffix': '.png'},\n",
              "         'id': '4bf58dd8d48988d1c0941735',\n",
              "         'name': 'Mediterranean Restaurant',\n",
              "         'pluralName': 'Mediterranean Restaurants',\n",
              "         'primary': True,\n",
              "         'shortName': 'Mediterranean'}],\n",
              "       'id': '5a888f7647f8767d37b92f00',\n",
              "       'location': {'address': '832 Sheppard West',\n",
              "        'cc': 'CA',\n",
              "        'city': 'North York',\n",
              "        'country': 'Canada',\n",
              "        'crossStreet': 'NE corner of Sheppard & Wilmington',\n",
              "        'distance': 246,\n",
              "        'formattedAddress': ['832 Sheppard West (NE corner of Sheppard & Wilmington)',\n",
              "         'North York ON M3H 2T1',\n",
              "         'Canada'],\n",
              "        'labeledLatLngs': [{'label': 'display',\n",
              "          'lat': 43.753122978404804,\n",
              "          'lng': -79.45169001817703}],\n",
              "        'lat': 43.753122978404804,\n",
              "        'lng': -79.45169001817703,\n",
              "        'neighborhood': 'Bathurst Manor',\n",
              "        'postalCode': 'M3H 2T1',\n",
              "        'state': 'ON'},\n",
              "       'name': 'Grill Gate',\n",
              "       'photos': {'count': 0, 'groups': []}}},\n",
              "     {'reasons': {'count': 0,\n",
              "       'items': [{'reasonName': 'globalInteractionReason',\n",
              "         'summary': 'This spot is popular',\n",
              "         'type': 'general'}]},\n",
              "      'referralId': 'e-0-4bc3acbdabf495210a22c493-1',\n",
              "      'venue': {'categories': [{'icon': {'prefix': 'https://ss3.4sqi.net/img/categories_v2/food/middleeastern_',\n",
              "          'suffix': '.png'},\n",
              "         'id': '4bf58dd8d48988d115941735',\n",
              "         'name': 'Middle Eastern Restaurant',\n",
              "         'pluralName': 'Middle Eastern Restaurants',\n",
              "         'primary': True,\n",
              "         'shortName': 'Middle Eastern'}],\n",
              "       'id': '4bc3acbdabf495210a22c493',\n",
              "       'location': {'address': '660 Sheppard Avenue West',\n",
              "        'cc': 'CA',\n",
              "        'city': 'Toronto',\n",
              "        'country': 'Canada',\n",
              "        'crossStreet': 'Bathurst',\n",
              "        'distance': 451,\n",
              "        'formattedAddress': ['660 Sheppard Avenue West (Bathurst)',\n",
              "         'Toronto ON',\n",
              "         'Canada'],\n",
              "        'labeledLatLngs': [{'label': 'display',\n",
              "          'lat': 43.754493246006334,\n",
              "          'lng': -79.44350727697311}],\n",
              "        'lat': 43.754493246006334,\n",
              "        'lng': -79.44350727697311,\n",
              "        'state': 'ON'},\n",
              "       'name': 'Orly Restaurant & Grill',\n",
              "       'photos': {'count': 0, 'groups': []}}},\n",
              "     {'reasons': {'count': 0,\n",
              "       'items': [{'reasonName': 'globalInteractionReason',\n",
              "         'summary': 'This spot is popular',\n",
              "         'type': 'general'}]},\n",
              "      'referralId': 'e-0-5011603fe4b07c3cf1967fba-2',\n",
              "      'venue': {'categories': [{'icon': {'prefix': 'https://ss3.4sqi.net/img/categories_v2/food/coffeeshop_',\n",
              "          'suffix': '.png'},\n",
              "         'id': '4bf58dd8d48988d1e0931735',\n",
              "         'name': 'Coffee Shop',\n",
              "         'pluralName': 'Coffee Shops',\n",
              "         'primary': True,\n",
              "         'shortName': 'Coffee Shop'}],\n",
              "       'id': '5011603fe4b07c3cf1967fba',\n",
              "       'location': {'address': '680 Sheppard Ave West',\n",
              "        'cc': 'CA',\n",
              "        'city': 'North York',\n",
              "        'country': 'Canada',\n",
              "        'crossStreet': 'Bryant',\n",
              "        'distance': 474,\n",
              "        'formattedAddress': ['680 Sheppard Ave West (Bryant)',\n",
              "         'North York ON M3H 2S5',\n",
              "         'Canada'],\n",
              "        'labeledLatLngs': [{'label': 'display',\n",
              "          'lat': 43.75476686520758,\n",
              "          'lng': -79.44325044751167}],\n",
              "        'lat': 43.75476686520758,\n",
              "        'lng': -79.44325044751167,\n",
              "        'postalCode': 'M3H 2S5',\n",
              "        'state': 'ON'},\n",
              "       'name': 'Tim Hortons',\n",
              "       'photos': {'count': 0, 'groups': []}}},\n",
              "     {'reasons': {'count': 0,\n",
              "       'items': [{'reasonName': 'globalInteractionReason',\n",
              "         'summary': 'This spot is popular',\n",
              "         'type': 'general'}]},\n",
              "      'referralId': 'e-0-50f9bbcc5d24acebc25936af-3',\n",
              "      'venue': {'categories': [{'icon': {'prefix': 'https://ss3.4sqi.net/img/categories_v2/food/pizza_',\n",
              "          'suffix': '.png'},\n",
              "         'id': '4bf58dd8d48988d1ca941735',\n",
              "         'name': 'Pizza Place',\n",
              "         'pluralName': 'Pizza Places',\n",
              "         'primary': True,\n",
              "         'shortName': 'Pizza'}],\n",
              "       'id': '50f9bbcc5d24acebc25936af',\n",
              "       'location': {'address': '820 Sheppard Ave W',\n",
              "        'cc': 'CA',\n",
              "        'city': 'Toronto',\n",
              "        'country': 'Canada',\n",
              "        'distance': 197,\n",
              "        'formattedAddress': ['820 Sheppard Ave W',\n",
              "         'Toronto ON M3H 2T1',\n",
              "         'Canada'],\n",
              "        'labeledLatLngs': [{'label': 'display',\n",
              "          'lat': 43.75312660212406,\n",
              "          'lng': -79.45092591363169}],\n",
              "        'lat': 43.75312660212406,\n",
              "        'lng': -79.45092591363169,\n",
              "        'postalCode': 'M3H 2T1',\n",
              "        'state': 'ON'},\n",
              "       'name': \"Domino's Pizza\",\n",
              "       'photos': {'count': 0, 'groups': []}}}],\n",
              "    'name': 'recommended',\n",
              "    'type': 'Recommended Places'}],\n",
              "  'headerFullLocation': 'Bathurst Manor, Toronto',\n",
              "  'headerLocation': 'Bathurst Manor',\n",
              "  'headerLocationGranularity': 'neighborhood',\n",
              "  'suggestedBounds': {'ne': {'lat': 43.758826304500005,\n",
              "    'lng': -79.44289859530187},\n",
              "   'sw': {'lat': 43.7498262955, 'lng': -79.45533533749}},\n",
              "  'totalResults': 4}}"
            ]
          },
          "metadata": {
            "tags": []
          },
          "execution_count": 59
        }
      ]
    },
    {
      "cell_type": "code",
      "metadata": {
        "id": "Nf7yaY0zS-mC",
        "colab_type": "code",
        "colab": {}
      },
      "source": [
        "# function that extracts the category of the venue\n",
        "def get_category_type(row):\n",
        "    try:\n",
        "        categories_list = row['categories']\n",
        "    except:\n",
        "        categories_list = row['venue.categories']\n",
        "        \n",
        "    if len(categories_list) == 0:\n",
        "        return None\n",
        "    else:\n",
        "        return categories_list[0]['name']"
      ],
      "execution_count": 0,
      "outputs": []
    },
    {
      "cell_type": "markdown",
      "metadata": {
        "id": "p-5WAuDZWRnL",
        "colab_type": "text"
      },
      "source": [
        "Clean the json and structure it into a pandas dataframe"
      ]
    },
    {
      "cell_type": "code",
      "metadata": {
        "id": "bpewC7GIVgGy",
        "colab_type": "code",
        "outputId": "211daf99-78af-43f7-e08b-fd4af560112c",
        "colab": {
          "base_uri": "https://localhost:8080/",
          "height": 201
        }
      },
      "source": [
        "venues = results['response']['groups'][0]['items']\n",
        "    \n",
        "nearby_venues = json_normalize(venues) # flatten JSON\n",
        "\n",
        "# filter columns\n",
        "filtered_columns = ['venue.name', 'venue.categories', 'venue.location.lat', 'venue.location.lng']\n",
        "nearby_venues =nearby_venues.loc[:, filtered_columns]\n",
        "\n",
        "# filter the category for each row\n",
        "nearby_venues['venue.categories'] = nearby_venues.apply(get_category_type, axis=1)\n",
        "\n",
        "# clean columns\n",
        "nearby_venues.columns = [col.split(\".\")[-1] for col in nearby_venues.columns]\n",
        "\n",
        "nearby_venues.head()"
      ],
      "execution_count": 0,
      "outputs": [
        {
          "output_type": "stream",
          "text": [
            "/usr/local/lib/python3.6/dist-packages/ipykernel_launcher.py:3: FutureWarning: pandas.io.json.json_normalize is deprecated, use pandas.json_normalize instead\n",
            "  This is separate from the ipykernel package so we can avoid doing imports until\n"
          ],
          "name": "stderr"
        },
        {
          "output_type": "execute_result",
          "data": {
            "text/html": [
              "<div>\n",
              "<style scoped>\n",
              "    .dataframe tbody tr th:only-of-type {\n",
              "        vertical-align: middle;\n",
              "    }\n",
              "\n",
              "    .dataframe tbody tr th {\n",
              "        vertical-align: top;\n",
              "    }\n",
              "\n",
              "    .dataframe thead th {\n",
              "        text-align: right;\n",
              "    }\n",
              "</style>\n",
              "<table border=\"1\" class=\"dataframe\">\n",
              "  <thead>\n",
              "    <tr style=\"text-align: right;\">\n",
              "      <th></th>\n",
              "      <th>name</th>\n",
              "      <th>categories</th>\n",
              "      <th>lat</th>\n",
              "      <th>lng</th>\n",
              "    </tr>\n",
              "  </thead>\n",
              "  <tbody>\n",
              "    <tr>\n",
              "      <th>0</th>\n",
              "      <td>Grill Gate</td>\n",
              "      <td>Mediterranean Restaurant</td>\n",
              "      <td>43.753123</td>\n",
              "      <td>-79.451690</td>\n",
              "    </tr>\n",
              "    <tr>\n",
              "      <th>1</th>\n",
              "      <td>Orly Restaurant &amp; Grill</td>\n",
              "      <td>Middle Eastern Restaurant</td>\n",
              "      <td>43.754493</td>\n",
              "      <td>-79.443507</td>\n",
              "    </tr>\n",
              "    <tr>\n",
              "      <th>2</th>\n",
              "      <td>Tim Hortons</td>\n",
              "      <td>Coffee Shop</td>\n",
              "      <td>43.754767</td>\n",
              "      <td>-79.443250</td>\n",
              "    </tr>\n",
              "    <tr>\n",
              "      <th>3</th>\n",
              "      <td>Domino's Pizza</td>\n",
              "      <td>Pizza Place</td>\n",
              "      <td>43.753127</td>\n",
              "      <td>-79.450926</td>\n",
              "    </tr>\n",
              "  </tbody>\n",
              "</table>\n",
              "</div>"
            ],
            "text/plain": [
              "                      name                 categories        lat        lng\n",
              "0               Grill Gate   Mediterranean Restaurant  43.753123 -79.451690\n",
              "1  Orly Restaurant & Grill  Middle Eastern Restaurant  43.754493 -79.443507\n",
              "2              Tim Hortons                Coffee Shop  43.754767 -79.443250\n",
              "3           Domino's Pizza                Pizza Place  43.753127 -79.450926"
            ]
          },
          "metadata": {
            "tags": []
          },
          "execution_count": 61
        }
      ]
    },
    {
      "cell_type": "code",
      "metadata": {
        "id": "_b0bbxzjWtog",
        "colab_type": "code",
        "outputId": "7b002cc6-c6f1-4ec1-9fe4-f4da310fab8c",
        "colab": {
          "base_uri": "https://localhost:8080/",
          "height": 33
        }
      },
      "source": [
        "print('{} venues were returned by Foursquare near to the specified neighbor'.format(nearby_venues.shape[0]))"
      ],
      "execution_count": 0,
      "outputs": [
        {
          "output_type": "stream",
          "text": [
            "4 venues were returned by Foursquare near to the specified neighbor\n"
          ],
          "name": "stdout"
        }
      ]
    },
    {
      "cell_type": "code",
      "metadata": {
        "id": "EcbyGQ4BW5sM",
        "colab_type": "code",
        "colab": {}
      },
      "source": [
        "def getNearbyVenues(names, latitudes, longitudes):\n",
        "    \n",
        "    venues_list=[]\n",
        "    for name, lat, lng in zip(names, latitudes, longitudes):\n",
        "        print(name)\n",
        "        results = requests.get(url).json()[\"response\"]['groups'][0]['items']\n",
        "        \n",
        "        # return only relevant information for each nearby venue\n",
        "        venues_list.append([(\n",
        "            name, \n",
        "            lat, \n",
        "            lng, \n",
        "            v['venue']['name'], \n",
        "            v['venue']['location']['lat'], \n",
        "            v['venue']['location']['lng'],  \n",
        "            v['venue']['categories'][0]['name']) for v in results])\n",
        "\n",
        "    nearby_venues = pd.DataFrame([item for venue_list in venues_list for item in venue_list])\n",
        "    nearby_venues.columns = ['Neighborhood', \n",
        "                  'Neighborhood Latitude', \n",
        "                  'Neighborhood Longitude', \n",
        "                  'Venue', \n",
        "                  'Venue Latitude', \n",
        "                  'Venue Longitude', \n",
        "                  'Venue Category']\n",
        "    \n",
        "    return(nearby_venues)"
      ],
      "execution_count": 0,
      "outputs": []
    },
    {
      "cell_type": "code",
      "metadata": {
        "id": "hFuIp7oHbpmd",
        "colab_type": "code",
        "outputId": "1ee07de9-57f8-42d1-bc9a-57b26b70c0e6",
        "colab": {
          "base_uri": "https://localhost:8080/",
          "height": 167
        }
      },
      "source": [
        "nearby_venues.head()"
      ],
      "execution_count": 71,
      "outputs": [
        {
          "output_type": "execute_result",
          "data": {
            "text/html": [
              "<div>\n",
              "<style scoped>\n",
              "    .dataframe tbody tr th:only-of-type {\n",
              "        vertical-align: middle;\n",
              "    }\n",
              "\n",
              "    .dataframe tbody tr th {\n",
              "        vertical-align: top;\n",
              "    }\n",
              "\n",
              "    .dataframe thead th {\n",
              "        text-align: right;\n",
              "    }\n",
              "</style>\n",
              "<table border=\"1\" class=\"dataframe\">\n",
              "  <thead>\n",
              "    <tr style=\"text-align: right;\">\n",
              "      <th></th>\n",
              "      <th>name</th>\n",
              "      <th>categories</th>\n",
              "      <th>lat</th>\n",
              "      <th>lng</th>\n",
              "    </tr>\n",
              "  </thead>\n",
              "  <tbody>\n",
              "    <tr>\n",
              "      <th>0</th>\n",
              "      <td>Grill Gate</td>\n",
              "      <td>Mediterranean Restaurant</td>\n",
              "      <td>43.753123</td>\n",
              "      <td>-79.451690</td>\n",
              "    </tr>\n",
              "    <tr>\n",
              "      <th>1</th>\n",
              "      <td>Orly Restaurant &amp; Grill</td>\n",
              "      <td>Middle Eastern Restaurant</td>\n",
              "      <td>43.754493</td>\n",
              "      <td>-79.443507</td>\n",
              "    </tr>\n",
              "    <tr>\n",
              "      <th>2</th>\n",
              "      <td>Tim Hortons</td>\n",
              "      <td>Coffee Shop</td>\n",
              "      <td>43.754767</td>\n",
              "      <td>-79.443250</td>\n",
              "    </tr>\n",
              "    <tr>\n",
              "      <th>3</th>\n",
              "      <td>Domino's Pizza</td>\n",
              "      <td>Pizza Place</td>\n",
              "      <td>43.753127</td>\n",
              "      <td>-79.450926</td>\n",
              "    </tr>\n",
              "  </tbody>\n",
              "</table>\n",
              "</div>"
            ],
            "text/plain": [
              "                      name                 categories        lat        lng\n",
              "0               Grill Gate   Mediterranean Restaurant  43.753123 -79.451690\n",
              "1  Orly Restaurant & Grill  Middle Eastern Restaurant  43.754493 -79.443507\n",
              "2              Tim Hortons                Coffee Shop  43.754767 -79.443250\n",
              "3           Domino's Pizza                Pizza Place  43.753127 -79.450926"
            ]
          },
          "metadata": {
            "tags": []
          },
          "execution_count": 71
        }
      ]
    },
    {
      "cell_type": "code",
      "metadata": {
        "id": "1dCIw36wZfFf",
        "colab_type": "code",
        "outputId": "08808246-fdef-4289-db52-1193ef13669b",
        "colab": {
          "base_uri": "https://localhost:8080/",
          "height": 1000
        }
      },
      "source": [
        "toronto_venues = getNearbyVenues(names=df['Neighborhood'],\n",
        "                                 latitudes=df['latitude'],\n",
        "                                 longitudes=df['longitude'])"
      ],
      "execution_count": 0,
      "outputs": [
        {
          "output_type": "stream",
          "text": [
            "Parkwoods\n",
            "Victoria Village\n",
            "Regent Park, Harbourfront\n",
            "Lawrence Manor, Lawrence Heights\n",
            "Queen's Park, Ontario Provincial Government\n",
            "Islington Avenue\n",
            "Malvern, Rouge\n",
            "Don Mills\n",
            "Parkview Hill, Woodbine Gardens\n",
            "Garden District, Ryerson\n",
            "Glencairn\n",
            "West Deane Park, Princess Gardens, Martin Grove, Islington, Cloverdale\n",
            "Rouge Hill, Port Union, Highland Creek\n",
            "Don Mills\n",
            "Woodbine Heights\n",
            "St. James Town\n",
            "Humewood-Cedarvale\n",
            "Eringate, Bloordale Gardens, Old Burnhamthorpe, Markland Wood\n",
            "Guildwood, Morningside, West Hill\n",
            "The Beaches\n",
            "Berczy Park\n",
            "Caledonia-Fairbanks\n",
            "Woburn\n",
            "Leaside\n",
            "Central Bay Street\n",
            "Christie\n",
            "Cedarbrae\n",
            "Hillcrest Village\n",
            "Bathurst Manor, Wilson Heights, Downsview North\n",
            "Thorncliffe Park\n",
            "Richmond, Adelaide, King\n",
            "Dufferin, Dovercourt Village\n",
            "Scarborough Village\n",
            "Fairview, Henry Farm, Oriole\n",
            "Northwood Park, York University\n",
            "East Toronto\n",
            "Harbourfront East, Union Station, Toronto Islands\n",
            "Little Portugal, Trinity\n",
            "Kennedy Park, Ionview, East Birchmount Park\n",
            "Bayview Village\n",
            "Downsview\n",
            "The Danforth West, Riverdale\n",
            "Toronto Dominion Centre, Design Exchange\n",
            "Brockton, Parkdale Village, Exhibition Place\n",
            "Golden Mile, Clairlea, Oakridge\n",
            "York Mills, Silver Hills\n",
            "Downsview\n",
            "India Bazaar, The Beaches West\n",
            "Commerce Court, Victoria Hotel\n",
            "North Park, Maple Leaf Park, Upwood Park\n",
            "Humber Summit\n",
            "Cliffside, Cliffcrest, Scarborough Village West\n",
            "Willowdale, Newtonbrook\n",
            "Downsview\n",
            "Studio District\n",
            "Bedford Park, Lawrence Manor East\n",
            "Del Ray, Mount Dennis, Keelsdale and Silverthorn\n",
            "Humberlea, Emery\n",
            "Birch Cliff, Cliffside West\n",
            "Willowdale\n",
            "Downsview\n",
            "Lawrence Park\n",
            "Roselawn\n",
            "Runnymede, The Junction North\n",
            "Weston\n",
            "Dorset Park, Wexford Heights, Scarborough Town Centre\n",
            "York Mills West\n",
            "Davisville North\n",
            "Forest Hill North & West\n",
            "High Park, The Junction South\n",
            "Westmount\n",
            "Wexford, Maryvale\n",
            "Willowdale\n",
            "North Toronto West\n",
            "The Annex, North Midtown, Yorkville\n",
            "Parkdale, Roncesvalles\n",
            "Canada Post Gateway Processing Centre\n",
            "Kingsview Village, St. Phillips, Martin Grove Gardens, Richview Gardens\n",
            "Agincourt\n",
            "Davisville\n",
            "University of Toronto, Harbord\n",
            "Runnymede, Swansea\n",
            "Clarks Corners, Tam O'Shanter, Sullivan\n",
            "Moore Park, Summerhill East\n",
            "Kensington Market, Chinatown, Grange Park\n",
            "Milliken, Agincourt North, Steeles East, L'Amoreaux East\n",
            "Summerhill West, Rathnelly, South Hill, Forest Hill SE, Deer Park\n",
            "CN Tower, King and Spadina, Railway Lands, Harbourfront West, Bathurst Quay, South Niagara, Island airport\n",
            "New Toronto, Mimico South, Humber Bay Shores\n",
            "South Steeles, Silverstone, Humbergate, Jamestown, Mount Olive, Beaumond Heights, Thistletown, Albion Gardens\n",
            "Steeles West, L'Amoreaux West\n",
            "Rosedale\n",
            "Stn A PO Boxes\n",
            "Alderwood, Long Branch\n",
            "Northwest\n",
            "Upper Rouge\n",
            "St. James Town, Cabbagetown\n",
            "First Canadian Place, Underground city\n",
            "The Kingsway, Montgomery Road, Old Mill North\n",
            "Church and Wellesley\n",
            "Business reply mail Processing Centre\n",
            "Old Mill South, King's Mill Park, Sunnylea, Humber Bay, Mimico NE, The Queensway East, Royal York South East, Kingsway Park South East\n",
            "Mimico NW, The Queensway West, South of Bloor, Kingsway Park South West, Royal York South West\n"
          ],
          "name": "stdout"
        }
      ]
    },
    {
      "cell_type": "code",
      "metadata": {
        "id": "jf0xY5Jtad2h",
        "colab_type": "code",
        "colab": {
          "base_uri": "https://localhost:8080/",
          "height": 33
        },
        "outputId": "6aa9633c-11c2-40cb-e6b9-fa8f2f3187f1"
      },
      "source": [
        "toronto_venues.shape"
      ],
      "execution_count": 72,
      "outputs": [
        {
          "output_type": "execute_result",
          "data": {
            "text/plain": [
              "(412, 7)"
            ]
          },
          "metadata": {
            "tags": []
          },
          "execution_count": 72
        }
      ]
    },
    {
      "cell_type": "code",
      "metadata": {
        "id": "Aa-v1_Jjwxtc",
        "colab_type": "code",
        "colab": {
          "base_uri": "https://localhost:8080/",
          "height": 197
        },
        "outputId": "68a70c91-fac7-4f2b-d88c-675e9adc6eed"
      },
      "source": [
        "toronto_venues.head()"
      ],
      "execution_count": 73,
      "outputs": [
        {
          "output_type": "execute_result",
          "data": {
            "text/html": [
              "<div>\n",
              "<style scoped>\n",
              "    .dataframe tbody tr th:only-of-type {\n",
              "        vertical-align: middle;\n",
              "    }\n",
              "\n",
              "    .dataframe tbody tr th {\n",
              "        vertical-align: top;\n",
              "    }\n",
              "\n",
              "    .dataframe thead th {\n",
              "        text-align: right;\n",
              "    }\n",
              "</style>\n",
              "<table border=\"1\" class=\"dataframe\">\n",
              "  <thead>\n",
              "    <tr style=\"text-align: right;\">\n",
              "      <th></th>\n",
              "      <th>Neighborhood</th>\n",
              "      <th>Neighborhood Latitude</th>\n",
              "      <th>Neighborhood Longitude</th>\n",
              "      <th>Venue</th>\n",
              "      <th>Venue Latitude</th>\n",
              "      <th>Venue Longitude</th>\n",
              "      <th>Venue Category</th>\n",
              "    </tr>\n",
              "  </thead>\n",
              "  <tbody>\n",
              "    <tr>\n",
              "      <th>0</th>\n",
              "      <td>Parkwoods</td>\n",
              "      <td>43.754326</td>\n",
              "      <td>-79.449117</td>\n",
              "      <td>Grill Gate</td>\n",
              "      <td>43.753123</td>\n",
              "      <td>-79.451690</td>\n",
              "      <td>Mediterranean Restaurant</td>\n",
              "    </tr>\n",
              "    <tr>\n",
              "      <th>1</th>\n",
              "      <td>Parkwoods</td>\n",
              "      <td>43.754326</td>\n",
              "      <td>-79.449117</td>\n",
              "      <td>Orly Restaurant &amp; Grill</td>\n",
              "      <td>43.754493</td>\n",
              "      <td>-79.443507</td>\n",
              "      <td>Middle Eastern Restaurant</td>\n",
              "    </tr>\n",
              "    <tr>\n",
              "      <th>2</th>\n",
              "      <td>Parkwoods</td>\n",
              "      <td>43.754326</td>\n",
              "      <td>-79.449117</td>\n",
              "      <td>Tim Hortons</td>\n",
              "      <td>43.754767</td>\n",
              "      <td>-79.443250</td>\n",
              "      <td>Coffee Shop</td>\n",
              "    </tr>\n",
              "    <tr>\n",
              "      <th>3</th>\n",
              "      <td>Parkwoods</td>\n",
              "      <td>43.754326</td>\n",
              "      <td>-79.449117</td>\n",
              "      <td>Domino's Pizza</td>\n",
              "      <td>43.753127</td>\n",
              "      <td>-79.450926</td>\n",
              "      <td>Pizza Place</td>\n",
              "    </tr>\n",
              "    <tr>\n",
              "      <th>4</th>\n",
              "      <td>Victoria Village</td>\n",
              "      <td>43.754326</td>\n",
              "      <td>-79.449117</td>\n",
              "      <td>Grill Gate</td>\n",
              "      <td>43.753123</td>\n",
              "      <td>-79.451690</td>\n",
              "      <td>Mediterranean Restaurant</td>\n",
              "    </tr>\n",
              "  </tbody>\n",
              "</table>\n",
              "</div>"
            ],
            "text/plain": [
              "       Neighborhood  ...             Venue Category\n",
              "0         Parkwoods  ...   Mediterranean Restaurant\n",
              "1         Parkwoods  ...  Middle Eastern Restaurant\n",
              "2         Parkwoods  ...                Coffee Shop\n",
              "3         Parkwoods  ...                Pizza Place\n",
              "4  Victoria Village  ...   Mediterranean Restaurant\n",
              "\n",
              "[5 rows x 7 columns]"
            ]
          },
          "metadata": {
            "tags": []
          },
          "execution_count": 73
        }
      ]
    },
    {
      "cell_type": "code",
      "metadata": {
        "id": "9MW_6pCGw7ne",
        "colab_type": "code",
        "colab": {
          "base_uri": "https://localhost:8080/",
          "height": 33
        },
        "outputId": "1c3fe00b-348c-41f3-c7fc-98122485b22e"
      },
      "source": [
        "print('There are {} unique Venue categories.'.format(len(toronto_venues['Venue Category'].unique())))"
      ],
      "execution_count": 75,
      "outputs": [
        {
          "output_type": "stream",
          "text": [
            "There are 4 unique Venue categories.\n"
          ],
          "name": "stdout"
        }
      ]
    },
    {
      "cell_type": "code",
      "metadata": {
        "id": "CXyXvt6ZxLvh",
        "colab_type": "code",
        "colab": {
          "base_uri": "https://localhost:8080/",
          "height": 227
        },
        "outputId": "7bea206f-3c9f-45b9-e2aa-e4548fb5ecd8"
      },
      "source": [
        "toronto_venues.groupby('Neighborhood').count().head()  #Each neighborhood had returned 4 venues"
      ],
      "execution_count": 78,
      "outputs": [
        {
          "output_type": "execute_result",
          "data": {
            "text/html": [
              "<div>\n",
              "<style scoped>\n",
              "    .dataframe tbody tr th:only-of-type {\n",
              "        vertical-align: middle;\n",
              "    }\n",
              "\n",
              "    .dataframe tbody tr th {\n",
              "        vertical-align: top;\n",
              "    }\n",
              "\n",
              "    .dataframe thead th {\n",
              "        text-align: right;\n",
              "    }\n",
              "</style>\n",
              "<table border=\"1\" class=\"dataframe\">\n",
              "  <thead>\n",
              "    <tr style=\"text-align: right;\">\n",
              "      <th></th>\n",
              "      <th>Neighborhood Latitude</th>\n",
              "      <th>Neighborhood Longitude</th>\n",
              "      <th>Venue</th>\n",
              "      <th>Venue Latitude</th>\n",
              "      <th>Venue Longitude</th>\n",
              "      <th>Venue Category</th>\n",
              "    </tr>\n",
              "    <tr>\n",
              "      <th>Neighborhood</th>\n",
              "      <th></th>\n",
              "      <th></th>\n",
              "      <th></th>\n",
              "      <th></th>\n",
              "      <th></th>\n",
              "      <th></th>\n",
              "    </tr>\n",
              "  </thead>\n",
              "  <tbody>\n",
              "    <tr>\n",
              "      <th>Agincourt</th>\n",
              "      <td>4</td>\n",
              "      <td>4</td>\n",
              "      <td>4</td>\n",
              "      <td>4</td>\n",
              "      <td>4</td>\n",
              "      <td>4</td>\n",
              "    </tr>\n",
              "    <tr>\n",
              "      <th>Alderwood, Long Branch</th>\n",
              "      <td>4</td>\n",
              "      <td>4</td>\n",
              "      <td>4</td>\n",
              "      <td>4</td>\n",
              "      <td>4</td>\n",
              "      <td>4</td>\n",
              "    </tr>\n",
              "    <tr>\n",
              "      <th>Bathurst Manor, Wilson Heights, Downsview North</th>\n",
              "      <td>4</td>\n",
              "      <td>4</td>\n",
              "      <td>4</td>\n",
              "      <td>4</td>\n",
              "      <td>4</td>\n",
              "      <td>4</td>\n",
              "    </tr>\n",
              "    <tr>\n",
              "      <th>Bayview Village</th>\n",
              "      <td>4</td>\n",
              "      <td>4</td>\n",
              "      <td>4</td>\n",
              "      <td>4</td>\n",
              "      <td>4</td>\n",
              "      <td>4</td>\n",
              "    </tr>\n",
              "    <tr>\n",
              "      <th>Bedford Park, Lawrence Manor East</th>\n",
              "      <td>4</td>\n",
              "      <td>4</td>\n",
              "      <td>4</td>\n",
              "      <td>4</td>\n",
              "      <td>4</td>\n",
              "      <td>4</td>\n",
              "    </tr>\n",
              "  </tbody>\n",
              "</table>\n",
              "</div>"
            ],
            "text/plain": [
              "                                                 Neighborhood Latitude  ...  Venue Category\n",
              "Neighborhood                                                            ...                \n",
              "Agincourt                                                            4  ...               4\n",
              "Alderwood, Long Branch                                               4  ...               4\n",
              "Bathurst Manor, Wilson Heights, Downsview North                      4  ...               4\n",
              "Bayview Village                                                      4  ...               4\n",
              "Bedford Park, Lawrence Manor East                                    4  ...               4\n",
              "\n",
              "[5 rows x 6 columns]"
            ]
          },
          "metadata": {
            "tags": []
          },
          "execution_count": 78
        }
      ]
    },
    {
      "cell_type": "markdown",
      "metadata": {
        "id": "CCkoahvLyvIA",
        "colab_type": "text"
      },
      "source": [
        "One-hot encoding"
      ]
    },
    {
      "cell_type": "code",
      "metadata": {
        "id": "W1Y4xiR-yCtO",
        "colab_type": "code",
        "colab": {
          "base_uri": "https://localhost:8080/",
          "height": 197
        },
        "outputId": "27625e1b-4bfb-4081-88e2-98f49ac6f530"
      },
      "source": [
        "toronto_onehot = pd.get_dummies(toronto_venues[['Venue Category']], prefix=\"\", prefix_sep=\"\")\n",
        "toronto_onehot.head()"
      ],
      "execution_count": 82,
      "outputs": [
        {
          "output_type": "execute_result",
          "data": {
            "text/html": [
              "<div>\n",
              "<style scoped>\n",
              "    .dataframe tbody tr th:only-of-type {\n",
              "        vertical-align: middle;\n",
              "    }\n",
              "\n",
              "    .dataframe tbody tr th {\n",
              "        vertical-align: top;\n",
              "    }\n",
              "\n",
              "    .dataframe thead th {\n",
              "        text-align: right;\n",
              "    }\n",
              "</style>\n",
              "<table border=\"1\" class=\"dataframe\">\n",
              "  <thead>\n",
              "    <tr style=\"text-align: right;\">\n",
              "      <th></th>\n",
              "      <th>Coffee Shop</th>\n",
              "      <th>Mediterranean Restaurant</th>\n",
              "      <th>Middle Eastern Restaurant</th>\n",
              "      <th>Pizza Place</th>\n",
              "    </tr>\n",
              "  </thead>\n",
              "  <tbody>\n",
              "    <tr>\n",
              "      <th>0</th>\n",
              "      <td>0</td>\n",
              "      <td>1</td>\n",
              "      <td>0</td>\n",
              "      <td>0</td>\n",
              "    </tr>\n",
              "    <tr>\n",
              "      <th>1</th>\n",
              "      <td>0</td>\n",
              "      <td>0</td>\n",
              "      <td>1</td>\n",
              "      <td>0</td>\n",
              "    </tr>\n",
              "    <tr>\n",
              "      <th>2</th>\n",
              "      <td>1</td>\n",
              "      <td>0</td>\n",
              "      <td>0</td>\n",
              "      <td>0</td>\n",
              "    </tr>\n",
              "    <tr>\n",
              "      <th>3</th>\n",
              "      <td>0</td>\n",
              "      <td>0</td>\n",
              "      <td>0</td>\n",
              "      <td>1</td>\n",
              "    </tr>\n",
              "    <tr>\n",
              "      <th>4</th>\n",
              "      <td>0</td>\n",
              "      <td>1</td>\n",
              "      <td>0</td>\n",
              "      <td>0</td>\n",
              "    </tr>\n",
              "  </tbody>\n",
              "</table>\n",
              "</div>"
            ],
            "text/plain": [
              "   Coffee Shop  ...  Pizza Place\n",
              "0            0  ...            0\n",
              "1            0  ...            0\n",
              "2            1  ...            0\n",
              "3            0  ...            1\n",
              "4            0  ...            0\n",
              "\n",
              "[5 rows x 4 columns]"
            ]
          },
          "metadata": {
            "tags": []
          },
          "execution_count": 82
        }
      ]
    },
    {
      "cell_type": "code",
      "metadata": {
        "id": "ebcTXeUNylYr",
        "colab_type": "code",
        "colab": {
          "base_uri": "https://localhost:8080/",
          "height": 197
        },
        "outputId": "33f4144a-da67-453e-bfc8-24d114f8ac5f"
      },
      "source": [
        "toronto_onehot['Neighborhood'] = toronto_venues['Neighborhood'] \n",
        "toronto_onehot.head()"
      ],
      "execution_count": 83,
      "outputs": [
        {
          "output_type": "execute_result",
          "data": {
            "text/html": [
              "<div>\n",
              "<style scoped>\n",
              "    .dataframe tbody tr th:only-of-type {\n",
              "        vertical-align: middle;\n",
              "    }\n",
              "\n",
              "    .dataframe tbody tr th {\n",
              "        vertical-align: top;\n",
              "    }\n",
              "\n",
              "    .dataframe thead th {\n",
              "        text-align: right;\n",
              "    }\n",
              "</style>\n",
              "<table border=\"1\" class=\"dataframe\">\n",
              "  <thead>\n",
              "    <tr style=\"text-align: right;\">\n",
              "      <th></th>\n",
              "      <th>Coffee Shop</th>\n",
              "      <th>Mediterranean Restaurant</th>\n",
              "      <th>Middle Eastern Restaurant</th>\n",
              "      <th>Pizza Place</th>\n",
              "      <th>Neighborhood</th>\n",
              "    </tr>\n",
              "  </thead>\n",
              "  <tbody>\n",
              "    <tr>\n",
              "      <th>0</th>\n",
              "      <td>0</td>\n",
              "      <td>1</td>\n",
              "      <td>0</td>\n",
              "      <td>0</td>\n",
              "      <td>Parkwoods</td>\n",
              "    </tr>\n",
              "    <tr>\n",
              "      <th>1</th>\n",
              "      <td>0</td>\n",
              "      <td>0</td>\n",
              "      <td>1</td>\n",
              "      <td>0</td>\n",
              "      <td>Parkwoods</td>\n",
              "    </tr>\n",
              "    <tr>\n",
              "      <th>2</th>\n",
              "      <td>1</td>\n",
              "      <td>0</td>\n",
              "      <td>0</td>\n",
              "      <td>0</td>\n",
              "      <td>Parkwoods</td>\n",
              "    </tr>\n",
              "    <tr>\n",
              "      <th>3</th>\n",
              "      <td>0</td>\n",
              "      <td>0</td>\n",
              "      <td>0</td>\n",
              "      <td>1</td>\n",
              "      <td>Parkwoods</td>\n",
              "    </tr>\n",
              "    <tr>\n",
              "      <th>4</th>\n",
              "      <td>0</td>\n",
              "      <td>1</td>\n",
              "      <td>0</td>\n",
              "      <td>0</td>\n",
              "      <td>Victoria Village</td>\n",
              "    </tr>\n",
              "  </tbody>\n",
              "</table>\n",
              "</div>"
            ],
            "text/plain": [
              "   Coffee Shop  Mediterranean Restaurant  ...  Pizza Place      Neighborhood\n",
              "0            0                         1  ...            0         Parkwoods\n",
              "1            0                         0  ...            0         Parkwoods\n",
              "2            1                         0  ...            0         Parkwoods\n",
              "3            0                         0  ...            1         Parkwoods\n",
              "4            0                         1  ...            0  Victoria Village\n",
              "\n",
              "[5 rows x 5 columns]"
            ]
          },
          "metadata": {
            "tags": []
          },
          "execution_count": 83
        }
      ]
    },
    {
      "cell_type": "code",
      "metadata": {
        "id": "mBhrjHMwzsjh",
        "colab_type": "code",
        "colab": {
          "base_uri": "https://localhost:8080/",
          "height": 197
        },
        "outputId": "4dd307f0-08f6-49bb-ecd9-d9e6210c6db6"
      },
      "source": [
        "toronto_onehot = toronto_onehot[[toronto_onehot.columns[-1]] + list(toronto_onehot.columns[:-1])]\n",
        "toronto_onehot.head()"
      ],
      "execution_count": 88,
      "outputs": [
        {
          "output_type": "execute_result",
          "data": {
            "text/html": [
              "<div>\n",
              "<style scoped>\n",
              "    .dataframe tbody tr th:only-of-type {\n",
              "        vertical-align: middle;\n",
              "    }\n",
              "\n",
              "    .dataframe tbody tr th {\n",
              "        vertical-align: top;\n",
              "    }\n",
              "\n",
              "    .dataframe thead th {\n",
              "        text-align: right;\n",
              "    }\n",
              "</style>\n",
              "<table border=\"1\" class=\"dataframe\">\n",
              "  <thead>\n",
              "    <tr style=\"text-align: right;\">\n",
              "      <th></th>\n",
              "      <th>Neighborhood</th>\n",
              "      <th>Coffee Shop</th>\n",
              "      <th>Mediterranean Restaurant</th>\n",
              "      <th>Middle Eastern Restaurant</th>\n",
              "      <th>Pizza Place</th>\n",
              "    </tr>\n",
              "  </thead>\n",
              "  <tbody>\n",
              "    <tr>\n",
              "      <th>0</th>\n",
              "      <td>Parkwoods</td>\n",
              "      <td>0</td>\n",
              "      <td>1</td>\n",
              "      <td>0</td>\n",
              "      <td>0</td>\n",
              "    </tr>\n",
              "    <tr>\n",
              "      <th>1</th>\n",
              "      <td>Parkwoods</td>\n",
              "      <td>0</td>\n",
              "      <td>0</td>\n",
              "      <td>1</td>\n",
              "      <td>0</td>\n",
              "    </tr>\n",
              "    <tr>\n",
              "      <th>2</th>\n",
              "      <td>Parkwoods</td>\n",
              "      <td>1</td>\n",
              "      <td>0</td>\n",
              "      <td>0</td>\n",
              "      <td>0</td>\n",
              "    </tr>\n",
              "    <tr>\n",
              "      <th>3</th>\n",
              "      <td>Parkwoods</td>\n",
              "      <td>0</td>\n",
              "      <td>0</td>\n",
              "      <td>0</td>\n",
              "      <td>1</td>\n",
              "    </tr>\n",
              "    <tr>\n",
              "      <th>4</th>\n",
              "      <td>Victoria Village</td>\n",
              "      <td>0</td>\n",
              "      <td>1</td>\n",
              "      <td>0</td>\n",
              "      <td>0</td>\n",
              "    </tr>\n",
              "  </tbody>\n",
              "</table>\n",
              "</div>"
            ],
            "text/plain": [
              "       Neighborhood  Coffee Shop  ...  Middle Eastern Restaurant  Pizza Place\n",
              "0         Parkwoods            0  ...                          0            0\n",
              "1         Parkwoods            0  ...                          1            0\n",
              "2         Parkwoods            1  ...                          0            0\n",
              "3         Parkwoods            0  ...                          0            1\n",
              "4  Victoria Village            0  ...                          0            0\n",
              "\n",
              "[5 rows x 5 columns]"
            ]
          },
          "metadata": {
            "tags": []
          },
          "execution_count": 88
        }
      ]
    },
    {
      "cell_type": "code",
      "metadata": {
        "id": "GrEJlzn90En8",
        "colab_type": "code",
        "colab": {
          "base_uri": "https://localhost:8080/",
          "height": 197
        },
        "outputId": "4dac0b11-6e25-4a26-9e09-9ac1693789a5"
      },
      "source": [
        "# group rows by neighborhood taking the mean of the frequency of occurrence of each category\n",
        "toronto_grouped = toronto_onehot.groupby('Neighborhood').mean().reset_index()\n",
        "toronto_grouped.head()"
      ],
      "execution_count": 90,
      "outputs": [
        {
          "output_type": "execute_result",
          "data": {
            "text/html": [
              "<div>\n",
              "<style scoped>\n",
              "    .dataframe tbody tr th:only-of-type {\n",
              "        vertical-align: middle;\n",
              "    }\n",
              "\n",
              "    .dataframe tbody tr th {\n",
              "        vertical-align: top;\n",
              "    }\n",
              "\n",
              "    .dataframe thead th {\n",
              "        text-align: right;\n",
              "    }\n",
              "</style>\n",
              "<table border=\"1\" class=\"dataframe\">\n",
              "  <thead>\n",
              "    <tr style=\"text-align: right;\">\n",
              "      <th></th>\n",
              "      <th>Neighborhood</th>\n",
              "      <th>Coffee Shop</th>\n",
              "      <th>Mediterranean Restaurant</th>\n",
              "      <th>Middle Eastern Restaurant</th>\n",
              "      <th>Pizza Place</th>\n",
              "    </tr>\n",
              "  </thead>\n",
              "  <tbody>\n",
              "    <tr>\n",
              "      <th>0</th>\n",
              "      <td>Agincourt</td>\n",
              "      <td>0.25</td>\n",
              "      <td>0.25</td>\n",
              "      <td>0.25</td>\n",
              "      <td>0.25</td>\n",
              "    </tr>\n",
              "    <tr>\n",
              "      <th>1</th>\n",
              "      <td>Alderwood, Long Branch</td>\n",
              "      <td>0.25</td>\n",
              "      <td>0.25</td>\n",
              "      <td>0.25</td>\n",
              "      <td>0.25</td>\n",
              "    </tr>\n",
              "    <tr>\n",
              "      <th>2</th>\n",
              "      <td>Bathurst Manor, Wilson Heights, Downsview North</td>\n",
              "      <td>0.25</td>\n",
              "      <td>0.25</td>\n",
              "      <td>0.25</td>\n",
              "      <td>0.25</td>\n",
              "    </tr>\n",
              "    <tr>\n",
              "      <th>3</th>\n",
              "      <td>Bayview Village</td>\n",
              "      <td>0.25</td>\n",
              "      <td>0.25</td>\n",
              "      <td>0.25</td>\n",
              "      <td>0.25</td>\n",
              "    </tr>\n",
              "    <tr>\n",
              "      <th>4</th>\n",
              "      <td>Bedford Park, Lawrence Manor East</td>\n",
              "      <td>0.25</td>\n",
              "      <td>0.25</td>\n",
              "      <td>0.25</td>\n",
              "      <td>0.25</td>\n",
              "    </tr>\n",
              "  </tbody>\n",
              "</table>\n",
              "</div>"
            ],
            "text/plain": [
              "                                      Neighborhood  ...  Pizza Place\n",
              "0                                        Agincourt  ...         0.25\n",
              "1                           Alderwood, Long Branch  ...         0.25\n",
              "2  Bathurst Manor, Wilson Heights, Downsview North  ...         0.25\n",
              "3                                  Bayview Village  ...         0.25\n",
              "4                Bedford Park, Lawrence Manor East  ...         0.25\n",
              "\n",
              "[5 rows x 5 columns]"
            ]
          },
          "metadata": {
            "tags": []
          },
          "execution_count": 90
        }
      ]
    },
    {
      "cell_type": "code",
      "metadata": {
        "id": "nhPjj9051xMV",
        "colab_type": "code",
        "colab": {
          "base_uri": "https://localhost:8080/",
          "height": 33
        },
        "outputId": "3d14575b-c3e5-4a30-bce9-f730c4100273"
      },
      "source": [
        "len(df.Neighborhood.unique())"
      ],
      "execution_count": 94,
      "outputs": [
        {
          "output_type": "execute_result",
          "data": {
            "text/plain": [
              "98"
            ]
          },
          "metadata": {
            "tags": []
          },
          "execution_count": 94
        }
      ]
    },
    {
      "cell_type": "code",
      "metadata": {
        "id": "7XLA0J7C1jAA",
        "colab_type": "code",
        "colab": {
          "base_uri": "https://localhost:8080/",
          "height": 33
        },
        "outputId": "2c48f8ff-d69a-4a47-8788-a710aace5feb"
      },
      "source": [
        "toronto_grouped.shape"
      ],
      "execution_count": 91,
      "outputs": [
        {
          "output_type": "execute_result",
          "data": {
            "text/plain": [
              "(98, 5)"
            ]
          },
          "metadata": {
            "tags": []
          },
          "execution_count": 91
        }
      ]
    },
    {
      "cell_type": "code",
      "metadata": {
        "id": "0rIuqJUc2VK6",
        "colab_type": "code",
        "colab": {
          "base_uri": "https://localhost:8080/",
          "height": 1000
        },
        "outputId": "e24e6648-b01b-4ece-e43c-70c4c039d547"
      },
      "source": [
        "num_top_venues = 5  #top 5 venues of each neighborhood\n",
        "\n",
        "for hood in toronto_grouped['Neighborhood']:\n",
        "    print(\"  ----\"+hood+\"----\")\n",
        "    temp = toronto_grouped[toronto_grouped['Neighborhood'] == hood].T.reset_index()\n",
        "    temp.columns = ['venue','freq']\n",
        "    temp = temp.iloc[1:]\n",
        "    temp['freq'] = temp['freq'].astype(float)\n",
        "    temp = temp.round({'freq': 2})\n",
        "    print(temp.sort_values('freq', ascending=False).reset_index(drop=True).head(num_top_venues))\n",
        "    print('\\n')"
      ],
      "execution_count": 96,
      "outputs": [
        {
          "output_type": "stream",
          "text": [
            "  ----Agincourt----\n",
            "                       venue  freq\n",
            "0                Coffee Shop  0.25\n",
            "1   Mediterranean Restaurant  0.25\n",
            "2  Middle Eastern Restaurant  0.25\n",
            "3                Pizza Place  0.25\n",
            "\n",
            "\n",
            "  ----Alderwood, Long Branch----\n",
            "                       venue  freq\n",
            "0                Coffee Shop  0.25\n",
            "1   Mediterranean Restaurant  0.25\n",
            "2  Middle Eastern Restaurant  0.25\n",
            "3                Pizza Place  0.25\n",
            "\n",
            "\n",
            "  ----Bathurst Manor, Wilson Heights, Downsview North----\n",
            "                       venue  freq\n",
            "0                Coffee Shop  0.25\n",
            "1   Mediterranean Restaurant  0.25\n",
            "2  Middle Eastern Restaurant  0.25\n",
            "3                Pizza Place  0.25\n",
            "\n",
            "\n",
            "  ----Bayview Village----\n",
            "                       venue  freq\n",
            "0                Coffee Shop  0.25\n",
            "1   Mediterranean Restaurant  0.25\n",
            "2  Middle Eastern Restaurant  0.25\n",
            "3                Pizza Place  0.25\n",
            "\n",
            "\n",
            "  ----Bedford Park, Lawrence Manor East----\n",
            "                       venue  freq\n",
            "0                Coffee Shop  0.25\n",
            "1   Mediterranean Restaurant  0.25\n",
            "2  Middle Eastern Restaurant  0.25\n",
            "3                Pizza Place  0.25\n",
            "\n",
            "\n",
            "  ----Berczy Park----\n",
            "                       venue  freq\n",
            "0                Coffee Shop  0.25\n",
            "1   Mediterranean Restaurant  0.25\n",
            "2  Middle Eastern Restaurant  0.25\n",
            "3                Pizza Place  0.25\n",
            "\n",
            "\n",
            "  ----Birch Cliff, Cliffside West----\n",
            "                       venue  freq\n",
            "0                Coffee Shop  0.25\n",
            "1   Mediterranean Restaurant  0.25\n",
            "2  Middle Eastern Restaurant  0.25\n",
            "3                Pizza Place  0.25\n",
            "\n",
            "\n",
            "  ----Brockton, Parkdale Village, Exhibition Place----\n",
            "                       venue  freq\n",
            "0                Coffee Shop  0.25\n",
            "1   Mediterranean Restaurant  0.25\n",
            "2  Middle Eastern Restaurant  0.25\n",
            "3                Pizza Place  0.25\n",
            "\n",
            "\n",
            "  ----Business reply mail Processing Centre----\n",
            "                       venue  freq\n",
            "0                Coffee Shop  0.25\n",
            "1   Mediterranean Restaurant  0.25\n",
            "2  Middle Eastern Restaurant  0.25\n",
            "3                Pizza Place  0.25\n",
            "\n",
            "\n",
            "  ----CN Tower, King and Spadina, Railway Lands, Harbourfront West, Bathurst Quay, South Niagara, Island airport----\n",
            "                       venue  freq\n",
            "0                Coffee Shop  0.25\n",
            "1   Mediterranean Restaurant  0.25\n",
            "2  Middle Eastern Restaurant  0.25\n",
            "3                Pizza Place  0.25\n",
            "\n",
            "\n",
            "  ----Caledonia-Fairbanks----\n",
            "                       venue  freq\n",
            "0                Coffee Shop  0.25\n",
            "1   Mediterranean Restaurant  0.25\n",
            "2  Middle Eastern Restaurant  0.25\n",
            "3                Pizza Place  0.25\n",
            "\n",
            "\n",
            "  ----Canada Post Gateway Processing Centre----\n",
            "                       venue  freq\n",
            "0                Coffee Shop  0.25\n",
            "1   Mediterranean Restaurant  0.25\n",
            "2  Middle Eastern Restaurant  0.25\n",
            "3                Pizza Place  0.25\n",
            "\n",
            "\n",
            "  ----Cedarbrae----\n",
            "                       venue  freq\n",
            "0                Coffee Shop  0.25\n",
            "1   Mediterranean Restaurant  0.25\n",
            "2  Middle Eastern Restaurant  0.25\n",
            "3                Pizza Place  0.25\n",
            "\n",
            "\n",
            "  ----Central Bay Street----\n",
            "                       venue  freq\n",
            "0                Coffee Shop  0.25\n",
            "1   Mediterranean Restaurant  0.25\n",
            "2  Middle Eastern Restaurant  0.25\n",
            "3                Pizza Place  0.25\n",
            "\n",
            "\n",
            "  ----Christie----\n",
            "                       venue  freq\n",
            "0                Coffee Shop  0.25\n",
            "1   Mediterranean Restaurant  0.25\n",
            "2  Middle Eastern Restaurant  0.25\n",
            "3                Pizza Place  0.25\n",
            "\n",
            "\n",
            "  ----Church and Wellesley----\n",
            "                       venue  freq\n",
            "0                Coffee Shop  0.25\n",
            "1   Mediterranean Restaurant  0.25\n",
            "2  Middle Eastern Restaurant  0.25\n",
            "3                Pizza Place  0.25\n",
            "\n",
            "\n",
            "  ----Clarks Corners, Tam O'Shanter, Sullivan----\n",
            "                       venue  freq\n",
            "0                Coffee Shop  0.25\n",
            "1   Mediterranean Restaurant  0.25\n",
            "2  Middle Eastern Restaurant  0.25\n",
            "3                Pizza Place  0.25\n",
            "\n",
            "\n",
            "  ----Cliffside, Cliffcrest, Scarborough Village West----\n",
            "                       venue  freq\n",
            "0                Coffee Shop  0.25\n",
            "1   Mediterranean Restaurant  0.25\n",
            "2  Middle Eastern Restaurant  0.25\n",
            "3                Pizza Place  0.25\n",
            "\n",
            "\n",
            "  ----Commerce Court, Victoria Hotel----\n",
            "                       venue  freq\n",
            "0                Coffee Shop  0.25\n",
            "1   Mediterranean Restaurant  0.25\n",
            "2  Middle Eastern Restaurant  0.25\n",
            "3                Pizza Place  0.25\n",
            "\n",
            "\n",
            "  ----Davisville----\n",
            "                       venue  freq\n",
            "0                Coffee Shop  0.25\n",
            "1   Mediterranean Restaurant  0.25\n",
            "2  Middle Eastern Restaurant  0.25\n",
            "3                Pizza Place  0.25\n",
            "\n",
            "\n",
            "  ----Davisville North----\n",
            "                       venue  freq\n",
            "0                Coffee Shop  0.25\n",
            "1   Mediterranean Restaurant  0.25\n",
            "2  Middle Eastern Restaurant  0.25\n",
            "3                Pizza Place  0.25\n",
            "\n",
            "\n",
            "  ----Del Ray, Mount Dennis, Keelsdale and Silverthorn----\n",
            "                       venue  freq\n",
            "0                Coffee Shop  0.25\n",
            "1   Mediterranean Restaurant  0.25\n",
            "2  Middle Eastern Restaurant  0.25\n",
            "3                Pizza Place  0.25\n",
            "\n",
            "\n",
            "  ----Don Mills----\n",
            "                       venue  freq\n",
            "0                Coffee Shop  0.25\n",
            "1   Mediterranean Restaurant  0.25\n",
            "2  Middle Eastern Restaurant  0.25\n",
            "3                Pizza Place  0.25\n",
            "\n",
            "\n",
            "  ----Dorset Park, Wexford Heights, Scarborough Town Centre----\n",
            "                       venue  freq\n",
            "0                Coffee Shop  0.25\n",
            "1   Mediterranean Restaurant  0.25\n",
            "2  Middle Eastern Restaurant  0.25\n",
            "3                Pizza Place  0.25\n",
            "\n",
            "\n",
            "  ----Downsview----\n",
            "                       venue  freq\n",
            "0                Coffee Shop  0.25\n",
            "1   Mediterranean Restaurant  0.25\n",
            "2  Middle Eastern Restaurant  0.25\n",
            "3                Pizza Place  0.25\n",
            "\n",
            "\n",
            "  ----Dufferin, Dovercourt Village----\n",
            "                       venue  freq\n",
            "0                Coffee Shop  0.25\n",
            "1   Mediterranean Restaurant  0.25\n",
            "2  Middle Eastern Restaurant  0.25\n",
            "3                Pizza Place  0.25\n",
            "\n",
            "\n",
            "  ----East Toronto----\n",
            "                       venue  freq\n",
            "0                Coffee Shop  0.25\n",
            "1   Mediterranean Restaurant  0.25\n",
            "2  Middle Eastern Restaurant  0.25\n",
            "3                Pizza Place  0.25\n",
            "\n",
            "\n",
            "  ----Eringate, Bloordale Gardens, Old Burnhamthorpe, Markland Wood----\n",
            "                       venue  freq\n",
            "0                Coffee Shop  0.25\n",
            "1   Mediterranean Restaurant  0.25\n",
            "2  Middle Eastern Restaurant  0.25\n",
            "3                Pizza Place  0.25\n",
            "\n",
            "\n",
            "  ----Fairview, Henry Farm, Oriole----\n",
            "                       venue  freq\n",
            "0                Coffee Shop  0.25\n",
            "1   Mediterranean Restaurant  0.25\n",
            "2  Middle Eastern Restaurant  0.25\n",
            "3                Pizza Place  0.25\n",
            "\n",
            "\n",
            "  ----First Canadian Place, Underground city----\n",
            "                       venue  freq\n",
            "0                Coffee Shop  0.25\n",
            "1   Mediterranean Restaurant  0.25\n",
            "2  Middle Eastern Restaurant  0.25\n",
            "3                Pizza Place  0.25\n",
            "\n",
            "\n",
            "  ----Forest Hill North & West----\n",
            "                       venue  freq\n",
            "0                Coffee Shop  0.25\n",
            "1   Mediterranean Restaurant  0.25\n",
            "2  Middle Eastern Restaurant  0.25\n",
            "3                Pizza Place  0.25\n",
            "\n",
            "\n",
            "  ----Garden District, Ryerson----\n",
            "                       venue  freq\n",
            "0                Coffee Shop  0.25\n",
            "1   Mediterranean Restaurant  0.25\n",
            "2  Middle Eastern Restaurant  0.25\n",
            "3                Pizza Place  0.25\n",
            "\n",
            "\n",
            "  ----Glencairn----\n",
            "                       venue  freq\n",
            "0                Coffee Shop  0.25\n",
            "1   Mediterranean Restaurant  0.25\n",
            "2  Middle Eastern Restaurant  0.25\n",
            "3                Pizza Place  0.25\n",
            "\n",
            "\n",
            "  ----Golden Mile, Clairlea, Oakridge----\n",
            "                       venue  freq\n",
            "0                Coffee Shop  0.25\n",
            "1   Mediterranean Restaurant  0.25\n",
            "2  Middle Eastern Restaurant  0.25\n",
            "3                Pizza Place  0.25\n",
            "\n",
            "\n",
            "  ----Guildwood, Morningside, West Hill----\n",
            "                       venue  freq\n",
            "0                Coffee Shop  0.25\n",
            "1   Mediterranean Restaurant  0.25\n",
            "2  Middle Eastern Restaurant  0.25\n",
            "3                Pizza Place  0.25\n",
            "\n",
            "\n",
            "  ----Harbourfront East, Union Station, Toronto Islands----\n",
            "                       venue  freq\n",
            "0                Coffee Shop  0.25\n",
            "1   Mediterranean Restaurant  0.25\n",
            "2  Middle Eastern Restaurant  0.25\n",
            "3                Pizza Place  0.25\n",
            "\n",
            "\n",
            "  ----High Park, The Junction South----\n",
            "                       venue  freq\n",
            "0                Coffee Shop  0.25\n",
            "1   Mediterranean Restaurant  0.25\n",
            "2  Middle Eastern Restaurant  0.25\n",
            "3                Pizza Place  0.25\n",
            "\n",
            "\n",
            "  ----Hillcrest Village----\n",
            "                       venue  freq\n",
            "0                Coffee Shop  0.25\n",
            "1   Mediterranean Restaurant  0.25\n",
            "2  Middle Eastern Restaurant  0.25\n",
            "3                Pizza Place  0.25\n",
            "\n",
            "\n",
            "  ----Humber Summit----\n",
            "                       venue  freq\n",
            "0                Coffee Shop  0.25\n",
            "1   Mediterranean Restaurant  0.25\n",
            "2  Middle Eastern Restaurant  0.25\n",
            "3                Pizza Place  0.25\n",
            "\n",
            "\n",
            "  ----Humberlea, Emery----\n",
            "                       venue  freq\n",
            "0                Coffee Shop  0.25\n",
            "1   Mediterranean Restaurant  0.25\n",
            "2  Middle Eastern Restaurant  0.25\n",
            "3                Pizza Place  0.25\n",
            "\n",
            "\n",
            "  ----Humewood-Cedarvale----\n",
            "                       venue  freq\n",
            "0                Coffee Shop  0.25\n",
            "1   Mediterranean Restaurant  0.25\n",
            "2  Middle Eastern Restaurant  0.25\n",
            "3                Pizza Place  0.25\n",
            "\n",
            "\n",
            "  ----India Bazaar, The Beaches West----\n",
            "                       venue  freq\n",
            "0                Coffee Shop  0.25\n",
            "1   Mediterranean Restaurant  0.25\n",
            "2  Middle Eastern Restaurant  0.25\n",
            "3                Pizza Place  0.25\n",
            "\n",
            "\n",
            "  ----Islington Avenue----\n",
            "                       venue  freq\n",
            "0                Coffee Shop  0.25\n",
            "1   Mediterranean Restaurant  0.25\n",
            "2  Middle Eastern Restaurant  0.25\n",
            "3                Pizza Place  0.25\n",
            "\n",
            "\n",
            "  ----Kennedy Park, Ionview, East Birchmount Park----\n",
            "                       venue  freq\n",
            "0                Coffee Shop  0.25\n",
            "1   Mediterranean Restaurant  0.25\n",
            "2  Middle Eastern Restaurant  0.25\n",
            "3                Pizza Place  0.25\n",
            "\n",
            "\n",
            "  ----Kensington Market, Chinatown, Grange Park----\n",
            "                       venue  freq\n",
            "0                Coffee Shop  0.25\n",
            "1   Mediterranean Restaurant  0.25\n",
            "2  Middle Eastern Restaurant  0.25\n",
            "3                Pizza Place  0.25\n",
            "\n",
            "\n",
            "  ----Kingsview Village, St. Phillips, Martin Grove Gardens, Richview Gardens----\n",
            "                       venue  freq\n",
            "0                Coffee Shop  0.25\n",
            "1   Mediterranean Restaurant  0.25\n",
            "2  Middle Eastern Restaurant  0.25\n",
            "3                Pizza Place  0.25\n",
            "\n",
            "\n",
            "  ----Lawrence Manor, Lawrence Heights----\n",
            "                       venue  freq\n",
            "0                Coffee Shop  0.25\n",
            "1   Mediterranean Restaurant  0.25\n",
            "2  Middle Eastern Restaurant  0.25\n",
            "3                Pizza Place  0.25\n",
            "\n",
            "\n",
            "  ----Lawrence Park----\n",
            "                       venue  freq\n",
            "0                Coffee Shop  0.25\n",
            "1   Mediterranean Restaurant  0.25\n",
            "2  Middle Eastern Restaurant  0.25\n",
            "3                Pizza Place  0.25\n",
            "\n",
            "\n",
            "  ----Leaside----\n",
            "                       venue  freq\n",
            "0                Coffee Shop  0.25\n",
            "1   Mediterranean Restaurant  0.25\n",
            "2  Middle Eastern Restaurant  0.25\n",
            "3                Pizza Place  0.25\n",
            "\n",
            "\n",
            "  ----Little Portugal, Trinity----\n",
            "                       venue  freq\n",
            "0                Coffee Shop  0.25\n",
            "1   Mediterranean Restaurant  0.25\n",
            "2  Middle Eastern Restaurant  0.25\n",
            "3                Pizza Place  0.25\n",
            "\n",
            "\n",
            "  ----Malvern, Rouge----\n",
            "                       venue  freq\n",
            "0                Coffee Shop  0.25\n",
            "1   Mediterranean Restaurant  0.25\n",
            "2  Middle Eastern Restaurant  0.25\n",
            "3                Pizza Place  0.25\n",
            "\n",
            "\n",
            "  ----Milliken, Agincourt North, Steeles East, L'Amoreaux East----\n",
            "                       venue  freq\n",
            "0                Coffee Shop  0.25\n",
            "1   Mediterranean Restaurant  0.25\n",
            "2  Middle Eastern Restaurant  0.25\n",
            "3                Pizza Place  0.25\n",
            "\n",
            "\n",
            "  ----Mimico NW, The Queensway West, South of Bloor, Kingsway Park South West, Royal York South West----\n",
            "                       venue  freq\n",
            "0                Coffee Shop  0.25\n",
            "1   Mediterranean Restaurant  0.25\n",
            "2  Middle Eastern Restaurant  0.25\n",
            "3                Pizza Place  0.25\n",
            "\n",
            "\n",
            "  ----Moore Park, Summerhill East----\n",
            "                       venue  freq\n",
            "0                Coffee Shop  0.25\n",
            "1   Mediterranean Restaurant  0.25\n",
            "2  Middle Eastern Restaurant  0.25\n",
            "3                Pizza Place  0.25\n",
            "\n",
            "\n",
            "  ----New Toronto, Mimico South, Humber Bay Shores----\n",
            "                       venue  freq\n",
            "0                Coffee Shop  0.25\n",
            "1   Mediterranean Restaurant  0.25\n",
            "2  Middle Eastern Restaurant  0.25\n",
            "3                Pizza Place  0.25\n",
            "\n",
            "\n",
            "  ----North Park, Maple Leaf Park, Upwood Park----\n",
            "                       venue  freq\n",
            "0                Coffee Shop  0.25\n",
            "1   Mediterranean Restaurant  0.25\n",
            "2  Middle Eastern Restaurant  0.25\n",
            "3                Pizza Place  0.25\n",
            "\n",
            "\n",
            "  ----North Toronto West----\n",
            "                       venue  freq\n",
            "0                Coffee Shop  0.25\n",
            "1   Mediterranean Restaurant  0.25\n",
            "2  Middle Eastern Restaurant  0.25\n",
            "3                Pizza Place  0.25\n",
            "\n",
            "\n",
            "  ----Northwest----\n",
            "                       venue  freq\n",
            "0                Coffee Shop  0.25\n",
            "1   Mediterranean Restaurant  0.25\n",
            "2  Middle Eastern Restaurant  0.25\n",
            "3                Pizza Place  0.25\n",
            "\n",
            "\n",
            "  ----Northwood Park, York University----\n",
            "                       venue  freq\n",
            "0                Coffee Shop  0.25\n",
            "1   Mediterranean Restaurant  0.25\n",
            "2  Middle Eastern Restaurant  0.25\n",
            "3                Pizza Place  0.25\n",
            "\n",
            "\n",
            "  ----Old Mill South, King's Mill Park, Sunnylea, Humber Bay, Mimico NE, The Queensway East, Royal York South East, Kingsway Park South East----\n",
            "                       venue  freq\n",
            "0                Coffee Shop  0.25\n",
            "1   Mediterranean Restaurant  0.25\n",
            "2  Middle Eastern Restaurant  0.25\n",
            "3                Pizza Place  0.25\n",
            "\n",
            "\n",
            "  ----Parkdale, Roncesvalles----\n",
            "                       venue  freq\n",
            "0                Coffee Shop  0.25\n",
            "1   Mediterranean Restaurant  0.25\n",
            "2  Middle Eastern Restaurant  0.25\n",
            "3                Pizza Place  0.25\n",
            "\n",
            "\n",
            "  ----Parkview Hill, Woodbine Gardens----\n",
            "                       venue  freq\n",
            "0                Coffee Shop  0.25\n",
            "1   Mediterranean Restaurant  0.25\n",
            "2  Middle Eastern Restaurant  0.25\n",
            "3                Pizza Place  0.25\n",
            "\n",
            "\n",
            "  ----Parkwoods----\n",
            "                       venue  freq\n",
            "0                Coffee Shop  0.25\n",
            "1   Mediterranean Restaurant  0.25\n",
            "2  Middle Eastern Restaurant  0.25\n",
            "3                Pizza Place  0.25\n",
            "\n",
            "\n",
            "  ----Queen's Park, Ontario Provincial Government----\n",
            "                       venue  freq\n",
            "0                Coffee Shop  0.25\n",
            "1   Mediterranean Restaurant  0.25\n",
            "2  Middle Eastern Restaurant  0.25\n",
            "3                Pizza Place  0.25\n",
            "\n",
            "\n",
            "  ----Regent Park, Harbourfront----\n",
            "                       venue  freq\n",
            "0                Coffee Shop  0.25\n",
            "1   Mediterranean Restaurant  0.25\n",
            "2  Middle Eastern Restaurant  0.25\n",
            "3                Pizza Place  0.25\n",
            "\n",
            "\n",
            "  ----Richmond, Adelaide, King----\n",
            "                       venue  freq\n",
            "0                Coffee Shop  0.25\n",
            "1   Mediterranean Restaurant  0.25\n",
            "2  Middle Eastern Restaurant  0.25\n",
            "3                Pizza Place  0.25\n",
            "\n",
            "\n",
            "  ----Rosedale----\n",
            "                       venue  freq\n",
            "0                Coffee Shop  0.25\n",
            "1   Mediterranean Restaurant  0.25\n",
            "2  Middle Eastern Restaurant  0.25\n",
            "3                Pizza Place  0.25\n",
            "\n",
            "\n",
            "  ----Roselawn----\n",
            "                       venue  freq\n",
            "0                Coffee Shop  0.25\n",
            "1   Mediterranean Restaurant  0.25\n",
            "2  Middle Eastern Restaurant  0.25\n",
            "3                Pizza Place  0.25\n",
            "\n",
            "\n",
            "  ----Rouge Hill, Port Union, Highland Creek----\n",
            "                       venue  freq\n",
            "0                Coffee Shop  0.25\n",
            "1   Mediterranean Restaurant  0.25\n",
            "2  Middle Eastern Restaurant  0.25\n",
            "3                Pizza Place  0.25\n",
            "\n",
            "\n",
            "  ----Runnymede, Swansea----\n",
            "                       venue  freq\n",
            "0                Coffee Shop  0.25\n",
            "1   Mediterranean Restaurant  0.25\n",
            "2  Middle Eastern Restaurant  0.25\n",
            "3                Pizza Place  0.25\n",
            "\n",
            "\n",
            "  ----Runnymede, The Junction North----\n",
            "                       venue  freq\n",
            "0                Coffee Shop  0.25\n",
            "1   Mediterranean Restaurant  0.25\n",
            "2  Middle Eastern Restaurant  0.25\n",
            "3                Pizza Place  0.25\n",
            "\n",
            "\n",
            "  ----Scarborough Village----\n",
            "                       venue  freq\n",
            "0                Coffee Shop  0.25\n",
            "1   Mediterranean Restaurant  0.25\n",
            "2  Middle Eastern Restaurant  0.25\n",
            "3                Pizza Place  0.25\n",
            "\n",
            "\n",
            "  ----South Steeles, Silverstone, Humbergate, Jamestown, Mount Olive, Beaumond Heights, Thistletown, Albion Gardens----\n",
            "                       venue  freq\n",
            "0                Coffee Shop  0.25\n",
            "1   Mediterranean Restaurant  0.25\n",
            "2  Middle Eastern Restaurant  0.25\n",
            "3                Pizza Place  0.25\n",
            "\n",
            "\n",
            "  ----St. James Town----\n",
            "                       venue  freq\n",
            "0                Coffee Shop  0.25\n",
            "1   Mediterranean Restaurant  0.25\n",
            "2  Middle Eastern Restaurant  0.25\n",
            "3                Pizza Place  0.25\n",
            "\n",
            "\n",
            "  ----St. James Town, Cabbagetown----\n",
            "                       venue  freq\n",
            "0                Coffee Shop  0.25\n",
            "1   Mediterranean Restaurant  0.25\n",
            "2  Middle Eastern Restaurant  0.25\n",
            "3                Pizza Place  0.25\n",
            "\n",
            "\n",
            "  ----Steeles West, L'Amoreaux West----\n",
            "                       venue  freq\n",
            "0                Coffee Shop  0.25\n",
            "1   Mediterranean Restaurant  0.25\n",
            "2  Middle Eastern Restaurant  0.25\n",
            "3                Pizza Place  0.25\n",
            "\n",
            "\n",
            "  ----Stn A PO Boxes----\n",
            "                       venue  freq\n",
            "0                Coffee Shop  0.25\n",
            "1   Mediterranean Restaurant  0.25\n",
            "2  Middle Eastern Restaurant  0.25\n",
            "3                Pizza Place  0.25\n",
            "\n",
            "\n",
            "  ----Studio District----\n",
            "                       venue  freq\n",
            "0                Coffee Shop  0.25\n",
            "1   Mediterranean Restaurant  0.25\n",
            "2  Middle Eastern Restaurant  0.25\n",
            "3                Pizza Place  0.25\n",
            "\n",
            "\n",
            "  ----Summerhill West, Rathnelly, South Hill, Forest Hill SE, Deer Park----\n",
            "                       venue  freq\n",
            "0                Coffee Shop  0.25\n",
            "1   Mediterranean Restaurant  0.25\n",
            "2  Middle Eastern Restaurant  0.25\n",
            "3                Pizza Place  0.25\n",
            "\n",
            "\n",
            "  ----The Annex, North Midtown, Yorkville----\n",
            "                       venue  freq\n",
            "0                Coffee Shop  0.25\n",
            "1   Mediterranean Restaurant  0.25\n",
            "2  Middle Eastern Restaurant  0.25\n",
            "3                Pizza Place  0.25\n",
            "\n",
            "\n",
            "  ----The Beaches----\n",
            "                       venue  freq\n",
            "0                Coffee Shop  0.25\n",
            "1   Mediterranean Restaurant  0.25\n",
            "2  Middle Eastern Restaurant  0.25\n",
            "3                Pizza Place  0.25\n",
            "\n",
            "\n",
            "  ----The Danforth West, Riverdale----\n",
            "                       venue  freq\n",
            "0                Coffee Shop  0.25\n",
            "1   Mediterranean Restaurant  0.25\n",
            "2  Middle Eastern Restaurant  0.25\n",
            "3                Pizza Place  0.25\n",
            "\n",
            "\n",
            "  ----The Kingsway, Montgomery Road, Old Mill North----\n",
            "                       venue  freq\n",
            "0                Coffee Shop  0.25\n",
            "1   Mediterranean Restaurant  0.25\n",
            "2  Middle Eastern Restaurant  0.25\n",
            "3                Pizza Place  0.25\n",
            "\n",
            "\n",
            "  ----Thorncliffe Park----\n",
            "                       venue  freq\n",
            "0                Coffee Shop  0.25\n",
            "1   Mediterranean Restaurant  0.25\n",
            "2  Middle Eastern Restaurant  0.25\n",
            "3                Pizza Place  0.25\n",
            "\n",
            "\n",
            "  ----Toronto Dominion Centre, Design Exchange----\n",
            "                       venue  freq\n",
            "0                Coffee Shop  0.25\n",
            "1   Mediterranean Restaurant  0.25\n",
            "2  Middle Eastern Restaurant  0.25\n",
            "3                Pizza Place  0.25\n",
            "\n",
            "\n",
            "  ----University of Toronto, Harbord----\n",
            "                       venue  freq\n",
            "0                Coffee Shop  0.25\n",
            "1   Mediterranean Restaurant  0.25\n",
            "2  Middle Eastern Restaurant  0.25\n",
            "3                Pizza Place  0.25\n",
            "\n",
            "\n",
            "  ----Upper Rouge----\n",
            "                       venue  freq\n",
            "0                Coffee Shop  0.25\n",
            "1   Mediterranean Restaurant  0.25\n",
            "2  Middle Eastern Restaurant  0.25\n",
            "3                Pizza Place  0.25\n",
            "\n",
            "\n",
            "  ----Victoria Village----\n",
            "                       venue  freq\n",
            "0                Coffee Shop  0.25\n",
            "1   Mediterranean Restaurant  0.25\n",
            "2  Middle Eastern Restaurant  0.25\n",
            "3                Pizza Place  0.25\n",
            "\n",
            "\n",
            "  ----West Deane Park, Princess Gardens, Martin Grove, Islington, Cloverdale----\n",
            "                       venue  freq\n",
            "0                Coffee Shop  0.25\n",
            "1   Mediterranean Restaurant  0.25\n",
            "2  Middle Eastern Restaurant  0.25\n",
            "3                Pizza Place  0.25\n",
            "\n",
            "\n",
            "  ----Westmount----\n",
            "                       venue  freq\n",
            "0                Coffee Shop  0.25\n",
            "1   Mediterranean Restaurant  0.25\n",
            "2  Middle Eastern Restaurant  0.25\n",
            "3                Pizza Place  0.25\n",
            "\n",
            "\n",
            "  ----Weston----\n",
            "                       venue  freq\n",
            "0                Coffee Shop  0.25\n",
            "1   Mediterranean Restaurant  0.25\n",
            "2  Middle Eastern Restaurant  0.25\n",
            "3                Pizza Place  0.25\n",
            "\n",
            "\n",
            "  ----Wexford, Maryvale----\n",
            "                       venue  freq\n",
            "0                Coffee Shop  0.25\n",
            "1   Mediterranean Restaurant  0.25\n",
            "2  Middle Eastern Restaurant  0.25\n",
            "3                Pizza Place  0.25\n",
            "\n",
            "\n",
            "  ----Willowdale----\n",
            "                       venue  freq\n",
            "0                Coffee Shop  0.25\n",
            "1   Mediterranean Restaurant  0.25\n",
            "2  Middle Eastern Restaurant  0.25\n",
            "3                Pizza Place  0.25\n",
            "\n",
            "\n",
            "  ----Willowdale, Newtonbrook----\n",
            "                       venue  freq\n",
            "0                Coffee Shop  0.25\n",
            "1   Mediterranean Restaurant  0.25\n",
            "2  Middle Eastern Restaurant  0.25\n",
            "3                Pizza Place  0.25\n",
            "\n",
            "\n",
            "  ----Woburn----\n",
            "                       venue  freq\n",
            "0                Coffee Shop  0.25\n",
            "1   Mediterranean Restaurant  0.25\n",
            "2  Middle Eastern Restaurant  0.25\n",
            "3                Pizza Place  0.25\n",
            "\n",
            "\n",
            "  ----Woodbine Heights----\n",
            "                       venue  freq\n",
            "0                Coffee Shop  0.25\n",
            "1   Mediterranean Restaurant  0.25\n",
            "2  Middle Eastern Restaurant  0.25\n",
            "3                Pizza Place  0.25\n",
            "\n",
            "\n",
            "  ----York Mills West----\n",
            "                       venue  freq\n",
            "0                Coffee Shop  0.25\n",
            "1   Mediterranean Restaurant  0.25\n",
            "2  Middle Eastern Restaurant  0.25\n",
            "3                Pizza Place  0.25\n",
            "\n",
            "\n",
            "  ----York Mills, Silver Hills----\n",
            "                       venue  freq\n",
            "0                Coffee Shop  0.25\n",
            "1   Mediterranean Restaurant  0.25\n",
            "2  Middle Eastern Restaurant  0.25\n",
            "3                Pizza Place  0.25\n",
            "\n",
            "\n"
          ],
          "name": "stdout"
        }
      ]
    },
    {
      "cell_type": "code",
      "metadata": {
        "id": "SaB5ysYa4BhC",
        "colab_type": "code",
        "colab": {}
      },
      "source": [
        "def return_most_common_venues(row, num_top_venues):         # sorting in descending order\n",
        "    row_categories = row.iloc[1:]\n",
        "    row_categories_sorted = row_categories.sort_values(ascending=False)\n",
        "    \n",
        "    return row_categories_sorted.index.values[0:num_top_venues]"
      ],
      "execution_count": 0,
      "outputs": []
    },
    {
      "cell_type": "code",
      "metadata": {
        "id": "GVxXiivj46fy",
        "colab_type": "code",
        "colab": {
          "base_uri": "https://localhost:8080/",
          "height": 197
        },
        "outputId": "c5216937-86d3-4aae-84f4-d4223781eeb8"
      },
      "source": [
        "# New dataframe to display the top 3 venues for each neighborhood\n",
        "num_top_venues = 3\n",
        "indicators = ['st', 'nd', 'rd']\n",
        "\n",
        "columns = ['Neighborhood']\n",
        "for ind in np.arange(num_top_venues):\n",
        "    try:\n",
        "        columns.append('{}{} Most Common Venue'.format(ind+1, indicators[ind]))\n",
        "    except:\n",
        "        columns.append('{}th Most Common Venue'.format(ind+1))\n",
        "\n",
        "neighborhoods_venues_sorted = pd.DataFrame(columns=columns)\n",
        "neighborhoods_venues_sorted['Neighborhood'] = toronto_grouped['Neighborhood']\n",
        "\n",
        "for ind in np.arange(toronto_grouped.shape[0]):\n",
        "    neighborhoods_venues_sorted.iloc[ind, 1:] = return_most_common_venues(toronto_grouped.iloc[ind, :], num_top_venues)\n",
        "\n",
        "neighborhoods_venues_sorted.head()"
      ],
      "execution_count": 102,
      "outputs": [
        {
          "output_type": "execute_result",
          "data": {
            "text/html": [
              "<div>\n",
              "<style scoped>\n",
              "    .dataframe tbody tr th:only-of-type {\n",
              "        vertical-align: middle;\n",
              "    }\n",
              "\n",
              "    .dataframe tbody tr th {\n",
              "        vertical-align: top;\n",
              "    }\n",
              "\n",
              "    .dataframe thead th {\n",
              "        text-align: right;\n",
              "    }\n",
              "</style>\n",
              "<table border=\"1\" class=\"dataframe\">\n",
              "  <thead>\n",
              "    <tr style=\"text-align: right;\">\n",
              "      <th></th>\n",
              "      <th>Neighborhood</th>\n",
              "      <th>1st Most Common Venue</th>\n",
              "      <th>2nd Most Common Venue</th>\n",
              "      <th>3rd Most Common Venue</th>\n",
              "    </tr>\n",
              "  </thead>\n",
              "  <tbody>\n",
              "    <tr>\n",
              "      <th>0</th>\n",
              "      <td>Agincourt</td>\n",
              "      <td>Pizza Place</td>\n",
              "      <td>Middle Eastern Restaurant</td>\n",
              "      <td>Mediterranean Restaurant</td>\n",
              "    </tr>\n",
              "    <tr>\n",
              "      <th>1</th>\n",
              "      <td>Alderwood, Long Branch</td>\n",
              "      <td>Pizza Place</td>\n",
              "      <td>Middle Eastern Restaurant</td>\n",
              "      <td>Mediterranean Restaurant</td>\n",
              "    </tr>\n",
              "    <tr>\n",
              "      <th>2</th>\n",
              "      <td>Bathurst Manor, Wilson Heights, Downsview North</td>\n",
              "      <td>Pizza Place</td>\n",
              "      <td>Middle Eastern Restaurant</td>\n",
              "      <td>Mediterranean Restaurant</td>\n",
              "    </tr>\n",
              "    <tr>\n",
              "      <th>3</th>\n",
              "      <td>Bayview Village</td>\n",
              "      <td>Pizza Place</td>\n",
              "      <td>Middle Eastern Restaurant</td>\n",
              "      <td>Mediterranean Restaurant</td>\n",
              "    </tr>\n",
              "    <tr>\n",
              "      <th>4</th>\n",
              "      <td>Bedford Park, Lawrence Manor East</td>\n",
              "      <td>Pizza Place</td>\n",
              "      <td>Middle Eastern Restaurant</td>\n",
              "      <td>Mediterranean Restaurant</td>\n",
              "    </tr>\n",
              "  </tbody>\n",
              "</table>\n",
              "</div>"
            ],
            "text/plain": [
              "                                      Neighborhood  ...     3rd Most Common Venue\n",
              "0                                        Agincourt  ...  Mediterranean Restaurant\n",
              "1                           Alderwood, Long Branch  ...  Mediterranean Restaurant\n",
              "2  Bathurst Manor, Wilson Heights, Downsview North  ...  Mediterranean Restaurant\n",
              "3                                  Bayview Village  ...  Mediterranean Restaurant\n",
              "4                Bedford Park, Lawrence Manor East  ...  Mediterranean Restaurant\n",
              "\n",
              "[5 rows x 4 columns]"
            ]
          },
          "metadata": {
            "tags": []
          },
          "execution_count": 102
        }
      ]
    },
    {
      "cell_type": "code",
      "metadata": {
        "id": "Esnf9Njf5ihx",
        "colab_type": "code",
        "colab": {
          "base_uri": "https://localhost:8080/",
          "height": 67
        },
        "outputId": "5bbb0004-840b-48a8-c0f6-3f95af5b4363"
      },
      "source": [
        "# clustering the neighborhood into 5 clusters\n",
        "kclusters = 5\n",
        "\n",
        "toronto_grouped_clustering = toronto_grouped.drop('Neighborhood', 1)\n",
        "kmeans = KMeans(n_clusters=kclusters, random_state=0).fit(toronto_grouped_clustering)\n",
        "kmeans.labels_[0:10]"
      ],
      "execution_count": 103,
      "outputs": [
        {
          "output_type": "stream",
          "text": [
            "/usr/local/lib/python3.6/dist-packages/ipykernel_launcher.py:4: ConvergenceWarning: Number of distinct clusters (1) found smaller than n_clusters (5). Possibly due to duplicate points in X.\n",
            "  after removing the cwd from sys.path.\n"
          ],
          "name": "stderr"
        },
        {
          "output_type": "execute_result",
          "data": {
            "text/plain": [
              "array([0, 0, 0, 0, 0, 0, 0, 0, 0, 0], dtype=int32)"
            ]
          },
          "metadata": {
            "tags": []
          },
          "execution_count": 103
        }
      ]
    },
    {
      "cell_type": "code",
      "metadata": {
        "id": "GksxScjx5x9o",
        "colab_type": "code",
        "colab": {
          "base_uri": "https://localhost:8080/",
          "height": 197
        },
        "outputId": "0f39fbc5-57f2-481f-dd00-d056876b4674"
      },
      "source": [
        "# create a new dataframe that includes the cluster as well as the top 10 venues for each neighborhood.\n",
        "\n",
        "# add clustering labels\n",
        "#neighborhoods_venues_sorted.insert(0, 'Cluster Labels', kmeans.labels_)\n",
        "\n",
        "toronto_merged = df\n",
        "\n",
        "# merge toronto_grouped with toronto_data to add latitude/longitude for each neighborhood\n",
        "toronto_merged = toronto_merged.join(neighborhoods_venues_sorted.set_index('Neighborhood'), on='Neighborhood')\n",
        "\n",
        "toronto_merged.head() "
      ],
      "execution_count": 106,
      "outputs": [
        {
          "output_type": "execute_result",
          "data": {
            "text/html": [
              "<div>\n",
              "<style scoped>\n",
              "    .dataframe tbody tr th:only-of-type {\n",
              "        vertical-align: middle;\n",
              "    }\n",
              "\n",
              "    .dataframe tbody tr th {\n",
              "        vertical-align: top;\n",
              "    }\n",
              "\n",
              "    .dataframe thead th {\n",
              "        text-align: right;\n",
              "    }\n",
              "</style>\n",
              "<table border=\"1\" class=\"dataframe\">\n",
              "  <thead>\n",
              "    <tr style=\"text-align: right;\">\n",
              "      <th></th>\n",
              "      <th>Postal_Code</th>\n",
              "      <th>Borough</th>\n",
              "      <th>Neighborhood</th>\n",
              "      <th>latitude</th>\n",
              "      <th>longitude</th>\n",
              "      <th>Cluster Labels</th>\n",
              "      <th>1st Most Common Venue</th>\n",
              "      <th>2nd Most Common Venue</th>\n",
              "      <th>3rd Most Common Venue</th>\n",
              "    </tr>\n",
              "  </thead>\n",
              "  <tbody>\n",
              "    <tr>\n",
              "      <th>0</th>\n",
              "      <td>M3A</td>\n",
              "      <td>North York</td>\n",
              "      <td>Parkwoods</td>\n",
              "      <td>43.7543</td>\n",
              "      <td>-79.4491</td>\n",
              "      <td>0</td>\n",
              "      <td>Pizza Place</td>\n",
              "      <td>Middle Eastern Restaurant</td>\n",
              "      <td>Mediterranean Restaurant</td>\n",
              "    </tr>\n",
              "    <tr>\n",
              "      <th>1</th>\n",
              "      <td>M4A</td>\n",
              "      <td>North York</td>\n",
              "      <td>Victoria Village</td>\n",
              "      <td>43.7543</td>\n",
              "      <td>-79.4491</td>\n",
              "      <td>0</td>\n",
              "      <td>Pizza Place</td>\n",
              "      <td>Middle Eastern Restaurant</td>\n",
              "      <td>Mediterranean Restaurant</td>\n",
              "    </tr>\n",
              "    <tr>\n",
              "      <th>2</th>\n",
              "      <td>M5A</td>\n",
              "      <td>Downtown Toronto</td>\n",
              "      <td>Regent Park, Harbourfront</td>\n",
              "      <td>43.6563</td>\n",
              "      <td>-79.3809</td>\n",
              "      <td>0</td>\n",
              "      <td>Pizza Place</td>\n",
              "      <td>Middle Eastern Restaurant</td>\n",
              "      <td>Mediterranean Restaurant</td>\n",
              "    </tr>\n",
              "    <tr>\n",
              "      <th>3</th>\n",
              "      <td>M6A</td>\n",
              "      <td>North York</td>\n",
              "      <td>Lawrence Manor, Lawrence Heights</td>\n",
              "      <td>43.7543</td>\n",
              "      <td>-79.4491</td>\n",
              "      <td>0</td>\n",
              "      <td>Pizza Place</td>\n",
              "      <td>Middle Eastern Restaurant</td>\n",
              "      <td>Mediterranean Restaurant</td>\n",
              "    </tr>\n",
              "    <tr>\n",
              "      <th>4</th>\n",
              "      <td>M7A</td>\n",
              "      <td>Downtown Toronto</td>\n",
              "      <td>Queen's Park, Ontario Provincial Government</td>\n",
              "      <td>43.6563</td>\n",
              "      <td>-79.3809</td>\n",
              "      <td>0</td>\n",
              "      <td>Pizza Place</td>\n",
              "      <td>Middle Eastern Restaurant</td>\n",
              "      <td>Mediterranean Restaurant</td>\n",
              "    </tr>\n",
              "  </tbody>\n",
              "</table>\n",
              "</div>"
            ],
            "text/plain": [
              "  Postal_Code  ...     3rd Most Common Venue\n",
              "0         M3A  ...  Mediterranean Restaurant\n",
              "1         M4A  ...  Mediterranean Restaurant\n",
              "2         M5A  ...  Mediterranean Restaurant\n",
              "3         M6A  ...  Mediterranean Restaurant\n",
              "4         M7A  ...  Mediterranean Restaurant\n",
              "\n",
              "[5 rows x 9 columns]"
            ]
          },
          "metadata": {
            "tags": []
          },
          "execution_count": 106
        }
      ]
    },
    {
      "cell_type": "code",
      "metadata": {
        "id": "zstJ9T7V6MUu",
        "colab_type": "code",
        "colab": {
          "base_uri": "https://localhost:8080/",
          "height": 904
        },
        "outputId": "fb2bc17c-c10b-42a2-d033-870d60351419"
      },
      "source": [
        "map_clusters = folium.Map(location=[43.67635739999999, -79.2930312], zoom_start=11)\n",
        "\n",
        "# color scheme for the clusters\n",
        "x = np.arange(kclusters)\n",
        "ys = [i + x + (i*x)**2 for i in range(kclusters)]\n",
        "colors_array = cm.rainbow(np.linspace(0, 1, len(ys)))\n",
        "rainbow = [colors.rgb2hex(i) for i in colors_array]\n",
        "\n",
        "# add markers to the map\n",
        "markers_colors = []\n",
        "for lat, lon, poi, cluster in zip(toronto_merged['latitude'], toronto_merged['longitude'], toronto_merged['Neighborhood'], toronto_merged['Cluster Labels']):\n",
        "    label = folium.Popup(str(poi) + ' Cluster ' + str(cluster), parse_html=True)\n",
        "    folium.CircleMarker(\n",
        "        [lat, lon],\n",
        "        radius=5,\n",
        "        popup=label,\n",
        "        color=rainbow[cluster-1],\n",
        "        fill=True,\n",
        "        fill_color=rainbow[cluster-1],\n",
        "        fill_opacity=0.7).add_to(map_clusters)\n",
        "       \n",
        "map_clusters"
      ],
      "execution_count": 108,
      "outputs": [
        {
          "output_type": "execute_result",
          "data": {
            "text/html": [
              "<div style=\"width:100%;\"><div style=\"position:relative;width:100%;height:0;padding-bottom:60%;\"><iframe src=\"about:blank\" style=\"position:absolute;width:100%;height:100%;left:0;top:0;border:none !important;\" data-html=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 onload=\"this.contentDocument.open();this.contentDocument.write(atob(this.getAttribute('data-html')));this.contentDocument.close();\" allowfullscreen webkitallowfullscreen mozallowfullscreen></iframe></div></div>"
            ],
            "text/plain": [
              "<folium.folium.Map at 0x7f44986009e8>"
            ]
          },
          "metadata": {
            "tags": []
          },
          "execution_count": 108
        }
      ]
    },
    {
      "cell_type": "code",
      "metadata": {
        "id": "wTUDkuip6kqK",
        "colab_type": "code",
        "colab": {
          "base_uri": "https://localhost:8080/",
          "height": 407
        },
        "outputId": "415db81e-f204-4080-862e-dfaf06ee2d0f"
      },
      "source": [
        "# CLUSTER 1\n",
        "\n",
        "toronto_merged.loc[toronto_merged['Cluster Labels'] == 0, toronto_merged.columns[[1] + list(range(5, toronto_merged.shape[1]))]]"
      ],
      "execution_count": 109,
      "outputs": [
        {
          "output_type": "execute_result",
          "data": {
            "text/html": [
              "<div>\n",
              "<style scoped>\n",
              "    .dataframe tbody tr th:only-of-type {\n",
              "        vertical-align: middle;\n",
              "    }\n",
              "\n",
              "    .dataframe tbody tr th {\n",
              "        vertical-align: top;\n",
              "    }\n",
              "\n",
              "    .dataframe thead th {\n",
              "        text-align: right;\n",
              "    }\n",
              "</style>\n",
              "<table border=\"1\" class=\"dataframe\">\n",
              "  <thead>\n",
              "    <tr style=\"text-align: right;\">\n",
              "      <th></th>\n",
              "      <th>Borough</th>\n",
              "      <th>Cluster Labels</th>\n",
              "      <th>1st Most Common Venue</th>\n",
              "      <th>2nd Most Common Venue</th>\n",
              "      <th>3rd Most Common Venue</th>\n",
              "    </tr>\n",
              "  </thead>\n",
              "  <tbody>\n",
              "    <tr>\n",
              "      <th>0</th>\n",
              "      <td>North York</td>\n",
              "      <td>0</td>\n",
              "      <td>Pizza Place</td>\n",
              "      <td>Middle Eastern Restaurant</td>\n",
              "      <td>Mediterranean Restaurant</td>\n",
              "    </tr>\n",
              "    <tr>\n",
              "      <th>1</th>\n",
              "      <td>North York</td>\n",
              "      <td>0</td>\n",
              "      <td>Pizza Place</td>\n",
              "      <td>Middle Eastern Restaurant</td>\n",
              "      <td>Mediterranean Restaurant</td>\n",
              "    </tr>\n",
              "    <tr>\n",
              "      <th>2</th>\n",
              "      <td>Downtown Toronto</td>\n",
              "      <td>0</td>\n",
              "      <td>Pizza Place</td>\n",
              "      <td>Middle Eastern Restaurant</td>\n",
              "      <td>Mediterranean Restaurant</td>\n",
              "    </tr>\n",
              "    <tr>\n",
              "      <th>3</th>\n",
              "      <td>North York</td>\n",
              "      <td>0</td>\n",
              "      <td>Pizza Place</td>\n",
              "      <td>Middle Eastern Restaurant</td>\n",
              "      <td>Mediterranean Restaurant</td>\n",
              "    </tr>\n",
              "    <tr>\n",
              "      <th>4</th>\n",
              "      <td>Downtown Toronto</td>\n",
              "      <td>0</td>\n",
              "      <td>Pizza Place</td>\n",
              "      <td>Middle Eastern Restaurant</td>\n",
              "      <td>Mediterranean Restaurant</td>\n",
              "    </tr>\n",
              "    <tr>\n",
              "      <th>...</th>\n",
              "      <td>...</td>\n",
              "      <td>...</td>\n",
              "      <td>...</td>\n",
              "      <td>...</td>\n",
              "      <td>...</td>\n",
              "    </tr>\n",
              "    <tr>\n",
              "      <th>98</th>\n",
              "      <td>Etobicoke</td>\n",
              "      <td>0</td>\n",
              "      <td>Pizza Place</td>\n",
              "      <td>Middle Eastern Restaurant</td>\n",
              "      <td>Mediterranean Restaurant</td>\n",
              "    </tr>\n",
              "    <tr>\n",
              "      <th>99</th>\n",
              "      <td>Downtown Toronto</td>\n",
              "      <td>0</td>\n",
              "      <td>Pizza Place</td>\n",
              "      <td>Middle Eastern Restaurant</td>\n",
              "      <td>Mediterranean Restaurant</td>\n",
              "    </tr>\n",
              "    <tr>\n",
              "      <th>100</th>\n",
              "      <td>East Toronto</td>\n",
              "      <td>0</td>\n",
              "      <td>Pizza Place</td>\n",
              "      <td>Middle Eastern Restaurant</td>\n",
              "      <td>Mediterranean Restaurant</td>\n",
              "    </tr>\n",
              "    <tr>\n",
              "      <th>101</th>\n",
              "      <td>Etobicoke</td>\n",
              "      <td>0</td>\n",
              "      <td>Pizza Place</td>\n",
              "      <td>Middle Eastern Restaurant</td>\n",
              "      <td>Mediterranean Restaurant</td>\n",
              "    </tr>\n",
              "    <tr>\n",
              "      <th>102</th>\n",
              "      <td>Etobicoke</td>\n",
              "      <td>0</td>\n",
              "      <td>Pizza Place</td>\n",
              "      <td>Middle Eastern Restaurant</td>\n",
              "      <td>Mediterranean Restaurant</td>\n",
              "    </tr>\n",
              "  </tbody>\n",
              "</table>\n",
              "<p>103 rows × 5 columns</p>\n",
              "</div>"
            ],
            "text/plain": [
              "              Borough  ...     3rd Most Common Venue\n",
              "0          North York  ...  Mediterranean Restaurant\n",
              "1          North York  ...  Mediterranean Restaurant\n",
              "2    Downtown Toronto  ...  Mediterranean Restaurant\n",
              "3          North York  ...  Mediterranean Restaurant\n",
              "4    Downtown Toronto  ...  Mediterranean Restaurant\n",
              "..                ...  ...                       ...\n",
              "98          Etobicoke  ...  Mediterranean Restaurant\n",
              "99   Downtown Toronto  ...  Mediterranean Restaurant\n",
              "100      East Toronto  ...  Mediterranean Restaurant\n",
              "101         Etobicoke  ...  Mediterranean Restaurant\n",
              "102         Etobicoke  ...  Mediterranean Restaurant\n",
              "\n",
              "[103 rows x 5 columns]"
            ]
          },
          "metadata": {
            "tags": []
          },
          "execution_count": 109
        }
      ]
    },
    {
      "cell_type": "code",
      "metadata": {
        "id": "AXeA2W8y7hEx",
        "colab_type": "code",
        "colab": {
          "base_uri": "https://localhost:8080/",
          "height": 47
        },
        "outputId": "d8f13812-839d-4e8f-ef10-25229676b1b3"
      },
      "source": [
        "# CLUSTER 2\n",
        "\n",
        "toronto_merged.loc[toronto_merged['Cluster Labels'] == 1, toronto_merged.columns[[1] + list(range(5, toronto_merged.shape[1]))]]"
      ],
      "execution_count": 112,
      "outputs": [
        {
          "output_type": "execute_result",
          "data": {
            "text/html": [
              "<div>\n",
              "<style scoped>\n",
              "    .dataframe tbody tr th:only-of-type {\n",
              "        vertical-align: middle;\n",
              "    }\n",
              "\n",
              "    .dataframe tbody tr th {\n",
              "        vertical-align: top;\n",
              "    }\n",
              "\n",
              "    .dataframe thead th {\n",
              "        text-align: right;\n",
              "    }\n",
              "</style>\n",
              "<table border=\"1\" class=\"dataframe\">\n",
              "  <thead>\n",
              "    <tr style=\"text-align: right;\">\n",
              "      <th></th>\n",
              "      <th>Borough</th>\n",
              "      <th>Cluster Labels</th>\n",
              "      <th>1st Most Common Venue</th>\n",
              "      <th>2nd Most Common Venue</th>\n",
              "      <th>3rd Most Common Venue</th>\n",
              "    </tr>\n",
              "  </thead>\n",
              "  <tbody>\n",
              "  </tbody>\n",
              "</table>\n",
              "</div>"
            ],
            "text/plain": [
              "Empty DataFrame\n",
              "Columns: [Borough, Cluster Labels, 1st Most Common Venue, 2nd Most Common Venue, 3rd Most Common Venue]\n",
              "Index: []"
            ]
          },
          "metadata": {
            "tags": []
          },
          "execution_count": 112
        }
      ]
    },
    {
      "cell_type": "code",
      "metadata": {
        "id": "bnta_v1M6ysz",
        "colab_type": "code",
        "colab": {
          "base_uri": "https://localhost:8080/",
          "height": 47
        },
        "outputId": "608007fc-db59-4a4d-9d10-00a2754ff243"
      },
      "source": [
        "# CLUSTER 3\n",
        "\n",
        "toronto_merged.loc[toronto_merged['Cluster Labels'] == 2, toronto_merged.columns[[1] + list(range(5, toronto_merged.shape[1]))]]"
      ],
      "execution_count": 113,
      "outputs": [
        {
          "output_type": "execute_result",
          "data": {
            "text/html": [
              "<div>\n",
              "<style scoped>\n",
              "    .dataframe tbody tr th:only-of-type {\n",
              "        vertical-align: middle;\n",
              "    }\n",
              "\n",
              "    .dataframe tbody tr th {\n",
              "        vertical-align: top;\n",
              "    }\n",
              "\n",
              "    .dataframe thead th {\n",
              "        text-align: right;\n",
              "    }\n",
              "</style>\n",
              "<table border=\"1\" class=\"dataframe\">\n",
              "  <thead>\n",
              "    <tr style=\"text-align: right;\">\n",
              "      <th></th>\n",
              "      <th>Borough</th>\n",
              "      <th>Cluster Labels</th>\n",
              "      <th>1st Most Common Venue</th>\n",
              "      <th>2nd Most Common Venue</th>\n",
              "      <th>3rd Most Common Venue</th>\n",
              "    </tr>\n",
              "  </thead>\n",
              "  <tbody>\n",
              "  </tbody>\n",
              "</table>\n",
              "</div>"
            ],
            "text/plain": [
              "Empty DataFrame\n",
              "Columns: [Borough, Cluster Labels, 1st Most Common Venue, 2nd Most Common Venue, 3rd Most Common Venue]\n",
              "Index: []"
            ]
          },
          "metadata": {
            "tags": []
          },
          "execution_count": 113
        }
      ]
    },
    {
      "cell_type": "code",
      "metadata": {
        "id": "Zd03NPVV7ujO",
        "colab_type": "code",
        "colab": {
          "base_uri": "https://localhost:8080/",
          "height": 47
        },
        "outputId": "92d61a64-e864-4ba5-ad84-84e6b82ef506"
      },
      "source": [
        "# CLUSTER 4\n",
        "\n",
        "toronto_merged.loc[toronto_merged['Cluster Labels'] == 3, toronto_merged.columns[[1] + list(range(5, toronto_merged.shape[1]))]]"
      ],
      "execution_count": 114,
      "outputs": [
        {
          "output_type": "execute_result",
          "data": {
            "text/html": [
              "<div>\n",
              "<style scoped>\n",
              "    .dataframe tbody tr th:only-of-type {\n",
              "        vertical-align: middle;\n",
              "    }\n",
              "\n",
              "    .dataframe tbody tr th {\n",
              "        vertical-align: top;\n",
              "    }\n",
              "\n",
              "    .dataframe thead th {\n",
              "        text-align: right;\n",
              "    }\n",
              "</style>\n",
              "<table border=\"1\" class=\"dataframe\">\n",
              "  <thead>\n",
              "    <tr style=\"text-align: right;\">\n",
              "      <th></th>\n",
              "      <th>Borough</th>\n",
              "      <th>Cluster Labels</th>\n",
              "      <th>1st Most Common Venue</th>\n",
              "      <th>2nd Most Common Venue</th>\n",
              "      <th>3rd Most Common Venue</th>\n",
              "    </tr>\n",
              "  </thead>\n",
              "  <tbody>\n",
              "  </tbody>\n",
              "</table>\n",
              "</div>"
            ],
            "text/plain": [
              "Empty DataFrame\n",
              "Columns: [Borough, Cluster Labels, 1st Most Common Venue, 2nd Most Common Venue, 3rd Most Common Venue]\n",
              "Index: []"
            ]
          },
          "metadata": {
            "tags": []
          },
          "execution_count": 114
        }
      ]
    },
    {
      "cell_type": "code",
      "metadata": {
        "id": "q4AfQv3i7vBU",
        "colab_type": "code",
        "colab": {
          "base_uri": "https://localhost:8080/",
          "height": 47
        },
        "outputId": "91871658-a15b-45d5-e5a4-516f6e2f1459"
      },
      "source": [
        "# CLUSTER 5\n",
        "\n",
        "toronto_merged.loc[toronto_merged['Cluster Labels'] == 4, toronto_merged.columns[[1] + list(range(5, toronto_merged.shape[1]))]]"
      ],
      "execution_count": 115,
      "outputs": [
        {
          "output_type": "execute_result",
          "data": {
            "text/html": [
              "<div>\n",
              "<style scoped>\n",
              "    .dataframe tbody tr th:only-of-type {\n",
              "        vertical-align: middle;\n",
              "    }\n",
              "\n",
              "    .dataframe tbody tr th {\n",
              "        vertical-align: top;\n",
              "    }\n",
              "\n",
              "    .dataframe thead th {\n",
              "        text-align: right;\n",
              "    }\n",
              "</style>\n",
              "<table border=\"1\" class=\"dataframe\">\n",
              "  <thead>\n",
              "    <tr style=\"text-align: right;\">\n",
              "      <th></th>\n",
              "      <th>Borough</th>\n",
              "      <th>Cluster Labels</th>\n",
              "      <th>1st Most Common Venue</th>\n",
              "      <th>2nd Most Common Venue</th>\n",
              "      <th>3rd Most Common Venue</th>\n",
              "    </tr>\n",
              "  </thead>\n",
              "  <tbody>\n",
              "  </tbody>\n",
              "</table>\n",
              "</div>"
            ],
            "text/plain": [
              "Empty DataFrame\n",
              "Columns: [Borough, Cluster Labels, 1st Most Common Venue, 2nd Most Common Venue, 3rd Most Common Venue]\n",
              "Index: []"
            ]
          },
          "metadata": {
            "tags": []
          },
          "execution_count": 115
        }
      ]
    }
  ]
}