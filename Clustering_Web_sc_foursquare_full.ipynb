{
  "nbformat": 4,
  "nbformat_minor": 0,
  "metadata": {
    "colab": {
      "name": "Clustering_Web_sc_foursquare_full",
      "provenance": [],
      "collapsed_sections": [],
      "authorship_tag": "ABX9TyOacXPNgYxWePp/hEoTDuJ2"
    },
    "kernelspec": {
      "name": "python3",
      "display_name": "Python 3"
    }
  },
  "cells": [
    {
      "cell_type": "code",
      "metadata": {
        "id": "Iewcgf1W2zMY",
        "colab_type": "code",
        "colab": {}
      },
      "source": [
        "from bs4 import BeautifulSoup\n",
        "import requests\n",
        "\n",
        "import numpy as np\n",
        "import pandas as pd\n",
        "from pandas.io.json import json_normalize #transform json data into pd df\n",
        "import json\n",
        "\n",
        "import matplotlib.cm as cm\n",
        "import matplotlib.colors as colors\n",
        "import folium\n",
        "\n",
        "from sklearn.cluster import KMeans\n",
        "from geopy.geocoders import Nominatim"
      ],
      "execution_count": 0,
      "outputs": []
    },
    {
      "cell_type": "code",
      "metadata": {
        "id": "iGhF79fNyNay",
        "colab_type": "code",
        "colab": {}
      },
      "source": [
        " url = 'https://en.wikipedia.org/wiki/List_of_postal_codes_of_Canada:_M'"
      ],
      "execution_count": 0,
      "outputs": []
    },
    {
      "cell_type": "code",
      "metadata": {
        "id": "xLgUgSPZyV3N",
        "colab_type": "code",
        "colab": {}
      },
      "source": [
        "response = requests.get(url)\n",
        "data = response.text\n",
        "soup = BeautifulSoup(data,'html.parser')"
      ],
      "execution_count": 0,
      "outputs": []
    },
    {
      "cell_type": "code",
      "metadata": {
        "id": "nE9KryqXyvX2",
        "colab_type": "code",
        "colab": {}
      },
      "source": [
        "S_no = 0\n",
        "d = dict()\n",
        "\n",
        "table = soup.find('table')\n",
        "table_rows = table.find_all('tr')\n",
        "for tr in table_rows:\n",
        "  td = tr.find_all('td')\n",
        "  row = [i.text for i in td]\n",
        "  #print(row)\n",
        "  S_no +=1\n",
        "  d[S_no] = row"
      ],
      "execution_count": 0,
      "outputs": []
    },
    {
      "cell_type": "code",
      "metadata": {
        "id": "9VzQfweNyybb",
        "colab_type": "code",
        "outputId": "bcb498a9-ad52-4003-dbfb-93ac8557cdf3",
        "colab": {
          "base_uri": "https://localhost:8080/",
          "height": 33
        }
      },
      "source": [
        "d[4]"
      ],
      "execution_count": 0,
      "outputs": [
        {
          "output_type": "execute_result",
          "data": {
            "text/plain": [
              "['M3A\\n', 'North York\\n', 'Parkwoods\\n']"
            ]
          },
          "metadata": {
            "tags": []
          },
          "execution_count": 5
        }
      ]
    },
    {
      "cell_type": "code",
      "metadata": {
        "id": "qp7k3BPAzNsz",
        "colab_type": "code",
        "colab": {}
      },
      "source": [
        "df = pd.DataFrame.from_dict(d,orient='index',columns=['Postal Code','Borough','Neighborhood'])"
      ],
      "execution_count": 0,
      "outputs": []
    },
    {
      "cell_type": "code",
      "metadata": {
        "id": "0TDZrKX8zhIM",
        "colab_type": "code",
        "outputId": "1b4b1e9a-88d8-453e-cb85-70037620fa52",
        "colab": {
          "base_uri": "https://localhost:8080/",
          "height": 197
        }
      },
      "source": [
        "df.head()"
      ],
      "execution_count": 0,
      "outputs": [
        {
          "output_type": "execute_result",
          "data": {
            "text/html": [
              "<div>\n",
              "<style scoped>\n",
              "    .dataframe tbody tr th:only-of-type {\n",
              "        vertical-align: middle;\n",
              "    }\n",
              "\n",
              "    .dataframe tbody tr th {\n",
              "        vertical-align: top;\n",
              "    }\n",
              "\n",
              "    .dataframe thead th {\n",
              "        text-align: right;\n",
              "    }\n",
              "</style>\n",
              "<table border=\"1\" class=\"dataframe\">\n",
              "  <thead>\n",
              "    <tr style=\"text-align: right;\">\n",
              "      <th></th>\n",
              "      <th>Postal Code</th>\n",
              "      <th>Borough</th>\n",
              "      <th>Neighborhood</th>\n",
              "    </tr>\n",
              "  </thead>\n",
              "  <tbody>\n",
              "    <tr>\n",
              "      <th>1</th>\n",
              "      <td>None</td>\n",
              "      <td>None</td>\n",
              "      <td>None</td>\n",
              "    </tr>\n",
              "    <tr>\n",
              "      <th>2</th>\n",
              "      <td>M1A\\n</td>\n",
              "      <td>Not assigned\\n</td>\n",
              "      <td>\\n</td>\n",
              "    </tr>\n",
              "    <tr>\n",
              "      <th>3</th>\n",
              "      <td>M2A\\n</td>\n",
              "      <td>Not assigned\\n</td>\n",
              "      <td>\\n</td>\n",
              "    </tr>\n",
              "    <tr>\n",
              "      <th>4</th>\n",
              "      <td>M3A\\n</td>\n",
              "      <td>North York\\n</td>\n",
              "      <td>Parkwoods\\n</td>\n",
              "    </tr>\n",
              "    <tr>\n",
              "      <th>5</th>\n",
              "      <td>M4A\\n</td>\n",
              "      <td>North York\\n</td>\n",
              "      <td>Victoria Village\\n</td>\n",
              "    </tr>\n",
              "  </tbody>\n",
              "</table>\n",
              "</div>"
            ],
            "text/plain": [
              "  Postal Code         Borough        Neighborhood\n",
              "1        None            None                None\n",
              "2       M1A\\n  Not assigned\\n                  \\n\n",
              "3       M2A\\n  Not assigned\\n                  \\n\n",
              "4       M3A\\n    North York\\n         Parkwoods\\n\n",
              "5       M4A\\n    North York\\n  Victoria Village\\n"
            ]
          },
          "metadata": {
            "tags": []
          },
          "execution_count": 7
        }
      ]
    },
    {
      "cell_type": "code",
      "metadata": {
        "id": "Gaw11FywzidI",
        "colab_type": "code",
        "colab": {}
      },
      "source": [
        "df = df.replace('\\n','', regex=True)"
      ],
      "execution_count": 0,
      "outputs": []
    },
    {
      "cell_type": "code",
      "metadata": {
        "id": "KepWBZIGzwMd",
        "colab_type": "code",
        "outputId": "2589cfe6-c517-485c-e96d-808d6b5c917d",
        "colab": {
          "base_uri": "https://localhost:8080/",
          "height": 197
        }
      },
      "source": [
        "df.drop(df.index[df['Borough'] == 'Not assigned'], inplace = True)\n",
        "df = df.reset_index(drop=True)\n",
        "df.head()"
      ],
      "execution_count": 0,
      "outputs": [
        {
          "output_type": "execute_result",
          "data": {
            "text/html": [
              "<div>\n",
              "<style scoped>\n",
              "    .dataframe tbody tr th:only-of-type {\n",
              "        vertical-align: middle;\n",
              "    }\n",
              "\n",
              "    .dataframe tbody tr th {\n",
              "        vertical-align: top;\n",
              "    }\n",
              "\n",
              "    .dataframe thead th {\n",
              "        text-align: right;\n",
              "    }\n",
              "</style>\n",
              "<table border=\"1\" class=\"dataframe\">\n",
              "  <thead>\n",
              "    <tr style=\"text-align: right;\">\n",
              "      <th></th>\n",
              "      <th>Postal Code</th>\n",
              "      <th>Borough</th>\n",
              "      <th>Neighborhood</th>\n",
              "    </tr>\n",
              "  </thead>\n",
              "  <tbody>\n",
              "    <tr>\n",
              "      <th>0</th>\n",
              "      <td>None</td>\n",
              "      <td>None</td>\n",
              "      <td>None</td>\n",
              "    </tr>\n",
              "    <tr>\n",
              "      <th>1</th>\n",
              "      <td>M3A</td>\n",
              "      <td>North York</td>\n",
              "      <td>Parkwoods</td>\n",
              "    </tr>\n",
              "    <tr>\n",
              "      <th>2</th>\n",
              "      <td>M4A</td>\n",
              "      <td>North York</td>\n",
              "      <td>Victoria Village</td>\n",
              "    </tr>\n",
              "    <tr>\n",
              "      <th>3</th>\n",
              "      <td>M5A</td>\n",
              "      <td>Downtown Toronto</td>\n",
              "      <td>Regent Park / Harbourfront</td>\n",
              "    </tr>\n",
              "    <tr>\n",
              "      <th>4</th>\n",
              "      <td>M6A</td>\n",
              "      <td>North York</td>\n",
              "      <td>Lawrence Manor / Lawrence Heights</td>\n",
              "    </tr>\n",
              "  </tbody>\n",
              "</table>\n",
              "</div>"
            ],
            "text/plain": [
              "  Postal Code           Borough                       Neighborhood\n",
              "0        None              None                               None\n",
              "1         M3A        North York                          Parkwoods\n",
              "2         M4A        North York                   Victoria Village\n",
              "3         M5A  Downtown Toronto         Regent Park / Harbourfront\n",
              "4         M6A        North York  Lawrence Manor / Lawrence Heights"
            ]
          },
          "metadata": {
            "tags": []
          },
          "execution_count": 9
        }
      ]
    },
    {
      "cell_type": "code",
      "metadata": {
        "id": "dYntdCt30MYA",
        "colab_type": "code",
        "outputId": "f7e31f3d-db56-4f2b-edce-271bc9448cbd",
        "colab": {
          "base_uri": "https://localhost:8080/",
          "height": 33
        }
      },
      "source": [
        "df.shape"
      ],
      "execution_count": 0,
      "outputs": [
        {
          "output_type": "execute_result",
          "data": {
            "text/plain": [
              "(104, 3)"
            ]
          },
          "metadata": {
            "tags": []
          },
          "execution_count": 10
        }
      ]
    },
    {
      "cell_type": "code",
      "metadata": {
        "id": "lMTjtnWZ0Adq",
        "colab_type": "code",
        "outputId": "8f2670c0-b38f-4d12-865b-3154fc0a4fd2",
        "colab": {
          "base_uri": "https://localhost:8080/",
          "height": 197
        }
      },
      "source": [
        "df.drop(df.index[0], inplace = True)\n",
        "df = df.reset_index(drop=True)\n",
        "df.head()"
      ],
      "execution_count": 0,
      "outputs": [
        {
          "output_type": "execute_result",
          "data": {
            "text/html": [
              "<div>\n",
              "<style scoped>\n",
              "    .dataframe tbody tr th:only-of-type {\n",
              "        vertical-align: middle;\n",
              "    }\n",
              "\n",
              "    .dataframe tbody tr th {\n",
              "        vertical-align: top;\n",
              "    }\n",
              "\n",
              "    .dataframe thead th {\n",
              "        text-align: right;\n",
              "    }\n",
              "</style>\n",
              "<table border=\"1\" class=\"dataframe\">\n",
              "  <thead>\n",
              "    <tr style=\"text-align: right;\">\n",
              "      <th></th>\n",
              "      <th>Postal Code</th>\n",
              "      <th>Borough</th>\n",
              "      <th>Neighborhood</th>\n",
              "    </tr>\n",
              "  </thead>\n",
              "  <tbody>\n",
              "    <tr>\n",
              "      <th>0</th>\n",
              "      <td>M3A</td>\n",
              "      <td>North York</td>\n",
              "      <td>Parkwoods</td>\n",
              "    </tr>\n",
              "    <tr>\n",
              "      <th>1</th>\n",
              "      <td>M4A</td>\n",
              "      <td>North York</td>\n",
              "      <td>Victoria Village</td>\n",
              "    </tr>\n",
              "    <tr>\n",
              "      <th>2</th>\n",
              "      <td>M5A</td>\n",
              "      <td>Downtown Toronto</td>\n",
              "      <td>Regent Park / Harbourfront</td>\n",
              "    </tr>\n",
              "    <tr>\n",
              "      <th>3</th>\n",
              "      <td>M6A</td>\n",
              "      <td>North York</td>\n",
              "      <td>Lawrence Manor / Lawrence Heights</td>\n",
              "    </tr>\n",
              "    <tr>\n",
              "      <th>4</th>\n",
              "      <td>M7A</td>\n",
              "      <td>Downtown Toronto</td>\n",
              "      <td>Queen's Park / Ontario Provincial Government</td>\n",
              "    </tr>\n",
              "  </tbody>\n",
              "</table>\n",
              "</div>"
            ],
            "text/plain": [
              "  Postal Code           Borough                                  Neighborhood\n",
              "0         M3A        North York                                     Parkwoods\n",
              "1         M4A        North York                              Victoria Village\n",
              "2         M5A  Downtown Toronto                    Regent Park / Harbourfront\n",
              "3         M6A        North York             Lawrence Manor / Lawrence Heights\n",
              "4         M7A  Downtown Toronto  Queen's Park / Ontario Provincial Government"
            ]
          },
          "metadata": {
            "tags": []
          },
          "execution_count": 11
        }
      ]
    },
    {
      "cell_type": "code",
      "metadata": {
        "id": "eU2nFWxh0Oj9",
        "colab_type": "code",
        "outputId": "31d26ff5-def1-4372-af20-79713218488c",
        "colab": {
          "base_uri": "https://localhost:8080/",
          "height": 33
        }
      },
      "source": [
        "df.shape"
      ],
      "execution_count": 0,
      "outputs": [
        {
          "output_type": "execute_result",
          "data": {
            "text/plain": [
              "(103, 3)"
            ]
          },
          "metadata": {
            "tags": []
          },
          "execution_count": 12
        }
      ]
    },
    {
      "cell_type": "code",
      "metadata": {
        "id": "3nWR9wol2MlY",
        "colab_type": "code",
        "outputId": "4b600dbe-dc53-4fbc-b137-910600bf309e",
        "colab": {
          "base_uri": "https://localhost:8080/",
          "height": 33
        }
      },
      "source": [
        "type(df.iloc[0,1])"
      ],
      "execution_count": 0,
      "outputs": [
        {
          "output_type": "execute_result",
          "data": {
            "text/plain": [
              "str"
            ]
          },
          "metadata": {
            "tags": []
          },
          "execution_count": 13
        }
      ]
    },
    {
      "cell_type": "code",
      "metadata": {
        "id": "1AspWsbaGxCN",
        "colab_type": "code",
        "outputId": "c71fb979-e1ed-4a9c-9988-2ba9a407dfc4",
        "colab": {
          "base_uri": "https://localhost:8080/",
          "height": 197
        }
      },
      "source": [
        "df['latitude'] = None\n",
        "df['longitude'] = None\n",
        "df.head()"
      ],
      "execution_count": 0,
      "outputs": [
        {
          "output_type": "execute_result",
          "data": {
            "text/html": [
              "<div>\n",
              "<style scoped>\n",
              "    .dataframe tbody tr th:only-of-type {\n",
              "        vertical-align: middle;\n",
              "    }\n",
              "\n",
              "    .dataframe tbody tr th {\n",
              "        vertical-align: top;\n",
              "    }\n",
              "\n",
              "    .dataframe thead th {\n",
              "        text-align: right;\n",
              "    }\n",
              "</style>\n",
              "<table border=\"1\" class=\"dataframe\">\n",
              "  <thead>\n",
              "    <tr style=\"text-align: right;\">\n",
              "      <th></th>\n",
              "      <th>Postal Code</th>\n",
              "      <th>Borough</th>\n",
              "      <th>Neighborhood</th>\n",
              "      <th>latitude</th>\n",
              "      <th>longitude</th>\n",
              "    </tr>\n",
              "  </thead>\n",
              "  <tbody>\n",
              "    <tr>\n",
              "      <th>0</th>\n",
              "      <td>M3A</td>\n",
              "      <td>North York</td>\n",
              "      <td>Parkwoods</td>\n",
              "      <td>None</td>\n",
              "      <td>None</td>\n",
              "    </tr>\n",
              "    <tr>\n",
              "      <th>1</th>\n",
              "      <td>M4A</td>\n",
              "      <td>North York</td>\n",
              "      <td>Victoria Village</td>\n",
              "      <td>None</td>\n",
              "      <td>None</td>\n",
              "    </tr>\n",
              "    <tr>\n",
              "      <th>2</th>\n",
              "      <td>M5A</td>\n",
              "      <td>Downtown Toronto</td>\n",
              "      <td>Regent Park / Harbourfront</td>\n",
              "      <td>None</td>\n",
              "      <td>None</td>\n",
              "    </tr>\n",
              "    <tr>\n",
              "      <th>3</th>\n",
              "      <td>M6A</td>\n",
              "      <td>North York</td>\n",
              "      <td>Lawrence Manor / Lawrence Heights</td>\n",
              "      <td>None</td>\n",
              "      <td>None</td>\n",
              "    </tr>\n",
              "    <tr>\n",
              "      <th>4</th>\n",
              "      <td>M7A</td>\n",
              "      <td>Downtown Toronto</td>\n",
              "      <td>Queen's Park / Ontario Provincial Government</td>\n",
              "      <td>None</td>\n",
              "      <td>None</td>\n",
              "    </tr>\n",
              "  </tbody>\n",
              "</table>\n",
              "</div>"
            ],
            "text/plain": [
              "  Postal Code           Borough  ... latitude longitude\n",
              "0         M3A        North York  ...     None      None\n",
              "1         M4A        North York  ...     None      None\n",
              "2         M5A  Downtown Toronto  ...     None      None\n",
              "3         M6A        North York  ...     None      None\n",
              "4         M7A  Downtown Toronto  ...     None      None\n",
              "\n",
              "[5 rows x 5 columns]"
            ]
          },
          "metadata": {
            "tags": []
          },
          "execution_count": 14
        }
      ]
    },
    {
      "cell_type": "code",
      "metadata": {
        "id": "vSfrPBagHEvZ",
        "colab_type": "code",
        "colab": {}
      },
      "source": [
        "for i in range(len(df)):\n",
        "  address = df.iloc[i,1]+' , Toronto, Ontario'\n",
        "  geolocator = Nominatim(user_agent=\"ny_explorer\")\n",
        "  location = geolocator.geocode(address)\n",
        "  latitude = location.latitude\n",
        "  longitude = location.longitude\n",
        "  df.iloc[i,3] = latitude\n",
        "  df.iloc[i,4] = longitude"
      ],
      "execution_count": 0,
      "outputs": []
    },
    {
      "cell_type": "code",
      "metadata": {
        "id": "tlynBsh2Hh1T",
        "colab_type": "code",
        "outputId": "4acf78a4-4307-4ac5-88ca-240300b6eb90",
        "colab": {
          "base_uri": "https://localhost:8080/",
          "height": 197
        }
      },
      "source": [
        "df.head()"
      ],
      "execution_count": 0,
      "outputs": [
        {
          "output_type": "execute_result",
          "data": {
            "text/html": [
              "<div>\n",
              "<style scoped>\n",
              "    .dataframe tbody tr th:only-of-type {\n",
              "        vertical-align: middle;\n",
              "    }\n",
              "\n",
              "    .dataframe tbody tr th {\n",
              "        vertical-align: top;\n",
              "    }\n",
              "\n",
              "    .dataframe thead th {\n",
              "        text-align: right;\n",
              "    }\n",
              "</style>\n",
              "<table border=\"1\" class=\"dataframe\">\n",
              "  <thead>\n",
              "    <tr style=\"text-align: right;\">\n",
              "      <th></th>\n",
              "      <th>Postal Code</th>\n",
              "      <th>Borough</th>\n",
              "      <th>Neighborhood</th>\n",
              "      <th>latitude</th>\n",
              "      <th>longitude</th>\n",
              "    </tr>\n",
              "  </thead>\n",
              "  <tbody>\n",
              "    <tr>\n",
              "      <th>0</th>\n",
              "      <td>M3A</td>\n",
              "      <td>North York</td>\n",
              "      <td>Parkwoods</td>\n",
              "      <td>43.7543</td>\n",
              "      <td>-79.4491</td>\n",
              "    </tr>\n",
              "    <tr>\n",
              "      <th>1</th>\n",
              "      <td>M4A</td>\n",
              "      <td>North York</td>\n",
              "      <td>Victoria Village</td>\n",
              "      <td>43.7543</td>\n",
              "      <td>-79.4491</td>\n",
              "    </tr>\n",
              "    <tr>\n",
              "      <th>2</th>\n",
              "      <td>M5A</td>\n",
              "      <td>Downtown Toronto</td>\n",
              "      <td>Regent Park / Harbourfront</td>\n",
              "      <td>43.6563</td>\n",
              "      <td>-79.3809</td>\n",
              "    </tr>\n",
              "    <tr>\n",
              "      <th>3</th>\n",
              "      <td>M6A</td>\n",
              "      <td>North York</td>\n",
              "      <td>Lawrence Manor / Lawrence Heights</td>\n",
              "      <td>43.7543</td>\n",
              "      <td>-79.4491</td>\n",
              "    </tr>\n",
              "    <tr>\n",
              "      <th>4</th>\n",
              "      <td>M7A</td>\n",
              "      <td>Downtown Toronto</td>\n",
              "      <td>Queen's Park / Ontario Provincial Government</td>\n",
              "      <td>43.6563</td>\n",
              "      <td>-79.3809</td>\n",
              "    </tr>\n",
              "  </tbody>\n",
              "</table>\n",
              "</div>"
            ],
            "text/plain": [
              "  Postal Code           Borough  ... latitude longitude\n",
              "0         M3A        North York  ...  43.7543  -79.4491\n",
              "1         M4A        North York  ...  43.7543  -79.4491\n",
              "2         M5A  Downtown Toronto  ...  43.6563  -79.3809\n",
              "3         M6A        North York  ...  43.7543  -79.4491\n",
              "4         M7A  Downtown Toronto  ...  43.6563  -79.3809\n",
              "\n",
              "[5 rows x 5 columns]"
            ]
          },
          "metadata": {
            "tags": []
          },
          "execution_count": 16
        }
      ]
    },
    {
      "cell_type": "code",
      "metadata": {
        "id": "oJfb9RkHLYrh",
        "colab_type": "code",
        "outputId": "74ef0f61-b879-4aaf-cdfc-ab5dc02797ca",
        "colab": {
          "base_uri": "https://localhost:8080/",
          "height": 33
        }
      },
      "source": [
        "#Different method of getting coordinates\n",
        "'''import sys\n",
        "!{sys.executable} -m pip install geocoder\n",
        "import geocoder\n",
        "from geopy.geocoders import arcgis as arcgis'''"
      ],
      "execution_count": 0,
      "outputs": [
        {
          "output_type": "execute_result",
          "data": {
            "text/plain": [
              "'import sys\\n!{sys.executable} -m pip install geocoder\\nimport geocoder\\nfrom geopy.geocoders import arcgis as arcgis'"
            ]
          },
          "metadata": {
            "tags": []
          },
          "execution_count": 17
        }
      ]
    },
    {
      "cell_type": "code",
      "metadata": {
        "id": "0CSk9JBNKq2X",
        "colab_type": "code",
        "outputId": "f0002026-5425-42eb-8e9a-552df6282482",
        "colab": {
          "base_uri": "https://localhost:8080/",
          "height": 33
        }
      },
      "source": [
        "'''code = 'M5A'\n",
        "g = geocoder.arcgis('{}, Toronto, Ontario'.format(code))\n",
        "lat_lng_coords = g.latlng\n",
        "lat_lng_coords'''"
      ],
      "execution_count": 0,
      "outputs": [
        {
          "output_type": "execute_result",
          "data": {
            "text/plain": [
              "\"code = 'M5A'\\ng = geocoder.arcgis('{}, Toronto, Ontario'.format(code))\\nlat_lng_coords = g.latlng\\nlat_lng_coords\""
            ]
          },
          "metadata": {
            "tags": []
          },
          "execution_count": 18
        }
      ]
    },
    {
      "cell_type": "code",
      "metadata": {
        "id": "CyGCahVGLKny",
        "colab_type": "code",
        "outputId": "05754be5-f0de-445a-a3a4-74baa5d5506a",
        "colab": {
          "base_uri": "https://localhost:8080/",
          "height": 33
        }
      },
      "source": [
        "df.shape"
      ],
      "execution_count": 0,
      "outputs": [
        {
          "output_type": "execute_result",
          "data": {
            "text/plain": [
              "(103, 5)"
            ]
          },
          "metadata": {
            "tags": []
          },
          "execution_count": 19
        }
      ]
    },
    {
      "cell_type": "code",
      "metadata": {
        "id": "vVjSsVOlMlNp",
        "colab_type": "code",
        "outputId": "dd04a69e-a4b1-4708-cf27-5c5cc3711c27",
        "colab": {
          "base_uri": "https://localhost:8080/",
          "height": 33
        }
      },
      "source": [
        "print('Dataframe has {} Borough and {} neighborhood.'.format(len(df.Borough.unique()),df.shape[0]))"
      ],
      "execution_count": 0,
      "outputs": [
        {
          "output_type": "stream",
          "text": [
            "Dataframe has 10 Borough and 103 neighborhood.\n"
          ],
          "name": "stdout"
        }
      ]
    },
    {
      "cell_type": "markdown",
      "metadata": {
        "id": "Lz9QaQfk7Wpp",
        "colab_type": "text"
      },
      "source": [
        "###Using geopy library to visualize the place after getting cordinates"
      ]
    },
    {
      "cell_type": "code",
      "metadata": {
        "id": "z9b_D4R77QMB",
        "colab_type": "code",
        "outputId": "63c3e366-89ea-4423-8728-a53d458e4ae0",
        "colab": {
          "base_uri": "https://localhost:8080/",
          "height": 33
        }
      },
      "source": [
        "address = 'Toronto, Canada'\n",
        "\n",
        "geolocator = Nominatim(user_agent=\"can_explorer\")\n",
        "location = geolocator.geocode(address)\n",
        "latitude = location.latitude\n",
        "longitude = location.longitude\n",
        "print('The geograpical coordinate of Toronto are {}, {}.'.format(latitude, longitude))"
      ],
      "execution_count": 0,
      "outputs": [
        {
          "output_type": "stream",
          "text": [
            "The geograpical coordinate of Toronto are 43.6534817, -79.3839347.\n"
          ],
          "name": "stdout"
        }
      ]
    },
    {
      "cell_type": "code",
      "metadata": {
        "id": "DL52wQWN6Sk0",
        "colab_type": "code",
        "outputId": "028b4b65-d2c6-4d57-9461-9dac9e1ed8a4",
        "colab": {
          "base_uri": "https://localhost:8080/",
          "height": 904
        }
      },
      "source": [
        "map_toronto = folium.Map(location=[latitude, longitude], zoom_start=11)\n",
        "\n",
        "for lat, lng, borough, neighborhood in zip(df['latitude'], df['longitude'], df['Borough'], df['Neighborhood']):\n",
        "    label = '{}, {}'.format(neighborhood, borough)\n",
        "    label = folium.Popup(label, parse_html=True)\n",
        "    folium.CircleMarker(\n",
        "        [lat, lng],\n",
        "        radius=5,\n",
        "        popup=label,\n",
        "        color='blue',\n",
        "        fill=True,\n",
        "        fill_color='#3186cc',\n",
        "        fill_opacity=0.7,\n",
        "        parse_html=False).add_to(map_toronto)  \n",
        "    \n",
        "map_toronto"
      ],
      "execution_count": 0,
      "outputs": [
        {
          "output_type": "execute_result",
          "data": {
            "text/html": [
              "<div style=\"width:100%;\"><div style=\"position:relative;width:100%;height:0;padding-bottom:60%;\"><iframe src=\"about:blank\" style=\"position:absolute;width:100%;height:100%;left:0;top:0;border:none !important;\" data-html=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 onload=\"this.contentDocument.open();this.contentDocument.write(atob(this.getAttribute('data-html')));this.contentDocument.close();\" allowfullscreen webkitallowfullscreen mozallowfullscreen></iframe></div></div>"
            ],
            "text/plain": [
              "<folium.folium.Map at 0x7fee6b7ac550>"
            ]
          },
          "metadata": {
            "tags": []
          },
          "execution_count": 22
        }
      ]
    },
    {
      "cell_type": "code",
      "metadata": {
        "id": "TGFzfmbXL0_D",
        "colab_type": "code",
        "colab": {
          "base_uri": "https://localhost:8080/",
          "height": 33
        },
        "outputId": "ed22d9b0-d9cb-4559-b51f-bced3626750d"
      },
      "source": [
        "print('Map of Toronto, Canada is created')"
      ],
      "execution_count": 2,
      "outputs": [
        {
          "output_type": "stream",
          "text": [
            "Map of Toronto, Canada is created\n"
          ],
          "name": "stdout"
        }
      ]
    },
    {
      "cell_type": "code",
      "metadata": {
        "id": "GtqCfa8b14P8",
        "colab_type": "code",
        "colab": {}
      },
      "source": [
        ""
      ],
      "execution_count": 0,
      "outputs": []
    }
  ]
}