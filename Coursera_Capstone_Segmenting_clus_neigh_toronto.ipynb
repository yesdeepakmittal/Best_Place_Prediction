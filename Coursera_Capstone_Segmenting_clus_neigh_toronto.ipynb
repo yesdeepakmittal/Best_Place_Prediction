{
  "nbformat": 4,
  "nbformat_minor": 0,
  "metadata": {
    "colab": {
      "name": "Coursera_Capstone_Segmenting_clus_neigh_toronto",
      "provenance": [],
      "authorship_tag": "ABX9TyOWuX0LdQIDv22VTzixC3S3",
      "include_colab_link": true
    },
    "kernelspec": {
      "name": "python3",
      "display_name": "Python 3"
    }
  },
  "cells": [
    {
      "cell_type": "markdown",
      "metadata": {
        "id": "view-in-github",
        "colab_type": "text"
      },
      "source": [
        "<a href=\"https://colab.research.google.com/github/yesdeepakmittal/Coursera_Capstone/blob/master/Coursera_Capstone_Segmenting_clus_neigh_toronto.ipynb\" target=\"_parent\"><img src=\"https://colab.research.google.com/assets/colab-badge.svg\" alt=\"Open In Colab\"/></a>"
      ]
    },
    {
      "cell_type": "markdown",
      "metadata": {
        "id": "dg0bTI-Y9yhY",
        "colab_type": "text"
      },
      "source": [
        "This notebook is part of one of the assignment of capstone of Coursera course 'Professional Data Science Certificate'"
      ]
    },
    {
      "cell_type": "code",
      "metadata": {
        "id": "SNkjr9es-BFt",
        "colab_type": "code",
        "colab": {}
      },
      "source": [
        "import urllib.request,urllib.parse,urllib.error\n",
        "from bs4 import BeautifulSoup\n",
        "import ssl\n",
        "import requests\n",
        "import lxml.html as lh\n",
        "import pandas as pd"
      ],
      "execution_count": 0,
      "outputs": []
    },
    {
      "cell_type": "code",
      "metadata": {
        "id": "FU3SREML-1W3",
        "colab_type": "code",
        "colab": {}
      },
      "source": [
        "ctx = ssl.create_default_context()\n",
        "ctx.check_hostname = False\n",
        "ctx.verify_mode = ssl.CERT_NONE"
      ],
      "execution_count": 0,
      "outputs": []
    },
    {
      "cell_type": "code",
      "metadata": {
        "id": "bYrXxHW6-76u",
        "colab_type": "code",
        "colab": {
          "base_uri": "https://localhost:8080/",
          "height": 33
        },
        "outputId": "f0a418ab-6576-4ea4-9cbd-1a29aab354f6"
      },
      "source": [
        "#html = urllib.request.urlopen(url,context = ctx).read()\n",
        "#soup = BeautifulSoup(html,'lxml')\n",
        "\n",
        "#Retrieve all anchor tags\n",
        "#tags = soup.find('tr')\n",
        "#for tag in tags:\n",
        "#  print(tag.get('//tr',None))"
      ],
      "execution_count": 13,
      "outputs": [
        {
          "output_type": "stream",
          "text": [
            "Enter = https://en.wikipedia.org/wiki/List_of_postal_codes_of_Canada:_M\n"
          ],
          "name": "stdout"
        }
      ]
    },
    {
      "cell_type": "code",
      "metadata": {
        "id": "xjg3N5F6CPzy",
        "colab_type": "code",
        "colab": {
          "base_uri": "https://localhost:8080/",
          "height": 53
        },
        "outputId": "603778fb-0c0b-46ab-e1fc-c615b81eb070"
      },
      "source": [
        "#soup.get_text()"
      ],
      "execution_count": 12,
      "outputs": [
        {
          "output_type": "execute_result",
          "data": {
            "text/plain": [
              "'\\n\\n\\n\\n\\nList of postal codes of Canada: M - Wikipedia\\ndocument.documentElement.className=\"client-js\";RLCONF={\"wgBreakFrames\":!1,\"wgSeparatorTransformTable\":[\"\",\"\"],\"wgDigitTransformTable\":[\"\",\"\"],\"wgDefaultDateFormat\":\"dmy\",\"wgMonthNames\":[\"\",\"January\",\"February\",\"March\",\"April\",\"May\",\"June\",\"July\",\"August\",\"September\",\"October\",\"November\",\"December\"],\"wgRequestId\":\"XptIjwpAICAAABWenZ0AAABI\",\"wgCSPNonce\":!1,\"wgCanonicalNamespace\":\"\",\"wgCanonicalSpecialPageName\":!1,\"wgNamespaceNumber\":0,\"wgPageName\":\"List_of_postal_codes_of_Canada:_M\",\"wgTitle\":\"List of postal codes of Canada: M\",\"wgCurRevisionId\":951325562,\"wgRevisionId\":951325562,\"wgArticleId\":539066,\"wgIsArticle\":!0,\"wgIsRedirect\":!1,\"wgAction\":\"view\",\"wgUserName\":null,\"wgUserGroups\":[\"*\"],\"wgCategories\":[\"Articles with short description\",\"Communications in Ontario\",\"Postal codes in Canada\",\"Toronto\",\"Ontario-related lists\"],\"wgPageContentLanguage\":\"en\",\"wgPageContentModel\":\"wikitext\",\"wgRelevantPageName\":\"List_of_postal_codes_of_Canada:_M\",\"wgRelevantArticleId\":539066,\\n\"wgIsProbablyEditable\":!0,\"wgRelevantPageIsProbablyEditable\":!0,\"wgRestrictionEdit\":[],\"wgRestrictionMove\":[],\"wgMediaViewerOnClick\":!0,\"wgMediaViewerEnabledByDefault\":!0,\"wgPopupsReferencePreviews\":!1,\"wgPopupsConflictsWithNavPopupGadget\":!1,\"wgVisualEditor\":{\"pageLanguageCode\":\"en\",\"pageLanguageDir\":\"ltr\",\"pageVariantFallbacks\":\"en\"},\"wgMFDisplayWikibaseDescriptions\":{\"search\":!0,\"nearby\":!0,\"watchlist\":!0,\"tagline\":!1},\"wgWMESchemaEditAttemptStepOversample\":!1,\"wgULSCurrentAutonym\":\"English\",\"wgNoticeProject\":\"wikipedia\",\"wgWikibaseItemId\":\"Q3248240\",\"wgCentralAuthMobileDomain\":!1,\"wgEditSubmitButtonLabelPublish\":!0};RLSTATE={\"ext.globalCssJs.user.styles\":\"ready\",\"site.styles\":\"ready\",\"noscript\":\"ready\",\"user.styles\":\"ready\",\"ext.globalCssJs.user\":\"ready\",\"user\":\"ready\",\"user.options\":\"loading\",\"ext.cite.styles\":\"ready\",\"jquery.tablesorter.styles\":\"ready\",\"skins.vector.styles.legacy\":\"ready\",\"wikibase.client.init\":\"ready\",\\n\"ext.visualEditor.desktopArticleTarget.noscript\":\"ready\",\"ext.uls.interlanguage\":\"ready\",\"ext.wikimediaBadges\":\"ready\"};RLPAGEMODULES=[\"ext.cite.ux-enhancements\",\"site\",\"mediawiki.page.startup\",\"skins.vector.js\",\"mediawiki.page.ready\",\"jquery.tablesorter\",\"ext.gadget.ReferenceTooltips\",\"ext.gadget.charinsert\",\"ext.gadget.refToolbar\",\"ext.gadget.extra-toolbar-buttons\",\"ext.gadget.switcher\",\"ext.centralauth.centralautologin\",\"mmv.head\",\"mmv.bootstrap.autostart\",\"ext.popups\",\"ext.visualEditor.desktopArticleTarget.init\",\"ext.visualEditor.targetLoader\",\"ext.eventLogging\",\"ext.wikimediaEvents\",\"ext.navigationTiming\",\"ext.uls.compactlinks\",\"ext.uls.interface\",\"ext.cx.eventlogging.campaigns\",\"ext.quicksurveys.init\",\"ext.centralNotice.geoIP\",\"ext.centralNotice.startUp\"];\\n(RLQ=window.RLQ||[]).push(function(){mw.loader.implement(\"user.options@1hzgi\",function($,jQuery,require,module){/*@nomin*/mw.user.tokens.set({\"patrolToken\":\"+\\\\\\\\\",\"watchToken\":\"+\\\\\\\\\",\"csrfToken\":\"+\\\\\\\\\"});\\n});});\\n\\n\\n\\n\\n\\n\\n\\n\\n\\n\\n\\n\\n\\n\\n\\n\\n\\n\\n\\n\\n\\n\\n\\n\\n\\n\\n\\n\\n\\nList of postal codes of Canada: M\\n\\nFrom Wikipedia, the free encyclopedia\\n\\n\\nJump to navigation\\nJump to search\\nWikipedia list article\\nThis is a list of postal codes in Canada where the first letter is M. Postal codes beginning with M are located within the city of Toronto in the province of Ontario. Only the first three characters are listed, corresponding to the Forward Sortation Area.\\nCanada Post provides a free postal code look-up tool on its website,[1] via its applications for such smartphones as the iPhone and BlackBerry,[2]  and sells hard-copy directories and CD-ROMs. Many vendors also sell validation tools, which allow customers to properly match addresses and postal codes. Hard-copy directories can also be consulted in all post offices, and some libraries.\\n\\nToronto - 103 FSAs[edit]\\nNote: There are no rural FSAs in Toronto, hence no postal codes should start with M0, however, the postal code M0R 8T0 is assigned to an Amazon warehouse in Mississauga, suggesting that Canada Post may be allocating the M0 FSA for high volume addresses.\\n\\n\\n\\nPostal code\\n\\nBorough\\n\\nNeighborhood\\n\\n\\nM1A\\n\\nNot assigned\\n\\n\\n\\n\\nM2A\\n\\nNot assigned\\n\\n\\n\\n\\nM3A\\n\\nNorth York\\n\\nParkwoods\\n\\n\\nM4A\\n\\nNorth York\\n\\nVictoria Village\\n\\n\\nM5A\\n\\nDowntown Toronto\\n\\nRegent Park / Harbourfront\\n\\n\\nM6A\\n\\nNorth York\\n\\nLawrence Manor / Lawrence Heights\\n\\n\\nM7A\\n\\nDowntown Toronto\\n\\nQueen\\'s Park / Ontario Provincial Government\\n\\n\\nM8A\\n\\nNot assigned\\n\\n\\n\\n\\nM9A\\n\\nEtobicoke\\n\\nIslington Avenue\\n\\n\\nM1B\\n\\nScarborough\\n\\nMalvern / Rouge\\n\\n\\nM2B\\n\\nNot assigned\\n\\n\\n\\n\\nM3B\\n\\nNorth York\\n\\nDon Mills\\n\\n\\nM4B\\n\\nEast York\\n\\nParkview Hill / Woodbine Gardens\\n\\n\\nM5B\\n\\nDowntown Toronto\\n\\nGarden District, Ryerson\\n\\n\\nM6B\\n\\nNorth York\\n\\nGlencairn\\n\\n\\nM7B\\n\\nNot assigned\\n\\n\\n\\n\\nM8B\\n\\nNot assigned\\n\\n\\n\\n\\nM9B\\n\\nEtobicoke\\n\\nWest Deane Park / Princess Gardens / Martin Grove / Islington / Cloverdale\\n\\n\\nM1C\\n\\nScarborough\\n\\nRouge Hill / Port Union / Highland Creek\\n\\n\\nM2C\\n\\nNot assigned\\n\\n\\n\\n\\nM3C\\n\\nNorth York\\n\\nDon Mills\\n\\n\\nM4C\\n\\nEast York\\n\\nWoodbine Heights\\n\\n\\nM5C\\n\\nDowntown Toronto\\n\\nSt. James Town\\n\\n\\nM6C\\n\\nYork\\n\\nHumewood-Cedarvale\\n\\n\\nM7C\\n\\nNot assigned\\n\\n\\n\\n\\nM8C\\n\\nNot assigned\\n\\n\\n\\n\\nM9C\\n\\nEtobicoke\\n\\nEringate / Bloordale Gardens / Old Burnhamthorpe / Markland Wood\\n\\n\\nM1E\\n\\nScarborough\\n\\nGuildwood / Morningside / West Hill\\n\\n\\nM2E\\n\\nNot assigned\\n\\n\\n\\n\\nM3E\\n\\nNot assigned\\n\\n\\n\\n\\nM4E\\n\\nEast Toronto\\n\\nThe Beaches\\n\\n\\nM5E\\n\\nDowntown Toronto\\n\\nBerczy Park\\n\\n\\nM6E\\n\\nYork\\n\\nCaledonia-Fairbanks\\n\\n\\nM7E\\n\\nNot assigned\\n\\n\\n\\n\\nM8E\\n\\nNot assigned\\n\\n\\n\\n\\nM9E\\n\\nNot assigned\\n\\n\\n\\n\\nM1G\\n\\nScarborough\\n\\nWoburn\\n\\n\\nM2G\\n\\nNot assigned\\n\\n\\n\\n\\nM3G\\n\\nNot assigned\\n\\n\\n\\n\\nM4G\\n\\nEast York\\n\\nLeaside\\n\\n\\nM5G\\n\\nDowntown Toronto\\n\\nCentral Bay Street\\n\\n\\nM6G\\n\\nDowntown Toronto\\n\\nChristie\\n\\n\\nM7G\\n\\nNot assigned\\n\\n\\n\\n\\nM8G\\n\\nNot assigned\\n\\n\\n\\n\\nM9G\\n\\nNot assigned\\n\\n\\n\\n\\nM1H\\n\\nScarborough\\n\\nCedarbrae\\n\\n\\nM2H\\n\\nNorth York\\n\\nHillcrest Village\\n\\n\\nM3H\\n\\nNorth York\\n\\nBathurst Manor / Wilson Heights / Downsview North\\n\\n\\nM4H\\n\\nEast York\\n\\nThorncliffe Park\\n\\n\\nM5H\\n\\nDowntown Toronto\\n\\nRichmond / Adelaide / King\\n\\n\\nM6H\\n\\nWest Toronto\\n\\nDufferin / Dovercourt Village\\n\\n\\nM7H\\n\\nNot assigned\\n\\n\\n\\n\\nM8H\\n\\nNot assigned\\n\\n\\n\\n\\nM9H\\n\\nNot assigned\\n\\n\\n\\n\\nM1J\\n\\nScarborough\\n\\nScarborough Village\\n\\n\\nM2J\\n\\nNorth York\\n\\nFairview / Henry Farm / Oriole\\n\\n\\nM3J\\n\\nNorth York\\n\\nNorthwood Park / York University\\n\\n\\nM4J\\n\\nEast York\\n\\nEast Toronto\\n\\n\\nM5J\\n\\nDowntown Toronto\\n\\nHarbourfront East / Union Station / Toronto Islands\\n\\n\\nM6J\\n\\nWest Toronto\\n\\nLittle Portugal / Trinity\\n\\n\\nM7J\\n\\nNot assigned\\n\\n\\n\\n\\nM8J\\n\\nNot assigned\\n\\n\\n\\n\\nM9J\\n\\nNot assigned\\n\\n\\n\\n\\nM1K\\n\\nScarborough\\n\\nKennedy Park / Ionview / East Birchmount Park\\n\\n\\nM2K\\n\\nNorth York\\n\\nBayview Village\\n\\n\\nM3K\\n\\nNorth York\\n\\nDownsview\\n\\n\\nM4K\\n\\nEast Toronto\\n\\nThe Danforth West / Riverdale\\n\\n\\nM5K\\n\\nDowntown Toronto\\n\\nToronto Dominion Centre / Design Exchange\\n\\n\\nM6K\\n\\nWest Toronto\\n\\nBrockton / Parkdale Village / Exhibition Place\\n\\n\\nM7K\\n\\nNot assigned\\n\\n\\n\\n\\nM8K\\n\\nNot assigned\\n\\n\\n\\n\\nM9K\\n\\nNot assigned\\n\\n\\n\\n\\nM1L\\n\\nScarborough\\n\\nGolden Mile / Clairlea / Oakridge\\n\\n\\nM2L\\n\\nNorth York\\n\\nYork Mills / Silver Hills\\n\\n\\nM3L\\n\\nNorth York\\n\\nDownsview\\n\\n\\nM4L\\n\\nEast Toronto\\n\\nIndia Bazaar / The Beaches West\\n\\n\\nM5L\\n\\nDowntown Toronto\\n\\nCommerce Court / Victoria Hotel\\n\\n\\nM6L\\n\\nNorth York\\n\\nNorth Park / Maple Leaf Park / Upwood Park\\n\\n\\nM7L\\n\\nNot assigned\\n\\n\\n\\n\\nM8L\\n\\nNot assigned\\n\\n\\n\\n\\nM9L\\n\\nNorth York\\n\\nHumber Summit\\n\\n\\nM1M\\n\\nScarborough\\n\\nCliffside / Cliffcrest / Scarborough Village West\\n\\n\\nM2M\\n\\nNorth York\\n\\nWillowdale / Newtonbrook\\n\\n\\nM3M\\n\\nNorth York\\n\\nDownsview\\n\\n\\nM4M\\n\\nEast Toronto\\n\\nStudio District\\n\\n\\nM5M\\n\\nNorth York\\n\\nBedford Park / Lawrence Manor East\\n\\n\\nM6M\\n\\nYork\\n\\nDel Ray / Mount Dennis / Keelsdale and Silverthorn\\n\\n\\nM7M\\n\\nNot assigned\\n\\n\\n\\n\\nM8M\\n\\nNot assigned\\n\\n\\n\\n\\nM9M\\n\\nNorth York\\n\\nHumberlea / Emery\\n\\n\\nM1N\\n\\nScarborough\\n\\nBirch Cliff / Cliffside West\\n\\n\\nM2N\\n\\nNorth York\\n\\nWillowdale\\n\\n\\nM3N\\n\\nNorth York\\n\\nDownsview\\n\\n\\nM4N\\n\\nCentral Toronto\\n\\nLawrence Park\\n\\n\\nM5N\\n\\nCentral Toronto\\n\\nRoselawn\\n\\n\\nM6N\\n\\nYork\\n\\nRunnymede / The Junction North\\n\\n\\nM7N\\n\\nNot assigned\\n\\n\\n\\n\\nM8N\\n\\nNot assigned\\n\\n\\n\\n\\nM9N\\n\\nYork\\n\\nWeston\\n\\n\\nM1P\\n\\nScarborough\\n\\nDorset Park / Wexford Heights / Scarborough Town Centre\\n\\n\\nM2P\\n\\nNorth York\\n\\nYork Mills West\\n\\n\\nM3P\\n\\nNot assigned\\n\\n\\n\\n\\nM4P\\n\\nCentral Toronto\\n\\nDavisville North\\n\\n\\nM5P\\n\\nCentral Toronto\\n\\nForest Hill North & West\\n\\n\\nM6P\\n\\nWest Toronto\\n\\nHigh Park / The Junction South\\n\\n\\nM7P\\n\\nNot assigned\\n\\n\\n\\n\\nM8P\\n\\nNot assigned\\n\\n\\n\\n\\nM9P\\n\\nEtobicoke\\n\\nWestmount\\n\\n\\nM1R\\n\\nScarborough\\n\\nWexford / Maryvale\\n\\n\\nM2R\\n\\nNorth York\\n\\nWillowdale\\n\\n\\nM3R\\n\\nNot assigned\\n\\n\\n\\n\\nM4R\\n\\nCentral Toronto\\n\\nNorth Toronto West\\n\\n\\nM5R\\n\\nCentral Toronto\\n\\nThe Annex / North Midtown / Yorkville\\n\\n\\nM6R\\n\\nWest Toronto\\n\\nParkdale / Roncesvalles\\n\\n\\nM7R\\n\\nMississauga\\n\\nCanada Post Gateway Processing Centre\\n\\n\\nM8R\\n\\nNot assigned\\n\\n\\n\\n\\nM9R\\n\\nEtobicoke\\n\\nKingsview Village / St. Phillips / Martin Grove Gardens / Richview Gardens\\n\\n\\nM1S\\n\\nScarborough\\n\\nAgincourt\\n\\n\\nM2S\\n\\nNot assigned\\n\\n\\n\\n\\nM3S\\n\\nNot assigned\\n\\n\\n\\n\\nM4S\\n\\nCentral Toronto\\n\\nDavisville\\n\\n\\nM5S\\n\\nDowntown Toronto\\n\\nUniversity of Toronto / Harbord\\n\\n\\nM6S\\n\\nWest Toronto\\n\\nRunnymede / Swansea\\n\\n\\nM7S\\n\\nNot assigned\\n\\n\\n\\n\\nM8S\\n\\nNot assigned\\n\\n\\n\\n\\nM9S\\n\\nNot assigned\\n\\n\\n\\n\\nM1T\\n\\nScarborough\\n\\nClarks Corners / Tam O\\'Shanter / Sullivan\\n\\n\\nM2T\\n\\nNot assigned\\n\\n\\n\\n\\nM3T\\n\\nNot assigned\\n\\n\\n\\n\\nM4T\\n\\nCentral Toronto\\n\\nMoore Park / Summerhill East\\n\\n\\nM5T\\n\\nDowntown Toronto\\n\\nKensington Market / Chinatown / Grange Park\\n\\n\\nM6T\\n\\nNot assigned\\n\\n\\n\\n\\nM7T\\n\\nNot assigned\\n\\n\\n\\n\\nM8T\\n\\nNot assigned\\n\\n\\n\\n\\nM9T\\n\\nNot assigned\\n\\n\\n\\n\\nM1V\\n\\nScarborough\\n\\nMilliken / Agincourt North / Steeles East / L\\'Amoreaux East\\n\\n\\nM2V\\n\\nNot assigned\\n\\n\\n\\n\\nM3V\\n\\nNot assigned\\n\\n\\n\\n\\nM4V\\n\\nCentral Toronto\\n\\nSummerhill West / Rathnelly / South Hill / Forest Hill SE / Deer Park\\n\\n\\nM5V\\n\\nDowntown Toronto\\n\\nCN Tower / King and Spadina / Railway Lands / Harbourfront West / Bathurst Quay / South Niagara / Island airport\\n\\n\\nM6V\\n\\nNot assigned\\n\\n\\n\\n\\nM7V\\n\\nNot assigned\\n\\n\\n\\n\\nM8V\\n\\nEtobicoke\\n\\nNew Toronto / Mimico South / Humber Bay Shores\\n\\n\\nM9V\\n\\nEtobicoke\\n\\nSouth Steeles / Silverstone / Humbergate / Jamestown / Mount Olive / Beaumond Heights / Thistletown / Albion Gardens\\n\\n\\nM1W\\n\\nScarborough\\n\\nSteeles West / L\\'Amoreaux West\\n\\n\\nM2W\\n\\nNot assigned\\n\\n\\n\\n\\nM3W\\n\\nNot assigned\\n\\n\\n\\n\\nM4W\\n\\nDowntown Toronto\\n\\nRosedale\\n\\n\\nM5W\\n\\nDowntown Toronto\\n\\nStn A PO Boxes\\n\\n\\nM6W\\n\\nNot assigned\\n\\n\\n\\n\\nM7W\\n\\nNot assigned\\n\\n\\n\\n\\nM8W\\n\\nEtobicoke\\n\\nAlderwood / Long Branch\\n\\n\\nM9W\\n\\nEtobicoke\\n\\nNorthwest\\n\\n\\nM1X\\n\\nScarborough\\n\\nUpper Rouge\\n\\n\\nM2X\\n\\nNot assigned\\n\\n\\n\\n\\nM3X\\n\\nNot assigned\\n\\n\\n\\n\\nM4X\\n\\nDowntown Toronto\\n\\nSt. James Town / Cabbagetown\\n\\n\\nM5X\\n\\nDowntown Toronto\\n\\nFirst Canadian Place / Underground city\\n\\n\\nM6X\\n\\nNot assigned\\n\\n\\n\\n\\nM7X\\n\\nNot assigned\\n\\n\\n\\n\\nM8X\\n\\nEtobicoke\\n\\nThe Kingsway / Montgomery Road  / Old Mill North\\n\\n\\nM9X\\n\\nNot assigned\\n\\n\\n\\n\\nM1Y\\n\\nNot assigned\\n\\n\\n\\n\\nM2Y\\n\\nNot assigned\\n\\n\\n\\n\\nM3Y\\n\\nNot assigned\\n\\n\\n\\n\\nM4Y\\n\\nDowntown Toronto\\n\\nChurch and Wellesley\\n\\n\\nM5Y\\n\\nNot assigned\\n\\n\\n\\n\\nM6Y\\n\\nNot assigned\\n\\n\\n\\n\\nM7Y\\n\\nEast Toronto\\n\\nBusiness reply mail Processing CentrE\\n\\n\\nM8Y\\n\\nEtobicoke\\n\\nOld Mill South / King\\'s Mill Park / Sunnylea / Humber Bay / Mimico NE / The Queensway East / Royal York South East / Kingsway Park South East\\n\\n\\nM9Y\\n\\nNot assigned\\n\\n\\n\\n\\nM1Z\\n\\nNot assigned\\n\\n\\n\\n\\nM2Z\\n\\nNot assigned\\n\\n\\n\\n\\nM3Z\\n\\nNot assigned\\n\\n\\n\\n\\nM4Z\\n\\nNot assigned\\n\\n\\n\\n\\nM5Z\\n\\nNot assigned\\n\\n\\n\\n\\nM6Z\\n\\nNot assigned\\n\\n\\n\\n\\nM7Z\\n\\nNot assigned\\n\\n\\n\\n\\nM8Z\\n\\nEtobicoke\\n\\nMimico NW / The Queensway West / South of Bloor / Kingsway Park South West / Royal York South West\\n\\n\\nM9Z\\n\\nNot assigned\\n\\n\\n\\nMost populated FSAs[3][edit]\\nM1B, 65,129http://www.rfc-editor.org/info/rfc7617\\nM2N, 60,124http://www.rfc-editor.org/info/rfc7617\\nM1V, 55,250http://www.rfc-editor.org/info/rfc7617\\nM9V, 55,159http://www.rfc-editor.org/info/rfc7617\\nM2J, 54,391http://www.rfc-editor.org/info/rfc7617\\nLeast populated FSAs[3][edit]\\nM5K, 5\\nM5L, 5\\nM5W, 5\\nM5X, 5\\nM7A, 5\\nReferences[edit]\\n\\n^ \\nCanada Post. \"Canada Post - Find a Postal Code\". Retrieved 9 November 2008..mw-parser-output cite.citation{font-style:inherit}.mw-parser-output .citation q{quotes:\"\\\\\"\"\"\\\\\"\"\"\\'\"\"\\'\"}.mw-parser-output .id-lock-free a,.mw-parser-output .citation .cs1-lock-free a{background-image:url(\"//upload.wikimedia.org/wikipedia/commons/thumb/6/65/Lock-green.svg/9px-Lock-green.svg.png\");background-image:linear-gradient(transparent,transparent),url(\"//upload.wikimedia.org/wikipedia/commons/6/65/Lock-green.svg\");background-repeat:no-repeat;background-size:9px;background-position:right .1em center}.mw-parser-output .id-lock-limited a,.mw-parser-output .id-lock-registration a,.mw-parser-output .citation .cs1-lock-limited a,.mw-parser-output .citation .cs1-lock-registration a{background-image:url(\"//upload.wikimedia.org/wikipedia/commons/thumb/d/d6/Lock-gray-alt-2.svg/9px-Lock-gray-alt-2.svg.png\");background-image:linear-gradient(transparent,transparent),url(\"//upload.wikimedia.org/wikipedia/commons/d/d6/Lock-gray-alt-2.svg\");background-repeat:no-repeat;background-size:9px;background-position:right .1em center}.mw-parser-output .id-lock-subscription a,.mw-parser-output .citation .cs1-lock-subscription a{background-image:url(\"//upload.wikimedia.org/wikipedia/commons/thumb/a/aa/Lock-red-alt-2.svg/9px-Lock-red-alt-2.svg.png\");background-image:linear-gradient(transparent,transparent),url(\"//upload.wikimedia.org/wikipedia/commons/a/aa/Lock-red-alt-2.svg\");background-repeat:no-repeat;background-size:9px;background-position:right .1em center}.mw-parser-output .cs1-subscription,.mw-parser-output .cs1-registration{color:#555}.mw-parser-output .cs1-subscription span,.mw-parser-output .cs1-registration span{border-bottom:1px dotted;cursor:help}.mw-parser-output .cs1-ws-icon a{background-image:url(\"//upload.wikimedia.org/wikipedia/commons/thumb/4/4c/Wikisource-logo.svg/12px-Wikisource-logo.svg.png\");background-image:linear-gradient(transparent,transparent),url(\"//upload.wikimedia.org/wikipedia/commons/4/4c/Wikisource-logo.svg\");background-repeat:no-repeat;background-size:12px;background-position:right .1em center}.mw-parser-output code.cs1-code{color:inherit;background:inherit;border:inherit;padding:inherit}.mw-parser-output .cs1-hidden-error{display:none;font-size:100%}.mw-parser-output .cs1-visible-error{font-size:100%}.mw-parser-output .cs1-maint{display:none;color:#33aa33;margin-left:0.3em}.mw-parser-output .cs1-subscription,.mw-parser-output .cs1-registration,.mw-parser-output .cs1-format{font-size:95%}.mw-parser-output .cs1-kern-left,.mw-parser-output .cs1-kern-wl-left{padding-left:0.2em}.mw-parser-output .cs1-kern-right,.mw-parser-output .cs1-kern-wl-right{padding-right:0.2em}.mw-parser-output .citation .mw-selflink{font-weight:inherit}\\n\\n^ \"Mobile Apps\". Canada Post. Archived from the original on 2011-05-19.\\n\\n^ a b \"2006 Census of Population\". 15 October 2008.\\n\\n\\n\\n\\n\\n\\nCanadian postal codes\\n\\n\\n\\n\\n\\n\\n\\nNL\\n\\nNS\\n\\nPE\\n\\nNB\\n\\nQC\\n\\nON\\n\\nMB\\n\\nSK\\n\\nAB\\n\\nBC\\n\\nNU/NT\\n\\nYT\\n\\n\\nA\\n\\nB\\n\\nC\\n\\nE\\n\\nG\\n\\nH\\n\\nJ\\n\\nK\\n\\nL\\n\\nM\\n\\nN\\n\\nP\\n\\nR\\n\\nS\\n\\nT\\n\\nV\\n\\nX\\n\\nY\\n\\n\\n\\n\\n\\n\\nRetrieved from \"https://en.wikipedia.org/w/index.php?title=List_of_postal_codes_of_Canada:_M&oldid=951325562\"\\nCategories: Communications in OntarioPostal codes in CanadaTorontoOntario-related listsHidden categories: Articles with short description\\n\\n\\n\\n\\n\\n\\n\\nNavigation menu\\n\\n\\nPersonal tools\\n\\nNot logged inTalkContributionsCreate accountLog in\\n\\n\\n\\n\\nNamespaces\\n\\nArticleTalk\\n\\n\\n\\n\\n\\nVariants\\n\\n\\n\\n\\n\\n\\n\\nViews\\n\\nReadEditView history\\n\\n\\n\\n\\n\\nMore\\n\\n\\n\\n\\n\\n\\nSearch\\n\\n\\n\\n\\n\\n\\n\\n\\n\\n\\n\\n\\n\\n\\n\\n\\n\\n\\n\\t\\tNavigation\\n\\t\\n\\nMain pageContentsFeatured contentCurrent eventsRandom articleDonate to WikipediaWikipedia store\\n\\n\\n\\n\\n\\t\\tInteraction\\n\\t\\n\\nHelpAbout WikipediaCommunity portalRecent changesContact page\\n\\n\\n\\n\\n\\t\\tTools\\n\\t\\n\\nWhat links hereRelated changesUpload fileSpecial pagesPermanent linkPage informationWikidata itemCite this page\\n\\n\\n\\n\\n\\t\\tPrint/export\\n\\t\\n\\nCreate a bookDownload as PDFPrintable version\\n\\n\\n\\n\\n\\t\\tLanguages\\n\\t\\n\\nFrançais\\nEdit links\\n\\n\\n\\n\\n\\n\\n This page was last edited on 16 April 2020, at 16:37\\xa0(UTC).\\nText is available under the Creative Commons Attribution-ShareAlike License;\\nadditional terms may apply.  By using this site, you agree to the Terms of Use and Privacy Policy. Wikipedia® is a registered trademark of the Wikimedia Foundation, Inc., a non-profit organization.\\n\\n\\nPrivacy policy\\nAbout Wikipedia\\nDisclaimers\\nContact Wikipedia\\nDevelopers\\nStatistics\\nCookie statement\\nMobile view\\n\\n\\n\\n\\n\\n\\n\\n(RLQ=window.RLQ||[]).push(function(){mw.config.set({\"wgPageParseReport\":{\"limitreport\":{\"cputime\":\"0.176\",\"walltime\":\"0.246\",\"ppvisitednodes\":{\"value\":251,\"limit\":1000000},\"postexpandincludesize\":{\"value\":10509,\"limit\":2097152},\"templateargumentsize\":{\"value\":195,\"limit\":2097152},\"expansiondepth\":{\"value\":8,\"limit\":40},\"expensivefunctioncount\":{\"value\":0,\"limit\":500},\"unstrip-depth\":{\"value\":1,\"limit\":20},\"unstrip-size\":{\"value\":11794,\"limit\":5000000},\"entityaccesscount\":{\"value\":0,\"limit\":400},\"timingprofile\":[\"100.00%  187.794      1 -total\",\" 55.51%  104.240      3 Template:Cite_web\",\" 36.20%   67.973      1 Template:Short_description\",\" 25.59%   48.056      1 Template:Pagetype\",\"  3.30%    6.202      1 Template:Canadian_postal_codes\",\"  2.09%    3.927      1 Template:Main_other\"]},\"scribunto\":{\"limitreport-timeusage\":{\"value\":\"0.081\",\"limit\":\"10.000\"},\"limitreport-memusage\":{\"value\":2441747,\"limit\":52428800}},\"cachereport\":{\"origin\":\"mw1366\",\"timestamp\":\"20200418182903\",\"ttl\":2592000,\"transientcontent\":false}}});});\\n{\"@context\":\"https:\\\\/\\\\/schema.org\",\"@type\":\"Article\",\"name\":\"List of postal codes of Canada: M\",\"url\":\"https:\\\\/\\\\/en.wikipedia.org\\\\/wiki\\\\/List_of_postal_codes_of_Canada:_M\",\"sameAs\":\"http:\\\\/\\\\/www.wikidata.org\\\\/entity\\\\/Q3248240\",\"mainEntity\":\"http:\\\\/\\\\/www.wikidata.org\\\\/entity\\\\/Q3248240\",\"author\":{\"@type\":\"Organization\",\"name\":\"Contributors to Wikimedia projects\"},\"publisher\":{\"@type\":\"Organization\",\"name\":\"Wikimedia Foundation, Inc.\",\"logo\":{\"@type\":\"ImageObject\",\"url\":\"https:\\\\/\\\\/www.wikimedia.org\\\\/static\\\\/images\\\\/wmf-hor-googpub.png\"}},\"datePublished\":\"2004-03-20T10:02:13Z\",\"dateModified\":\"2020-04-16T16:37:27Z\",\"headline\":\"Wikimedia list article\"}\\n(RLQ=window.RLQ||[]).push(function(){mw.config.set({\"wgBackendResponseTime\":113,\"wgHostname\":\"mw1330\"});});\\n'"
            ]
          },
          "metadata": {
            "tags": []
          },
          "execution_count": 12
        }
      ]
    },
    {
      "cell_type": "code",
      "metadata": {
        "id": "y1mfP-PV_Ir2",
        "colab_type": "code",
        "colab": {
          "base_uri": "https://localhost:8080/",
          "height": 133
        },
        "outputId": "fd1a774b-be3c-48c8-fb8a-06ebae8f7292"
      },
      "source": [
        "#tags"
      ],
      "execution_count": 15,
      "outputs": [
        {
          "output_type": "execute_result",
          "data": {
            "text/plain": [
              "<tr>\n",
              "<th>Postal code\n",
              "</th>\n",
              "<th>Borough\n",
              "</th>\n",
              "<th>Neighborhood\n",
              "</th></tr>"
            ]
          },
          "metadata": {
            "tags": []
          },
          "execution_count": 15
        }
      ]
    },
    {
      "cell_type": "code",
      "metadata": {
        "id": "hbvZYmxiBBNk",
        "colab_type": "code",
        "colab": {
          "base_uri": "https://localhost:8080/",
          "height": 33
        },
        "outputId": "386e247c-758f-4f11-d75e-9308af5d9993"
      },
      "source": [
        "url = input('Enter = ')\n",
        "page = requests.get(url)\n",
        "doc = lh.fromstring(page.content)\n",
        "trs = doc.xpath('//tr')"
      ],
      "execution_count": 19,
      "outputs": [
        {
          "output_type": "stream",
          "text": [
            "Enter = https://en.wikipedia.org/wiki/List_of_postal_codes_of_Canada:_M\n"
          ],
          "name": "stdout"
        }
      ]
    },
    {
      "cell_type": "code",
      "metadata": {
        "id": "syrDi95qDo5p",
        "colab_type": "code",
        "colab": {
          "base_uri": "https://localhost:8080/",
          "height": 117
        },
        "outputId": "9bb00f45-d4bf-406a-c52f-67918db8348f"
      },
      "source": [
        "trs = doc.xpath('//tr')\n",
        "li=[]\n",
        "i=0\n",
        "\n",
        "for t in trs[0]:\n",
        "    i+=1\n",
        "    name=t.text_content()\n",
        "    print ('%d:%s'%(i,name))\n",
        "    li.append((name,[]))"
      ],
      "execution_count": 76,
      "outputs": [
        {
          "output_type": "stream",
          "text": [
            "1:Postal code\n",
            "\n",
            "2:Borough\n",
            "\n",
            "3:Neighborhood\n",
            "\n"
          ],
          "name": "stdout"
        }
      ]
    },
    {
      "cell_type": "code",
      "metadata": {
        "id": "iB_c1WETDufi",
        "colab_type": "code",
        "colab": {}
      },
      "source": [
        "for j in range(1,len(trs)):\n",
        "    T=trs[j]\n",
        "    if len(T)!=3:\n",
        "        break\n",
        "    \n",
        "    i=0\n",
        "    for t in T.iterchildren():\n",
        "        data=t.text_content() \n",
        "        if i>0:\n",
        "            try:\n",
        "                data=int(data)\n",
        "            except:\n",
        "                pass\n",
        "        li[i][1].append(data)\n",
        "        i+=1"
      ],
      "execution_count": 0,
      "outputs": []
    },
    {
      "cell_type": "code",
      "metadata": {
        "id": "9P430ohVEFBR",
        "colab_type": "code",
        "colab": {}
      },
      "source": [
        "d={key:value for (key,value) in li}\n",
        "df=pd.DataFrame(d)"
      ],
      "execution_count": 0,
      "outputs": []
    },
    {
      "cell_type": "code",
      "metadata": {
        "id": "82fQwWJFEJJR",
        "colab_type": "code",
        "colab": {
          "base_uri": "https://localhost:8080/",
          "height": 197
        },
        "outputId": "a6a80e8e-5aca-4867-e432-41ff02a26cdd"
      },
      "source": [
        "df.head()"
      ],
      "execution_count": 79,
      "outputs": [
        {
          "output_type": "execute_result",
          "data": {
            "text/html": [
              "<div>\n",
              "<style scoped>\n",
              "    .dataframe tbody tr th:only-of-type {\n",
              "        vertical-align: middle;\n",
              "    }\n",
              "\n",
              "    .dataframe tbody tr th {\n",
              "        vertical-align: top;\n",
              "    }\n",
              "\n",
              "    .dataframe thead th {\n",
              "        text-align: right;\n",
              "    }\n",
              "</style>\n",
              "<table border=\"1\" class=\"dataframe\">\n",
              "  <thead>\n",
              "    <tr style=\"text-align: right;\">\n",
              "      <th></th>\n",
              "      <th>Postal code\\n</th>\n",
              "      <th>Borough\\n</th>\n",
              "      <th>Neighborhood\\n</th>\n",
              "    </tr>\n",
              "  </thead>\n",
              "  <tbody>\n",
              "    <tr>\n",
              "      <th>0</th>\n",
              "      <td>M1A\\n</td>\n",
              "      <td>Not assigned\\n</td>\n",
              "      <td>\\n</td>\n",
              "    </tr>\n",
              "    <tr>\n",
              "      <th>1</th>\n",
              "      <td>M2A\\n</td>\n",
              "      <td>Not assigned\\n</td>\n",
              "      <td>\\n</td>\n",
              "    </tr>\n",
              "    <tr>\n",
              "      <th>2</th>\n",
              "      <td>M3A\\n</td>\n",
              "      <td>North York\\n</td>\n",
              "      <td>Parkwoods\\n</td>\n",
              "    </tr>\n",
              "    <tr>\n",
              "      <th>3</th>\n",
              "      <td>M4A\\n</td>\n",
              "      <td>North York\\n</td>\n",
              "      <td>Victoria Village\\n</td>\n",
              "    </tr>\n",
              "    <tr>\n",
              "      <th>4</th>\n",
              "      <td>M5A\\n</td>\n",
              "      <td>Downtown Toronto\\n</td>\n",
              "      <td>Regent Park / Harbourfront\\n</td>\n",
              "    </tr>\n",
              "  </tbody>\n",
              "</table>\n",
              "</div>"
            ],
            "text/plain": [
              "  Postal code\\n           Borough\\n                Neighborhood\\n\n",
              "0         M1A\\n      Not assigned\\n                            \\n\n",
              "1         M2A\\n      Not assigned\\n                            \\n\n",
              "2         M3A\\n        North York\\n                   Parkwoods\\n\n",
              "3         M4A\\n        North York\\n            Victoria Village\\n\n",
              "4         M5A\\n  Downtown Toronto\\n  Regent Park / Harbourfront\\n"
            ]
          },
          "metadata": {
            "tags": []
          },
          "execution_count": 79
        }
      ]
    },
    {
      "cell_type": "code",
      "metadata": {
        "id": "APZ8kcuiEMT7",
        "colab_type": "code",
        "colab": {
          "base_uri": "https://localhost:8080/",
          "height": 197
        },
        "outputId": "55d83515-9d12-4b10-baa2-bef1a35a664e"
      },
      "source": [
        "df = df.replace('\\n',' ', regex=True)\n",
        "df.head()"
      ],
      "execution_count": 80,
      "outputs": [
        {
          "output_type": "execute_result",
          "data": {
            "text/html": [
              "<div>\n",
              "<style scoped>\n",
              "    .dataframe tbody tr th:only-of-type {\n",
              "        vertical-align: middle;\n",
              "    }\n",
              "\n",
              "    .dataframe tbody tr th {\n",
              "        vertical-align: top;\n",
              "    }\n",
              "\n",
              "    .dataframe thead th {\n",
              "        text-align: right;\n",
              "    }\n",
              "</style>\n",
              "<table border=\"1\" class=\"dataframe\">\n",
              "  <thead>\n",
              "    <tr style=\"text-align: right;\">\n",
              "      <th></th>\n",
              "      <th>Postal code\\n</th>\n",
              "      <th>Borough\\n</th>\n",
              "      <th>Neighborhood\\n</th>\n",
              "    </tr>\n",
              "  </thead>\n",
              "  <tbody>\n",
              "    <tr>\n",
              "      <th>0</th>\n",
              "      <td>M1A</td>\n",
              "      <td>Not assigned</td>\n",
              "      <td></td>\n",
              "    </tr>\n",
              "    <tr>\n",
              "      <th>1</th>\n",
              "      <td>M2A</td>\n",
              "      <td>Not assigned</td>\n",
              "      <td></td>\n",
              "    </tr>\n",
              "    <tr>\n",
              "      <th>2</th>\n",
              "      <td>M3A</td>\n",
              "      <td>North York</td>\n",
              "      <td>Parkwoods</td>\n",
              "    </tr>\n",
              "    <tr>\n",
              "      <th>3</th>\n",
              "      <td>M4A</td>\n",
              "      <td>North York</td>\n",
              "      <td>Victoria Village</td>\n",
              "    </tr>\n",
              "    <tr>\n",
              "      <th>4</th>\n",
              "      <td>M5A</td>\n",
              "      <td>Downtown Toronto</td>\n",
              "      <td>Regent Park / Harbourfront</td>\n",
              "    </tr>\n",
              "  </tbody>\n",
              "</table>\n",
              "</div>"
            ],
            "text/plain": [
              "  Postal code\\n          Borough\\n               Neighborhood\\n\n",
              "0          M1A       Not assigned                              \n",
              "1          M2A       Not assigned                              \n",
              "2          M3A         North York                    Parkwoods \n",
              "3          M4A         North York             Victoria Village \n",
              "4          M5A   Downtown Toronto   Regent Park / Harbourfront "
            ]
          },
          "metadata": {
            "tags": []
          },
          "execution_count": 80
        }
      ]
    },
    {
      "cell_type": "code",
      "metadata": {
        "id": "Gy-ZzGJpEaMo",
        "colab_type": "code",
        "colab": {
          "base_uri": "https://localhost:8080/",
          "height": 197
        },
        "outputId": "4e260a50-bdef-4a4d-f1fd-979187310aaf"
      },
      "source": [
        "df.columns = ['Postal code','Borough','Neighborhood']\n",
        "df.drop(df.index[df['Borough'] == 'Not assigned '], inplace = True) #remember whitespace after Not assigned\n",
        "df = df.reset_index(drop=True)\n",
        "df.head()"
      ],
      "execution_count": 81,
      "outputs": [
        {
          "output_type": "execute_result",
          "data": {
            "text/html": [
              "<div>\n",
              "<style scoped>\n",
              "    .dataframe tbody tr th:only-of-type {\n",
              "        vertical-align: middle;\n",
              "    }\n",
              "\n",
              "    .dataframe tbody tr th {\n",
              "        vertical-align: top;\n",
              "    }\n",
              "\n",
              "    .dataframe thead th {\n",
              "        text-align: right;\n",
              "    }\n",
              "</style>\n",
              "<table border=\"1\" class=\"dataframe\">\n",
              "  <thead>\n",
              "    <tr style=\"text-align: right;\">\n",
              "      <th></th>\n",
              "      <th>Postal code</th>\n",
              "      <th>Borough</th>\n",
              "      <th>Neighborhood</th>\n",
              "    </tr>\n",
              "  </thead>\n",
              "  <tbody>\n",
              "    <tr>\n",
              "      <th>0</th>\n",
              "      <td>M3A</td>\n",
              "      <td>North York</td>\n",
              "      <td>Parkwoods</td>\n",
              "    </tr>\n",
              "    <tr>\n",
              "      <th>1</th>\n",
              "      <td>M4A</td>\n",
              "      <td>North York</td>\n",
              "      <td>Victoria Village</td>\n",
              "    </tr>\n",
              "    <tr>\n",
              "      <th>2</th>\n",
              "      <td>M5A</td>\n",
              "      <td>Downtown Toronto</td>\n",
              "      <td>Regent Park / Harbourfront</td>\n",
              "    </tr>\n",
              "    <tr>\n",
              "      <th>3</th>\n",
              "      <td>M6A</td>\n",
              "      <td>North York</td>\n",
              "      <td>Lawrence Manor / Lawrence Heights</td>\n",
              "    </tr>\n",
              "    <tr>\n",
              "      <th>4</th>\n",
              "      <td>M7A</td>\n",
              "      <td>Downtown Toronto</td>\n",
              "      <td>Queen's Park / Ontario Provincial Government</td>\n",
              "    </tr>\n",
              "  </tbody>\n",
              "</table>\n",
              "</div>"
            ],
            "text/plain": [
              "  Postal code            Borough                                   Neighborhood\n",
              "0        M3A         North York                                      Parkwoods \n",
              "1        M4A         North York                               Victoria Village \n",
              "2        M5A   Downtown Toronto                     Regent Park / Harbourfront \n",
              "3        M6A         North York              Lawrence Manor / Lawrence Heights \n",
              "4        M7A   Downtown Toronto   Queen's Park / Ontario Provincial Government "
            ]
          },
          "metadata": {
            "tags": []
          },
          "execution_count": 81
        }
      ]
    },
    {
      "cell_type": "code",
      "metadata": {
        "id": "kiEXTYypMFtN",
        "colab_type": "code",
        "colab": {
          "base_uri": "https://localhost:8080/",
          "height": 33
        },
        "outputId": "367583ed-5285-486a-85f6-e9f1b59018dd"
      },
      "source": [
        "df.shape"
      ],
      "execution_count": 82,
      "outputs": [
        {
          "output_type": "execute_result",
          "data": {
            "text/plain": [
              "(104, 3)"
            ]
          },
          "metadata": {
            "tags": []
          },
          "execution_count": 82
        }
      ]
    },
    {
      "cell_type": "code",
      "metadata": {
        "id": "s3wlmNTZMwmo",
        "colab_type": "code",
        "colab": {}
      },
      "source": [
        "df['Neighborhood'] = df['Neighborhood'].str.strip()"
      ],
      "execution_count": 0,
      "outputs": []
    },
    {
      "cell_type": "code",
      "metadata": {
        "colab_type": "code",
        "outputId": "4679a841-d072-4867-92a6-730feb47ecf9",
        "id": "lGsg4TfmOX1D",
        "colab": {
          "base_uri": "https://localhost:8080/",
          "height": 197
        }
      },
      "source": [
        "df.tail()"
      ],
      "execution_count": 85,
      "outputs": [
        {
          "output_type": "execute_result",
          "data": {
            "text/html": [
              "<div>\n",
              "<style scoped>\n",
              "    .dataframe tbody tr th:only-of-type {\n",
              "        vertical-align: middle;\n",
              "    }\n",
              "\n",
              "    .dataframe tbody tr th {\n",
              "        vertical-align: top;\n",
              "    }\n",
              "\n",
              "    .dataframe thead th {\n",
              "        text-align: right;\n",
              "    }\n",
              "</style>\n",
              "<table border=\"1\" class=\"dataframe\">\n",
              "  <thead>\n",
              "    <tr style=\"text-align: right;\">\n",
              "      <th></th>\n",
              "      <th>Postal code</th>\n",
              "      <th>Borough</th>\n",
              "      <th>Neighborhood</th>\n",
              "    </tr>\n",
              "  </thead>\n",
              "  <tbody>\n",
              "    <tr>\n",
              "      <th>99</th>\n",
              "      <td>M4Y</td>\n",
              "      <td>Downtown Toronto</td>\n",
              "      <td>Church and Wellesley</td>\n",
              "    </tr>\n",
              "    <tr>\n",
              "      <th>100</th>\n",
              "      <td>M7Y</td>\n",
              "      <td>East Toronto</td>\n",
              "      <td>Business reply mail Processing CentrE</td>\n",
              "    </tr>\n",
              "    <tr>\n",
              "      <th>101</th>\n",
              "      <td>M8Y</td>\n",
              "      <td>Etobicoke</td>\n",
              "      <td>Old Mill South / King's Mill Park / Sunnylea /...</td>\n",
              "    </tr>\n",
              "    <tr>\n",
              "      <th>102</th>\n",
              "      <td>M8Z</td>\n",
              "      <td>Etobicoke</td>\n",
              "      <td>Mimico NW / The Queensway West / South of Bloo...</td>\n",
              "    </tr>\n",
              "    <tr>\n",
              "      <th>103</th>\n",
              "      <td></td>\n",
              "      <td>Canadian postal codes</td>\n",
              "      <td></td>\n",
              "    </tr>\n",
              "  </tbody>\n",
              "</table>\n",
              "</div>"
            ],
            "text/plain": [
              "    Postal code  ...                                       Neighborhood\n",
              "99         M4Y   ...                               Church and Wellesley\n",
              "100        M7Y   ...              Business reply mail Processing CentrE\n",
              "101        M8Y   ...  Old Mill South / King's Mill Park / Sunnylea /...\n",
              "102        M8Z   ...  Mimico NW / The Queensway West / South of Bloo...\n",
              "103              ...                                                   \n",
              "\n",
              "[5 rows x 3 columns]"
            ]
          },
          "metadata": {
            "tags": []
          },
          "execution_count": 85
        }
      ]
    },
    {
      "cell_type": "code",
      "metadata": {
        "id": "1isKS5NqNbQr",
        "colab_type": "code",
        "colab": {}
      },
      "source": [
        "df.drop(df.index[df.Neighborhood ==''],inplace = True)"
      ],
      "execution_count": 0,
      "outputs": []
    },
    {
      "cell_type": "code",
      "metadata": {
        "id": "pETHFDvGNRkq",
        "colab_type": "code",
        "outputId": "a1a09020-a3d3-47f7-eb8c-35e5596859f0",
        "colab": {
          "base_uri": "https://localhost:8080/",
          "height": 197
        }
      },
      "source": [
        "df.tail()"
      ],
      "execution_count": 87,
      "outputs": [
        {
          "output_type": "execute_result",
          "data": {
            "text/html": [
              "<div>\n",
              "<style scoped>\n",
              "    .dataframe tbody tr th:only-of-type {\n",
              "        vertical-align: middle;\n",
              "    }\n",
              "\n",
              "    .dataframe tbody tr th {\n",
              "        vertical-align: top;\n",
              "    }\n",
              "\n",
              "    .dataframe thead th {\n",
              "        text-align: right;\n",
              "    }\n",
              "</style>\n",
              "<table border=\"1\" class=\"dataframe\">\n",
              "  <thead>\n",
              "    <tr style=\"text-align: right;\">\n",
              "      <th></th>\n",
              "      <th>Postal code</th>\n",
              "      <th>Borough</th>\n",
              "      <th>Neighborhood</th>\n",
              "    </tr>\n",
              "  </thead>\n",
              "  <tbody>\n",
              "    <tr>\n",
              "      <th>98</th>\n",
              "      <td>M8X</td>\n",
              "      <td>Etobicoke</td>\n",
              "      <td>The Kingsway / Montgomery Road  / Old Mill North</td>\n",
              "    </tr>\n",
              "    <tr>\n",
              "      <th>99</th>\n",
              "      <td>M4Y</td>\n",
              "      <td>Downtown Toronto</td>\n",
              "      <td>Church and Wellesley</td>\n",
              "    </tr>\n",
              "    <tr>\n",
              "      <th>100</th>\n",
              "      <td>M7Y</td>\n",
              "      <td>East Toronto</td>\n",
              "      <td>Business reply mail Processing CentrE</td>\n",
              "    </tr>\n",
              "    <tr>\n",
              "      <th>101</th>\n",
              "      <td>M8Y</td>\n",
              "      <td>Etobicoke</td>\n",
              "      <td>Old Mill South / King's Mill Park / Sunnylea /...</td>\n",
              "    </tr>\n",
              "    <tr>\n",
              "      <th>102</th>\n",
              "      <td>M8Z</td>\n",
              "      <td>Etobicoke</td>\n",
              "      <td>Mimico NW / The Queensway West / South of Bloo...</td>\n",
              "    </tr>\n",
              "  </tbody>\n",
              "</table>\n",
              "</div>"
            ],
            "text/plain": [
              "    Postal code  ...                                       Neighborhood\n",
              "98         M8X   ...   The Kingsway / Montgomery Road  / Old Mill North\n",
              "99         M4Y   ...                               Church and Wellesley\n",
              "100        M7Y   ...              Business reply mail Processing CentrE\n",
              "101        M8Y   ...  Old Mill South / King's Mill Park / Sunnylea /...\n",
              "102        M8Z   ...  Mimico NW / The Queensway West / South of Bloo...\n",
              "\n",
              "[5 rows x 3 columns]"
            ]
          },
          "metadata": {
            "tags": []
          },
          "execution_count": 87
        }
      ]
    },
    {
      "cell_type": "code",
      "metadata": {
        "colab_type": "code",
        "outputId": "b489856a-5a86-426f-8e7a-4b5a12d70ccb",
        "id": "FmQ3dJtlOaD3",
        "colab": {
          "base_uri": "https://localhost:8080/",
          "height": 33
        }
      },
      "source": [
        "df.shape"
      ],
      "execution_count": 88,
      "outputs": [
        {
          "output_type": "execute_result",
          "data": {
            "text/plain": [
              "(103, 3)"
            ]
          },
          "metadata": {
            "tags": []
          },
          "execution_count": 88
        }
      ]
    },
    {
      "cell_type": "code",
      "metadata": {
        "id": "ZIlswo5sN-i9",
        "colab_type": "code",
        "colab": {}
      },
      "source": [
        "df.to_csv('toronto_data_wiki.csv')"
      ],
      "execution_count": 0,
      "outputs": []
    }
  ]
}