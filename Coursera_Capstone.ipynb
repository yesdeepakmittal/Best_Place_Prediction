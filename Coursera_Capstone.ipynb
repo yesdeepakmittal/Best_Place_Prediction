{
  "nbformat": 4,
  "nbformat_minor": 0,
  "metadata": {
    "colab": {
      "name": "Coursera_Capstone",
      "provenance": [],
      "authorship_tag": "ABX9TyPEuQn70nO8PCqJ6wjQ4QvY"
    },
    "kernelspec": {
      "name": "python3",
      "display_name": "Python 3"
    }
  },
  "cells": [
    {
      "cell_type": "markdown",
      "metadata": {
        "id": "cqNfS6q64kVq",
        "colab_type": "text"
      },
      "source": [
        "This repository is a part of assignment of one my course on Coursera. I prepared it to be reviewed by my fellow learners in a given task. "
      ]
    },
    {
      "cell_type": "code",
      "metadata": {
        "id": "L-X7IL914d9o",
        "colab_type": "code",
        "colab": {}
      },
      "source": [
        "import numpy as np\n",
        "import pandas as pd"
      ],
      "execution_count": 0,
      "outputs": []
    },
    {
      "cell_type": "code",
      "metadata": {
        "id": "hpUhZEVZ47a3",
        "colab_type": "code",
        "colab": {
          "base_uri": "https://localhost:8080/",
          "height": 33
        },
        "outputId": "de9dfa37-2cf5-4ea9-c8b7-40036b93c8ae"
      },
      "source": [
        "print('Hello Capstone Project Course!')"
      ],
      "execution_count": 2,
      "outputs": [
        {
          "output_type": "stream",
          "text": [
            "Hello Capstone Project Course!\n"
          ],
          "name": "stdout"
        }
      ]
    },
    {
      "cell_type": "code",
      "metadata": {
        "id": "NB9K_aYr5SJa",
        "colab_type": "code",
        "colab": {}
      },
      "source": [
        ""
      ],
      "execution_count": 0,
      "outputs": []
    }
  ]
}